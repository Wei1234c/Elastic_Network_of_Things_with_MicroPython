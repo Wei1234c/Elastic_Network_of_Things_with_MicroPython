{
 "cells": [
  {
   "cell_type": "markdown",
   "metadata": {},
   "source": [
    "# Neural network test"
   ]
  },
  {
   "cell_type": "code",
   "execution_count": 1,
   "metadata": {
    "collapsed": true
   },
   "outputs": [],
   "source": [
    "import os\n",
    "import sys\n",
    "import time\n",
    " \n",
    "sys.path.append(os.path.abspath(os.path.join(os.path.pardir, 'codes', 'client')))\n",
    "sys.path.append(os.path.abspath(os.path.join(os.path.pardir, 'codes', 'node')))\n",
    "sys.path.append(os.path.abspath(os.path.join(os.path.pardir, 'codes', 'shared')))\n",
    "sys.path.append(os.path.abspath(os.path.join(os.path.pardir, 'codes', 'micropython')))\n",
    " \n",
    "import client\n",
    "from collections import OrderedDict"
   ]
  },
  {
   "cell_type": "code",
   "execution_count": 2,
   "metadata": {
    "collapsed": false
   },
   "outputs": [],
   "source": [
    "import pandas as pd\n",
    "from pandas import DataFrame\n",
    "from time import sleep\n",
    "REFRACTORY_PERIOD = 0.1   # 0.1 seconds"
   ]
  },
  {
   "cell_type": "code",
   "execution_count": 23,
   "metadata": {
    "collapsed": true
   },
   "outputs": [],
   "source": [
    "# 每個 ESP8266模組 各代表一個 neurons\n",
    "# neurons = ['neuron_x1', 'neuron_x2', 'neuron_h1', 'neuron_h2', 'neuron_h3', 'neuron_y'] \n",
    "neurons = ['neuron_x1', 'neuron_x2'] "
   ]
  },
  {
   "cell_type": "markdown",
   "metadata": {},
   "source": [
    "## Start client"
   ]
  },
  {
   "cell_type": "code",
   "execution_count": 4,
   "metadata": {
    "collapsed": false
   },
   "outputs": [
    {
     "name": "stdout",
     "output_type": "stream",
     "text": [
      "My name is Client_366\n",
      "\n",
      "[connected: ('192.168.0.100', 9662)]\n",
      "Sending 305 bytes\n",
      "Message:\n",
      "OrderedDict([('command', 'set connection name'), ('correlation_id', '2017-01-30 18:41:47.523600'), ('kwargs', {'name': 'Client_366'}), ('message_id', '2017-01-30 18:41:47.523600'), ('need_result', True), ('receiver', 'Hub'), ('reply_to', 'Client_366'), ('sender', 'Client_366'), ('type', 'command')])\n",
      "\n",
      "[Listen to messages]\n",
      "\n",
      "Data received: 401 bytes\n",
      "Message:\n",
      "OrderedDict([('correlation_id', '2017-01-30 18:41:47.523600'), ('message_id', '2017-01-30 18:41:47.632800'), ('receiver', 'Client_366'), ('reply_to', 'Hub'), ('result', {'NodeMCU_f1d30800': \"('192.168.0.103', 30406)\", 'Client_366': \"('192.168.0.100', 56066)\", 'NodeMCU_1dsc000': \"('192.168.0.104', 32406)\"}), ('sender', 'Hub'), ('time_stamp', '2017-01-30 18:41:47.632800'), ('type', 'result')])\n",
      "\n",
      "Node not ready yet.\n"
     ]
    }
   ],
   "source": [
    "the_client = client.Client()\n",
    "the_client.start()\n",
    "\n",
    "while not the_client.status['Is connected']:            \n",
    "    time.sleep(1)\n",
    "    print('Node not ready yet.')"
   ]
  },
  {
   "cell_type": "markdown",
   "metadata": {},
   "source": [
    "## Utilities"
   ]
  },
  {
   "cell_type": "markdown",
   "metadata": {},
   "source": [
    "### List nodes"
   ]
  },
  {
   "cell_type": "code",
   "execution_count": 5,
   "metadata": {
    "collapsed": false
   },
   "outputs": [],
   "source": [
    "# Ask Hub for a list of connected nodes\n",
    "def list_nodes():\n",
    "    message = {'type': 'command',\n",
    "                       'command': 'list connections by name',\n",
    "                       'need_result': True}     \n",
    "\n",
    "    _, asynch_result = the_client.request('Hub', message) \n",
    "\n",
    "    try:\n",
    "        remote_nodes = sorted(list(asynch_result.get().keys()))\n",
    "\n",
    "        print ('\\n[____________ Connected nodes ____________]\\n')        \n",
    "        print('\\nConnected nodes:\\n{}\\n'.format(remote_nodes)) \n",
    "        \n",
    "        return remote_nodes\n",
    "\n",
    "    except Exception as e:\n",
    "        print(e)"
   ]
  },
  {
   "cell_type": "code",
   "execution_count": 6,
   "metadata": {
    "collapsed": false
   },
   "outputs": [
    {
     "name": "stdout",
     "output_type": "stream",
     "text": [
      "\n",
      "Data received: 166 bytes\n",
      "Message:\n",
      "OrderedDict([('info', 'Just check to see if you are still there. No reply needed.'), ('receiver', 'all workers'), ('sender', 'Hub'), ('type', 'info')])\n",
      "\n"
     ]
    }
   ],
   "source": [
    "def reset_node(node):\n",
    "    message = {'type': 'exec',\n",
    "               'to_exec': 'import machine;machine.reset()'}\n",
    "    the_client.request(node, message) "
   ]
  },
  {
   "cell_type": "code",
   "execution_count": 7,
   "metadata": {
    "collapsed": false
   },
   "outputs": [],
   "source": [
    "# reset_node('neuron_x1')"
   ]
  },
  {
   "cell_type": "code",
   "execution_count": 8,
   "metadata": {
    "collapsed": false
   },
   "outputs": [],
   "source": [
    "def rename_node(node, new_name):\n",
    "    message = {'type': 'function',\n",
    "               'function': 'rename',\n",
    "               'kwargs': {'name': new_name}}\n",
    "    the_client.request(node, message) \n",
    "    \n",
    "    message = {'type': 'function',\n",
    "               'function': 'set_connection_name'}\n",
    "    the_client.request(node, message) \n",
    "    \n",
    "\n",
    "def rename_nodes(nodes, neurons):    \n",
    "    i = 0 \n",
    "    for node in nodes:\n",
    "        if node != the_client.node.worker.name:  # exclude client self\n",
    "            rename_node(node, neurons[i])\n",
    "            i += 1"
   ]
  },
  {
   "cell_type": "code",
   "execution_count": 9,
   "metadata": {
    "collapsed": false
   },
   "outputs": [],
   "source": [
    "def fire(node):\n",
    "    message = {'type': 'function',\n",
    "               'function': 'fire'}\n",
    "    the_client.request(node, message) \n",
    "\n",
    "def addConnection(node, neuron):\n",
    "    message = {'type': 'function',\n",
    "               'function': 'addConnection',\n",
    "               'kwargs': {'neuron_id': neuron}}\n",
    "    the_client.request(node, message) \n",
    "    \n",
    "def set_connections(node, connections):\n",
    "    message = {'type': 'function',\n",
    "               'function': 'setConnections',\n",
    "               'kwargs': {'connections': connections}}\n",
    "    the_client.request(node, message)     \n",
    "    \n",
    "def get_connections(node):\n",
    "    message = {'type': 'function',\n",
    "               'function': 'getConnections', \n",
    "               'need_result': True}\n",
    "    _, result = the_client.request(node, message) \n",
    "    return result.get()    \n",
    "\n",
    "def setWeight(node, neuron, weight):\n",
    "    message = {'type': 'function',\n",
    "               'function': 'setWeight',\n",
    "               'kwargs': {'neuron_id': neuron,\n",
    "                          'weight': weight,}}\n",
    "    the_client.request(node, message) \n",
    "\n",
    "def setThreshold(node, threshold):\n",
    "    message = {'type': 'function',\n",
    "               'function': 'setThreshold',\n",
    "               'kwargs': {'threshold': threshold}}\n",
    "    the_client.request(node, message) \n",
    "        \n",
    "def getConfig(node):\n",
    "    message = {'type': 'function',\n",
    "               'function': 'getConfig', \n",
    "               'need_result': True}\n",
    "    _, result = the_client.request(node, message) \n",
    "    return result.get()\n",
    "\n",
    "def getLog(node):\n",
    "    message = {'type': 'function',\n",
    "               'function': 'getLog', \n",
    "               'need_result': True}\n",
    "    _, result = the_client.request(node, message) \n",
    "    return result.get()\n",
    "\n",
    "def emptyLog(node):\n",
    "    message = {'type': 'function',\n",
    "               'function': 'emptyLog'}\n",
    "    the_client.request(node, message)\n",
    "    \n",
    "def emptyLogs():\n",
    "    for neuron in neurons:\n",
    "        emptyLog(neuron) \n",
    "        \n",
    "# 彙整logs。將所有 neurons 中的 logs merge 在一起，成為一個 Pandas.DataFrame\n",
    "def mergeLogs():\n",
    "    logs = []\n",
    "    \n",
    "    for neuron in neurons:\n",
    "        if neuron != the_client.node.worker.name:  # exclude client self\n",
    "            currentLog = getLog(neuron)\n",
    "            if currentLog:\n",
    "                logs += currentLog \n",
    "            \n",
    "    df = DataFrame(list(logs), columns = ['time', 'neuron', 'message']) \n",
    "    df.set_index('time', inplace = True)\n",
    "    df.sort_index(inplace = True)\n",
    "    \n",
    "    return df        "
   ]
  },
  {
   "cell_type": "code",
   "execution_count": 10,
   "metadata": {
    "collapsed": false
   },
   "outputs": [],
   "source": [
    "# print 出 一個 neuron 中的 Log\n",
    "def printConfig(neuron):\n",
    "    print('{0:_^78}\\n {1}\\n'.format(neuron + \" config:\", getConfig(neuron)))"
   ]
  },
  {
   "cell_type": "markdown",
   "metadata": {},
   "source": [
    "## 設定 network config"
   ]
  },
  {
   "cell_type": "markdown",
   "metadata": {},
   "source": [
    "### Rename nodes"
   ]
  },
  {
   "cell_type": "code",
   "execution_count": 11,
   "metadata": {
    "collapsed": false
   },
   "outputs": [
    {
     "name": "stdout",
     "output_type": "stream",
     "text": [
      "Sending 276 bytes\n",
      "Message:\n",
      "OrderedDict([('command', 'list connections by name'), ('correlation_id', '2017-01-30 18:41:49.620800'), ('message_id', '2017-01-30 18:41:49.620800'), ('need_result', True), ('receiver', 'Hub'), ('reply_to', 'Client_366'), ('sender', 'Client_366'), ('type', 'command')])\n",
      "\n",
      "\n",
      "Data received: 401 bytes\n",
      "Message:\n",
      "OrderedDict([('correlation_id', '2017-01-30 18:41:49.620800'), ('message_id', '2017-01-30 18:41:49.698800'), ('receiver', 'Client_366'), ('reply_to', 'Hub'), ('result', {'NodeMCU_f1d30800': \"('192.168.0.103', 30406)\", 'Client_366': \"('192.168.0.100', 56066)\", 'NodeMCU_1dsc000': \"('192.168.0.104', 32406)\"}), ('sender', 'Hub'), ('time_stamp', '2017-01-30 18:41:49.698800'), ('type', 'result')])\n",
      "\n",
      "\n",
      "[____________ Connected nodes ____________]\n",
      "\n",
      "\n",
      "Connected nodes:\n",
      "['Client_366', 'NodeMCU_1dsc000', 'NodeMCU_f1d30800']\n",
      "\n",
      "Sending 284 bytes\n",
      "Message:\n",
      "OrderedDict([('correlation_id', '2017-01-30 18:41:49.792400'), ('function', 'rename'), ('kwargs', {'name': 'neuron_x1'}), ('message_id', '2017-01-30 18:41:49.792400'), ('receiver', 'NodeMCU_1dsc000'), ('reply_to', 'Client_366'), ('sender', 'Client_366'), ('type', 'function')])\n",
      "\n",
      "Sending 264 bytes\n",
      "Message:\n",
      "OrderedDict([('correlation_id', '2017-01-30 18:41:49.907600'), ('function', 'set_connection_name'), ('message_id', '2017-01-30 18:41:49.907600'), ('receiver', 'NodeMCU_1dsc000'), ('reply_to', 'Client_366'), ('sender', 'Client_366'), ('type', 'function')])\n",
      "\n",
      "Sending 285 bytes\n",
      "Message:\n",
      "OrderedDict([('correlation_id', '2017-01-30 18:41:50.005000'), ('function', 'rename'), ('kwargs', {'name': 'neuron_x2'}), ('message_id', '2017-01-30 18:41:50.005000'), ('receiver', 'NodeMCU_f1d30800'), ('reply_to', 'Client_366'), ('sender', 'Client_366'), ('type', 'function')])\n",
      "\n",
      "Sending 265 bytes\n",
      "Message:\n",
      "OrderedDict([('correlation_id', '2017-01-30 18:41:50.079100'), ('function', 'set_connection_name'), ('message_id', '2017-01-30 18:41:50.079100'), ('receiver', 'NodeMCU_f1d30800'), ('reply_to', 'Client_366'), ('sender', 'Client_366'), ('type', 'function')])\n",
      "\n",
      "Sending 276 bytes\n",
      "Message:\n",
      "OrderedDict([('command', 'list connections by name'), ('correlation_id', '2017-01-30 18:41:52.147300'), ('message_id', '2017-01-30 18:41:52.147300'), ('need_result', True), ('receiver', 'Hub'), ('reply_to', 'Client_366'), ('sender', 'Client_366'), ('type', 'command')])\n",
      "\n",
      "\n",
      "Data received: 388 bytes\n",
      "Message:\n",
      "OrderedDict([('correlation_id', '2017-01-30 18:41:52.147300'), ('message_id', '2017-01-30 18:41:52.225300'), ('receiver', 'Client_366'), ('reply_to', 'Hub'), ('result', {'Client_366': \"('192.168.0.100', 56066)\", 'neuron_x1': \"('192.168.0.104', 32406)\", 'neuron_x2': \"('192.168.0.103', 30406)\"}), ('sender', 'Hub'), ('time_stamp', '2017-01-30 18:41:52.225300'), ('type', 'result')])\n",
      "\n",
      "\n",
      "[____________ Connected nodes ____________]\n",
      "\n",
      "\n",
      "Connected nodes:\n",
      "['Client_366', 'neuron_x1', 'neuron_x2']\n",
      "\n"
     ]
    }
   ],
   "source": [
    "remote_nodes = list_nodes() \n",
    "rename_nodes(remote_nodes, neurons)\n",
    "time.sleep(2)\n",
    "remote_nodes = list_nodes()"
   ]
  },
  {
   "cell_type": "markdown",
   "metadata": {},
   "source": [
    "### 清空 log files"
   ]
  },
  {
   "cell_type": "code",
   "execution_count": 12,
   "metadata": {
    "collapsed": false
   },
   "outputs": [
    {
     "name": "stdout",
     "output_type": "stream",
     "text": [
      "Sending 247 bytes\n",
      "Message:\n",
      "OrderedDict([('correlation_id', '2017-01-30 18:41:52.334500'), ('function', 'emptyLog'), ('message_id', '2017-01-30 18:41:52.334500'), ('receiver', 'neuron_x1'), ('reply_to', 'Client_366'), ('sender', 'Client_366'), ('type', 'function')])\n",
      "\n",
      "Sending 247 bytes\n",
      "Message:\n",
      "OrderedDict([('correlation_id', '2017-01-30 18:41:52.455100'), ('function', 'emptyLog'), ('message_id', '2017-01-30 18:41:52.455100'), ('receiver', 'neuron_x2'), ('reply_to', 'Client_366'), ('sender', 'Client_366'), ('type', 'function')])\n",
      "\n"
     ]
    }
   ],
   "source": [
    "# 清除所有 neurons 中的 logs  \n",
    "emptyLogs()"
   ]
  },
  {
   "cell_type": "markdown",
   "metadata": {
    "collapsed": true
   },
   "source": [
    "### 設定 connections"
   ]
  },
  {
   "cell_type": "code",
   "execution_count": 13,
   "metadata": {
    "collapsed": false
   },
   "outputs": [
    {
     "name": "stdout",
     "output_type": "stream",
     "text": [
      "Sending 290 bytes\n",
      "Message:\n",
      "OrderedDict([('correlation_id', '2017-01-30 18:41:52.673700'), ('function', 'addConnection'), ('kwargs', {'neuron_id': 'neuron_x2'}), ('message_id', '2017-01-30 18:41:52.673700'), ('receiver', 'neuron_x1'), ('reply_to', 'Client_366'), ('sender', 'Client_366'), ('type', 'function')])\n",
      "\n",
      "Sending 269 bytes\n",
      "Message:\n",
      "OrderedDict([('correlation_id', '2017-01-30 18:41:52.751700'), ('function', 'getConfig'), ('message_id', '2017-01-30 18:41:52.751700'), ('need_result', True), ('receiver', 'neuron_x1'), ('reply_to', 'Client_366'), ('sender', 'Client_366'), ('type', 'function')])\n",
      "\n",
      "\n",
      "Data received: 381 bytes\n",
      "Message:\n",
      "OrderedDict([('correlation_id', '2017-01-30 18:41:52.751700'), ('message_id', '20713'), ('receiver', 'Client_366'), ('reply_to', 'neuron_x1'), ('result', {'output': {'value': 0, 'polarized_time': 3745, 'lasting': 99.99997}, 'inputs': {}, 'connections': {'neuron_x2': 'neuron_x2'}}), ('sender', 'neuron_x1'), ('time_stamp', '2017-01-30 18:41:53.323500'), ('type', 'result')])\n",
      "\n"
     ]
    },
    {
     "data": {
      "text/plain": [
       "{'connections': {'neuron_x2': 'neuron_x2'},\n",
       " 'inputs': {},\n",
       " 'output': {'lasting': 99.99997, 'polarized_time': 3745, 'value': 0}}"
      ]
     },
     "execution_count": 13,
     "metadata": {},
     "output_type": "execute_result"
    }
   ],
   "source": [
    "addConnection('neuron_x1', 'neuron_x2')\n",
    "getConfig('neuron_x1')"
   ]
  },
  {
   "cell_type": "markdown",
   "metadata": {},
   "source": [
    "### 設定 weights"
   ]
  },
  {
   "cell_type": "code",
   "execution_count": 14,
   "metadata": {
    "collapsed": false
   },
   "outputs": [
    {
     "name": "stdout",
     "output_type": "stream",
     "text": [
      "Sending 299 bytes\n",
      "Message:\n",
      "OrderedDict([('correlation_id', '2017-01-30 18:41:53.908900'), ('function', 'setWeight'), ('kwargs', {'weight': 1, 'neuron_id': 'neuron_x1'}), ('message_id', '2017-01-30 18:41:53.908900'), ('receiver', 'neuron_x2'), ('reply_to', 'Client_366'), ('sender', 'Client_366'), ('type', 'function')])\n",
      "\n"
     ]
    }
   ],
   "source": [
    "# hidden layer\n",
    "setWeight('neuron_x2', 'neuron_x1', 1)  # 設定 neuron_x -> neuron_h1 的 weight = 1"
   ]
  },
  {
   "cell_type": "markdown",
   "metadata": {},
   "source": [
    "### 設定 thresholds"
   ]
  },
  {
   "cell_type": "code",
   "execution_count": 15,
   "metadata": {
    "collapsed": false
   },
   "outputs": [
    {
     "name": "stdout",
     "output_type": "stream",
     "text": [
      "Sending 281 bytes\n",
      "Message:\n",
      "OrderedDict([('correlation_id', '2017-01-30 18:41:54.138500'), ('function', 'setThreshold'), ('kwargs', {'threshold': 0.9}), ('message_id', '2017-01-30 18:41:54.138500'), ('receiver', 'neuron_x2'), ('reply_to', 'Client_366'), ('sender', 'Client_366'), ('type', 'function')])\n",
      "\n"
     ]
    }
   ],
   "source": [
    "# input layer \n",
    "setThreshold('neuron_x2', 0.9)"
   ]
  },
  {
   "cell_type": "markdown",
   "metadata": {},
   "source": [
    "### 模擬 sensor input，然後查看各 neurons 的 output 狀態\n",
    "一個 neuron fire 之後，如果沒有持續的輸入可維持 fire 的狀態，則過 5 秒鐘之 neuron 的 output 一定為 0"
   ]
  },
  {
   "cell_type": "code",
   "execution_count": 16,
   "metadata": {
    "collapsed": false
   },
   "outputs": [
    {
     "name": "stdout",
     "output_type": "stream",
     "text": [
      "Sending 243 bytes\n",
      "Message:\n",
      "OrderedDict([('correlation_id', '2017-01-30 18:41:54.322700'), ('function', 'fire'), ('message_id', '2017-01-30 18:41:54.322700'), ('receiver', 'neuron_x1'), ('reply_to', 'Client_366'), ('sender', 'Client_366'), ('type', 'function')])\n",
      "\n"
     ]
    }
   ],
   "source": [
    "fire('neuron_x1')"
   ]
  },
  {
   "cell_type": "code",
   "execution_count": 17,
   "metadata": {
    "collapsed": false
   },
   "outputs": [
    {
     "name": "stdout",
     "output_type": "stream",
     "text": [
      "Sending 247 bytes\n",
      "Message:\n",
      "OrderedDict([('correlation_id', '2017-01-30 18:41:54.504500'), ('function', 'emptyLog'), ('message_id', '2017-01-30 18:41:54.504500'), ('receiver', 'neuron_x1'), ('reply_to', 'Client_366'), ('sender', 'Client_366'), ('type', 'function')])\n",
      "\n",
      "Sending 247 bytes\n",
      "Message:\n",
      "OrderedDict([('correlation_id', '2017-01-30 18:41:54.573700'), ('function', 'emptyLog'), ('message_id', '2017-01-30 18:41:54.573700'), ('receiver', 'neuron_x2'), ('reply_to', 'Client_366'), ('sender', 'Client_366'), ('type', 'function')])\n",
      "\n",
      "Sending 266 bytes\n",
      "Message:\n",
      "OrderedDict([('correlation_id', '2017-01-30 18:41:54.723300'), ('function', 'getLog'), ('message_id', '2017-01-30 18:41:54.723300'), ('need_result', True), ('receiver', 'neuron_x1'), ('reply_to', 'Client_366'), ('sender', 'Client_366'), ('type', 'function')])\n",
      "\n",
      "\n",
      "Data received: 243 bytes\n",
      "Message:\n",
      "OrderedDict([('correlation_id', '2017-01-30 18:41:54.723300'), ('message_id', '22677'), ('receiver', 'Client_366'), ('reply_to', 'neuron_x1'), ('sender', 'neuron_x1'), ('time_stamp', '2017-01-30 18:41:55.063900'), ('type', 'result')])\n",
      "\n",
      "Sending 266 bytes\n",
      "Message:\n",
      "OrderedDict([('correlation_id', '2017-01-30 18:41:55.141900'), ('function', 'getLog'), ('message_id', '2017-01-30 18:41:55.141900'), ('need_result', True), ('receiver', 'neuron_x2'), ('reply_to', 'Client_366'), ('sender', 'Client_366'), ('type', 'function')])\n",
      "\n",
      "\n",
      "Data received: 428 bytes\n",
      "Message:\n",
      "OrderedDict([('correlation_id', '2017-01-30 18:41:55.141900'), ('message_id', '24461'), ('receiver', 'Client_366'), ('reply_to', 'neuron_x2'), ('result', [[24005, 'neuron_x2', 'neuron_x1 is kicking neuron_x2.'], [24211, 'neuron_x2', 'neuron_x2 fires.'], [24213, 'neuron_x2', 'Setting output of neuron_x2 to ACTION_POTENTIAL.']]), ('sender', 'neuron_x2'), ('time_stamp', '2017-01-30 18:41:55.504900'), ('type', 'result')])\n",
      "\n"
     ]
    },
    {
     "data": {
      "text/html": [
       "<div>\n",
       "<table border=\"1\" class=\"dataframe\">\n",
       "  <thead>\n",
       "    <tr style=\"text-align: right;\">\n",
       "      <th></th>\n",
       "      <th>neuron</th>\n",
       "      <th>message</th>\n",
       "    </tr>\n",
       "    <tr>\n",
       "      <th>time</th>\n",
       "      <th></th>\n",
       "      <th></th>\n",
       "    </tr>\n",
       "  </thead>\n",
       "  <tbody>\n",
       "    <tr>\n",
       "      <th>24005</th>\n",
       "      <td>neuron_x2</td>\n",
       "      <td>neuron_x1 is kicking neuron_x2.</td>\n",
       "    </tr>\n",
       "    <tr>\n",
       "      <th>24211</th>\n",
       "      <td>neuron_x2</td>\n",
       "      <td>neuron_x2 fires.</td>\n",
       "    </tr>\n",
       "    <tr>\n",
       "      <th>24213</th>\n",
       "      <td>neuron_x2</td>\n",
       "      <td>Setting output of neuron_x2 to ACTION_POTENTIAL.</td>\n",
       "    </tr>\n",
       "  </tbody>\n",
       "</table>\n",
       "</div>"
      ],
      "text/plain": [
       "          neuron                                           message\n",
       "time                                                              \n",
       "24005  neuron_x2                   neuron_x1 is kicking neuron_x2.\n",
       "24211  neuron_x2                                  neuron_x2 fires.\n",
       "24213  neuron_x2  Setting output of neuron_x2 to ACTION_POTENTIAL."
      ]
     },
     "execution_count": 17,
     "metadata": {},
     "output_type": "execute_result"
    }
   ],
   "source": [
    "### 模擬 sensor input，強迫 neuron x 或 y ouput 1\n",
    "emptyLogs()  # 清除 logs\n",
    "sleep(REFRACTORY_PERIOD)  # 等電位歸零 \n",
    "mergeLogs()  # 彙整 logs"
   ]
  },
  {
   "cell_type": "code",
   "execution_count": 18,
   "metadata": {
    "collapsed": false
   },
   "outputs": [
    {
     "name": "stdout",
     "output_type": "stream",
     "text": [
      "Sending 247 bytes\n",
      "Message:\n",
      "OrderedDict([('correlation_id', '2017-01-30 18:41:56.279500'), ('function', 'emptyLog'), ('message_id', '2017-01-30 18:41:56.279500'), ('receiver', 'neuron_x1'), ('reply_to', 'Client_366'), ('sender', 'Client_366'), ('type', 'function')])\n",
      "\n",
      "Sending 247 bytes\n",
      "Message:\n",
      "OrderedDict([('correlation_id', '2017-01-30 18:41:56.372700'), ('function', 'emptyLog'), ('message_id', '2017-01-30 18:41:56.372700'), ('receiver', 'neuron_x2'), ('reply_to', 'Client_366'), ('sender', 'Client_366'), ('type', 'function')])\n",
      "\n",
      "Sending 243 bytes\n",
      "Message:\n",
      "OrderedDict([('correlation_id', '2017-01-30 18:41:56.545300'), ('function', 'fire'), ('message_id', '2017-01-30 18:41:56.545300'), ('receiver', 'neuron_x1'), ('reply_to', 'Client_366'), ('sender', 'Client_366'), ('type', 'function')])\n",
      "\n",
      "Sending 266 bytes\n",
      "Message:\n",
      "OrderedDict([('correlation_id', '2017-01-30 18:41:56.654500'), ('function', 'getLog'), ('message_id', '2017-01-30 18:41:56.654500'), ('need_result', True), ('receiver', 'neuron_x1'), ('reply_to', 'Client_366'), ('sender', 'Client_366'), ('type', 'function')])\n",
      "\n",
      "\n",
      "Data received: 371 bytes\n",
      "Message:\n",
      "OrderedDict([('correlation_id', '2017-01-30 18:41:56.654500'), ('message_id', '24898'), ('receiver', 'Client_366'), ('reply_to', 'neuron_x1'), ('result', [[24803, 'neuron_x1', 'neuron_x1 fires.'], [24805, 'neuron_x1', 'Setting output of neuron_x1 to ACTION_POTENTIAL.']]), ('sender', 'neuron_x1'), ('time_stamp', '2017-01-30 18:41:57.348300'), ('type', 'result')])\n",
      "\n",
      "Sending 266 bytes\n",
      "Message:\n",
      "OrderedDict([('correlation_id', '2017-01-30 18:41:57.426300'), ('function', 'getLog'), ('message_id', '2017-01-30 18:41:57.426300'), ('need_result', True), ('receiver', 'neuron_x2'), ('reply_to', 'Client_366'), ('sender', 'Client_366'), ('type', 'function')])\n",
      "\n",
      "\n",
      "Data received: 428 bytes\n",
      "Message:\n",
      "OrderedDict([('correlation_id', '2017-01-30 18:41:57.426300'), ('message_id', '26743'), ('receiver', 'Client_366'), ('reply_to', 'neuron_x2'), ('result', [[26329, 'neuron_x2', 'neuron_x1 is kicking neuron_x2.'], [26534, 'neuron_x2', 'neuron_x2 fires.'], [26537, 'neuron_x2', 'Setting output of neuron_x2 to ACTION_POTENTIAL.']]), ('sender', 'neuron_x2'), ('time_stamp', '2017-01-30 18:41:57.899500'), ('type', 'result')])\n",
      "\n"
     ]
    },
    {
     "data": {
      "text/html": [
       "<div>\n",
       "<table border=\"1\" class=\"dataframe\">\n",
       "  <thead>\n",
       "    <tr style=\"text-align: right;\">\n",
       "      <th></th>\n",
       "      <th>neuron</th>\n",
       "      <th>message</th>\n",
       "    </tr>\n",
       "    <tr>\n",
       "      <th>time</th>\n",
       "      <th></th>\n",
       "      <th></th>\n",
       "    </tr>\n",
       "  </thead>\n",
       "  <tbody>\n",
       "    <tr>\n",
       "      <th>24803</th>\n",
       "      <td>neuron_x1</td>\n",
       "      <td>neuron_x1 fires.</td>\n",
       "    </tr>\n",
       "    <tr>\n",
       "      <th>24805</th>\n",
       "      <td>neuron_x1</td>\n",
       "      <td>Setting output of neuron_x1 to ACTION_POTENTIAL.</td>\n",
       "    </tr>\n",
       "    <tr>\n",
       "      <th>26329</th>\n",
       "      <td>neuron_x2</td>\n",
       "      <td>neuron_x1 is kicking neuron_x2.</td>\n",
       "    </tr>\n",
       "    <tr>\n",
       "      <th>26534</th>\n",
       "      <td>neuron_x2</td>\n",
       "      <td>neuron_x2 fires.</td>\n",
       "    </tr>\n",
       "    <tr>\n",
       "      <th>26537</th>\n",
       "      <td>neuron_x2</td>\n",
       "      <td>Setting output of neuron_x2 to ACTION_POTENTIAL.</td>\n",
       "    </tr>\n",
       "  </tbody>\n",
       "</table>\n",
       "</div>"
      ],
      "text/plain": [
       "          neuron                                           message\n",
       "time                                                              \n",
       "24803  neuron_x1                                  neuron_x1 fires.\n",
       "24805  neuron_x1  Setting output of neuron_x1 to ACTION_POTENTIAL.\n",
       "26329  neuron_x2                   neuron_x1 is kicking neuron_x2.\n",
       "26534  neuron_x2                                  neuron_x2 fires.\n",
       "26537  neuron_x2  Setting output of neuron_x2 to ACTION_POTENTIAL."
      ]
     },
     "execution_count": 18,
     "metadata": {},
     "output_type": "execute_result"
    }
   ],
   "source": [
    "### 模擬 sensor input，強迫 neuron x 或 y ouput 1\n",
    "emptyLogs()  # 清除 logs\n",
    "sleep(REFRACTORY_PERIOD)  # 等電位歸零\n",
    "fire('neuron_x1') # force neuron x1 output 1 and fire.\n",
    "mergeLogs()  # 彙整 logs"
   ]
  },
  {
   "cell_type": "code",
   "execution_count": 19,
   "metadata": {
    "collapsed": false
   },
   "outputs": [
    {
     "name": "stdout",
     "output_type": "stream",
     "text": [
      "Sending 247 bytes\n",
      "Message:\n",
      "OrderedDict([('correlation_id', '2017-01-30 18:41:58.617100'), ('function', 'emptyLog'), ('message_id', '2017-01-30 18:41:58.617100'), ('receiver', 'neuron_x1'), ('reply_to', 'Client_366'), ('sender', 'Client_366'), ('type', 'function')])\n",
      "\n",
      "Sending 247 bytes\n",
      "Message:\n",
      "OrderedDict([('correlation_id', '2017-01-30 18:41:58.691100'), ('function', 'emptyLog'), ('message_id', '2017-01-30 18:41:58.691100'), ('receiver', 'neuron_x2'), ('reply_to', 'Client_366'), ('sender', 'Client_366'), ('type', 'function')])\n",
      "\n",
      "Sending 243 bytes\n",
      "Message:\n",
      "OrderedDict([('correlation_id', '2017-01-30 18:41:58.862700'), ('function', 'fire'), ('message_id', '2017-01-30 18:41:58.862700'), ('receiver', 'neuron_x2'), ('reply_to', 'Client_366'), ('sender', 'Client_366'), ('type', 'function')])\n",
      "\n",
      "Sending 266 bytes\n",
      "Message:\n",
      "OrderedDict([('correlation_id', '2017-01-30 18:41:58.925100'), ('function', 'getLog'), ('message_id', '2017-01-30 18:41:58.925100'), ('need_result', True), ('receiver', 'neuron_x1'), ('reply_to', 'Client_366'), ('sender', 'Client_366'), ('type', 'function')])\n",
      "\n",
      "\n",
      "Data received: 243 bytes\n",
      "Message:\n",
      "OrderedDict([('correlation_id', '2017-01-30 18:41:58.925100'), ('message_id', '26964'), ('receiver', 'Client_366'), ('reply_to', 'neuron_x1'), ('sender', 'neuron_x1'), ('time_stamp', '2017-01-30 18:41:59.488900'), ('type', 'result')])\n",
      "\n",
      "Sending 266 bytes\n",
      "Message:\n",
      "OrderedDict([('correlation_id', '2017-01-30 18:42:00.121100'), ('function', 'getLog'), ('message_id', '2017-01-30 18:42:00.121100'), ('need_result', True), ('receiver', 'neuron_x2'), ('reply_to', 'Client_366'), ('sender', 'Client_366'), ('type', 'function')])\n",
      "\n",
      "\n",
      "Data received: 371 bytes\n",
      "Message:\n",
      "OrderedDict([('correlation_id', '2017-01-30 18:42:00.121100'), ('message_id', '29499'), ('receiver', 'Client_366'), ('reply_to', 'neuron_x2'), ('result', [[28399, 'neuron_x2', 'neuron_x2 fires.'], [28402, 'neuron_x2', 'Setting output of neuron_x2 to ACTION_POTENTIAL.']]), ('sender', 'neuron_x2'), ('time_stamp', '2017-01-30 18:42:00.504700'), ('type', 'result')])\n",
      "\n"
     ]
    },
    {
     "data": {
      "text/html": [
       "<div>\n",
       "<table border=\"1\" class=\"dataframe\">\n",
       "  <thead>\n",
       "    <tr style=\"text-align: right;\">\n",
       "      <th></th>\n",
       "      <th>neuron</th>\n",
       "      <th>message</th>\n",
       "    </tr>\n",
       "    <tr>\n",
       "      <th>time</th>\n",
       "      <th></th>\n",
       "      <th></th>\n",
       "    </tr>\n",
       "  </thead>\n",
       "  <tbody>\n",
       "    <tr>\n",
       "      <th>28399</th>\n",
       "      <td>neuron_x2</td>\n",
       "      <td>neuron_x2 fires.</td>\n",
       "    </tr>\n",
       "    <tr>\n",
       "      <th>28402</th>\n",
       "      <td>neuron_x2</td>\n",
       "      <td>Setting output of neuron_x2 to ACTION_POTENTIAL.</td>\n",
       "    </tr>\n",
       "  </tbody>\n",
       "</table>\n",
       "</div>"
      ],
      "text/plain": [
       "          neuron                                           message\n",
       "time                                                              \n",
       "28399  neuron_x2                                  neuron_x2 fires.\n",
       "28402  neuron_x2  Setting output of neuron_x2 to ACTION_POTENTIAL."
      ]
     },
     "execution_count": 19,
     "metadata": {},
     "output_type": "execute_result"
    }
   ],
   "source": [
    "### 模擬 sensor input，強迫 neuron x 或 y ouput 1\n",
    "emptyLogs()  # 清除 logs\n",
    "sleep(REFRACTORY_PERIOD)  # 等電位歸零\n",
    "fire('neuron_x2') # force neuron x2 output 1 and fire.\n",
    "mergeLogs()  # 彙整 logs"
   ]
  },
  {
   "cell_type": "code",
   "execution_count": 20,
   "metadata": {
    "collapsed": false
   },
   "outputs": [
    {
     "name": "stdout",
     "output_type": "stream",
     "text": [
      "Sending 247 bytes\n",
      "Message:\n",
      "OrderedDict([('correlation_id', '2017-01-30 18:42:00.676300'), ('function', 'emptyLog'), ('message_id', '2017-01-30 18:42:00.676300'), ('receiver', 'neuron_x1'), ('reply_to', 'Client_366'), ('sender', 'Client_366'), ('type', 'function')])\n",
      "\n",
      "Sending 247 bytes\n",
      "Message:\n",
      "OrderedDict([('correlation_id', '2017-01-30 18:42:00.778900'), ('function', 'emptyLog'), ('message_id', '2017-01-30 18:42:00.778900'), ('receiver', 'neuron_x2'), ('reply_to', 'Client_366'), ('sender', 'Client_366'), ('type', 'function')])\n",
      "\n",
      "Sending 243 bytes\n",
      "Message:\n",
      "OrderedDict([('correlation_id', '2017-01-30 18:42:00.937700'), ('function', 'fire'), ('message_id', '2017-01-30 18:42:00.937700'), ('receiver', 'neuron_x1'), ('reply_to', 'Client_366'), ('sender', 'Client_366'), ('type', 'function')])\n",
      "\n",
      "Sending 243 bytes\n",
      "Message:\n",
      "OrderedDict([('correlation_id', '2017-01-30 18:42:00.984500'), ('function', 'fire'), ('message_id', '2017-01-30 18:42:00.984500'), ('receiver', 'neuron_x2'), ('reply_to', 'Client_366'), ('sender', 'Client_366'), ('type', 'function')])\n",
      "\n",
      "Sending 266 bytes\n",
      "Message:\n",
      "OrderedDict([('correlation_id', '2017-01-30 18:42:01.077500'), ('function', 'getLog'), ('message_id', '2017-01-30 18:42:01.077500'), ('need_result', True), ('receiver', 'neuron_x1'), ('reply_to', 'Client_366'), ('sender', 'Client_366'), ('type', 'function')])\n",
      "\n",
      "\n",
      "Data received: 371 bytes\n",
      "Message:\n",
      "OrderedDict([('correlation_id', '2017-01-30 18:42:01.077500'), ('message_id', '29180'), ('receiver', 'Client_366'), ('reply_to', 'neuron_x1'), ('result', [[29084, 'neuron_x1', 'neuron_x1 fires.'], [29087, 'neuron_x1', 'Setting output of neuron_x1 to ACTION_POTENTIAL.']]), ('sender', 'neuron_x1'), ('time_stamp', '2017-01-30 18:42:01.600900'), ('type', 'result')])\n",
      "\n",
      "Sending 266 bytes\n",
      "Message:\n",
      "OrderedDict([('correlation_id', '2017-01-30 18:42:01.725700'), ('function', 'getLog'), ('message_id', '2017-01-30 18:42:01.725700'), ('need_result', True), ('receiver', 'neuron_x2'), ('reply_to', 'Client_366'), ('sender', 'Client_366'), ('type', 'function')])\n",
      "\n",
      "\n",
      "Data received: 655 bytes\n",
      "Message:\n",
      "OrderedDict([('correlation_id', '2017-01-30 18:42:01.725700'), ('message_id', '31052'), ('receiver', 'Client_366'), ('reply_to', 'neuron_x2'), ('result', [[30586, 'neuron_x2', 'neuron_x2 fires.'], [30588, 'neuron_x2', 'Setting output of neuron_x2 to ACTION_POTENTIAL.'], [30671, 'neuron_x2', 'neuron_x1 is kicking neuron_x2.'], [30676, 'neuron_x2', 'neuron_x2 is still in refractory-period.'], [30680, 'neuron_x2', 'neuron_x2 is still in refractory_period at action potential, then a neuron neuron_x1 kicks in, now sum_of_weighted_inputs >= threshold.']]), ('sender', 'neuron_x2'), ('time_stamp', '2017-01-30 18:42:02.339300'), ('type', 'result')])\n",
      "\n"
     ]
    },
    {
     "data": {
      "text/html": [
       "<div>\n",
       "<table border=\"1\" class=\"dataframe\">\n",
       "  <thead>\n",
       "    <tr style=\"text-align: right;\">\n",
       "      <th></th>\n",
       "      <th>neuron</th>\n",
       "      <th>message</th>\n",
       "    </tr>\n",
       "    <tr>\n",
       "      <th>time</th>\n",
       "      <th></th>\n",
       "      <th></th>\n",
       "    </tr>\n",
       "  </thead>\n",
       "  <tbody>\n",
       "    <tr>\n",
       "      <th>29084</th>\n",
       "      <td>neuron_x1</td>\n",
       "      <td>neuron_x1 fires.</td>\n",
       "    </tr>\n",
       "    <tr>\n",
       "      <th>29087</th>\n",
       "      <td>neuron_x1</td>\n",
       "      <td>Setting output of neuron_x1 to ACTION_POTENTIAL.</td>\n",
       "    </tr>\n",
       "    <tr>\n",
       "      <th>30586</th>\n",
       "      <td>neuron_x2</td>\n",
       "      <td>neuron_x2 fires.</td>\n",
       "    </tr>\n",
       "    <tr>\n",
       "      <th>30588</th>\n",
       "      <td>neuron_x2</td>\n",
       "      <td>Setting output of neuron_x2 to ACTION_POTENTIAL.</td>\n",
       "    </tr>\n",
       "    <tr>\n",
       "      <th>30671</th>\n",
       "      <td>neuron_x2</td>\n",
       "      <td>neuron_x1 is kicking neuron_x2.</td>\n",
       "    </tr>\n",
       "    <tr>\n",
       "      <th>30676</th>\n",
       "      <td>neuron_x2</td>\n",
       "      <td>neuron_x2 is still in refractory-period.</td>\n",
       "    </tr>\n",
       "    <tr>\n",
       "      <th>30680</th>\n",
       "      <td>neuron_x2</td>\n",
       "      <td>neuron_x2 is still in refractory_period at act...</td>\n",
       "    </tr>\n",
       "  </tbody>\n",
       "</table>\n",
       "</div>"
      ],
      "text/plain": [
       "          neuron                                            message\n",
       "time                                                               \n",
       "29084  neuron_x1                                   neuron_x1 fires.\n",
       "29087  neuron_x1   Setting output of neuron_x1 to ACTION_POTENTIAL.\n",
       "30586  neuron_x2                                   neuron_x2 fires.\n",
       "30588  neuron_x2   Setting output of neuron_x2 to ACTION_POTENTIAL.\n",
       "30671  neuron_x2                    neuron_x1 is kicking neuron_x2.\n",
       "30676  neuron_x2           neuron_x2 is still in refractory-period.\n",
       "30680  neuron_x2  neuron_x2 is still in refractory_period at act..."
      ]
     },
     "execution_count": 20,
     "metadata": {},
     "output_type": "execute_result"
    }
   ],
   "source": [
    "### 模擬 sensor input，強迫 neuron x 或 y ouput 1\n",
    "emptyLogs()  # 清除 logs\n",
    "sleep(REFRACTORY_PERIOD)  # 等電位歸零\n",
    "fire('neuron_x1') # force neuron x1 output 1 and fire.\n",
    "fire('neuron_x2') # force neuron x2 output 1 and fire.\n",
    "mergeLogs()  # 彙整 logs"
   ]
  },
  {
   "cell_type": "code",
   "execution_count": 21,
   "metadata": {
    "collapsed": false
   },
   "outputs": [
    {
     "name": "stdout",
     "output_type": "stream",
     "text": [
      "Sending 269 bytes\n",
      "Message:\n",
      "OrderedDict([('correlation_id', '2017-01-30 18:42:02.877900'), ('function', 'getConfig'), ('message_id', '2017-01-30 18:42:02.877900'), ('need_result', True), ('receiver', 'neuron_x2'), ('reply_to', 'Client_366'), ('sender', 'Client_366'), ('type', 'function')])\n",
      "\n",
      "\n",
      "Data received: 455 bytes\n",
      "Message:\n",
      "OrderedDict([('correlation_id', '2017-01-30 18:42:02.877900'), ('message_id', '32233'), ('receiver', 'Client_366'), ('reply_to', 'neuron_x2'), ('result', {'output': {'value': 1, 'polarized_time': 30589, 'lasting': 99.99997}, 'inputs': {'neuron_x1': {'value': 1, 'kick_time': 30672, 'lasting': 500.0}}, 'weights': {'neuron_x1': 1}, 'threshold': 0.8999998}), ('sender', 'neuron_x2'), ('time_stamp', '2017-01-30 18:42:03.366300'), ('type', 'result')])\n",
      "\n",
      "______________________________neuron_x2 config:_______________________________\n",
      " {'output': {'value': 1, 'polarized_time': 30589, 'lasting': 99.99997}, 'inputs': {'neuron_x1': {'value': 1, 'kick_time': 30672, 'lasting': 500.0}}, 'weights': {'neuron_x1': 1}, 'threshold': 0.8999998}\n",
      "\n",
      "Sending 269 bytes\n",
      "Message:\n",
      "OrderedDict([('correlation_id', '2017-01-30 18:42:03.491100'), ('function', 'getConfig'), ('message_id', '2017-01-30 18:42:03.491100'), ('need_result', True), ('receiver', 'neuron_x1'), ('reply_to', 'Client_366'), ('sender', 'Client_366'), ('type', 'function')])\n",
      "\n",
      "\n",
      "Data received: 382 bytes\n",
      "Message:\n",
      "OrderedDict([('correlation_id', '2017-01-30 18:42:03.491100'), ('message_id', '31427'), ('receiver', 'Client_366'), ('reply_to', 'neuron_x1'), ('result', {'output': {'value': 1, 'polarized_time': 29087, 'lasting': 99.99997}, 'inputs': {}, 'connections': {'neuron_x2': 'neuron_x2'}}), ('sender', 'neuron_x1'), ('time_stamp', '2017-01-30 18:42:03.980900'), ('type', 'result')])\n",
      "\n",
      "______________________________neuron_x1 config:_______________________________\n",
      " {'output': {'value': 1, 'polarized_time': 29087, 'lasting': 99.99997}, 'inputs': {}, 'connections': {'neuron_x2': 'neuron_x2'}}\n",
      "\n"
     ]
    }
   ],
   "source": [
    "for neuron in reversed(neurons): printConfig(neuron)"
   ]
  },
  {
   "cell_type": "markdown",
   "metadata": {},
   "source": [
    "### Stop the demo"
   ]
  },
  {
   "cell_type": "code",
   "execution_count": 22,
   "metadata": {
    "collapsed": false
   },
   "outputs": [
    {
     "name": "stdout",
     "output_type": "stream",
     "text": [
      "\n",
      "[________________ Demo stopped ________________]\n",
      "\n"
     ]
    }
   ],
   "source": [
    "# Stopping\n",
    "the_client.stop()\n",
    "the_client = None\n",
    "print ('\\n[________________ Demo stopped ________________]\\n')"
   ]
  }
 ],
 "metadata": {
  "anaconda-cloud": {},
  "kernelspec": {
   "display_name": "Python [default]",
   "language": "python",
   "name": "python3"
  },
  "language_info": {
   "codemirror_mode": {
    "name": "ipython",
    "version": 3
   },
   "file_extension": ".py",
   "mimetype": "text/x-python",
   "name": "python",
   "nbconvert_exporter": "python",
   "pygments_lexer": "ipython3",
   "version": "3.5.1"
  }
 },
 "nbformat": 4,
 "nbformat_minor": 0
}
