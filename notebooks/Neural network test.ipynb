{
 "cells": [
  {
   "cell_type": "markdown",
   "metadata": {},
   "source": [
    "# Neural network test"
   ]
  },
  {
   "cell_type": "code",
   "execution_count": 1,
   "metadata": {
    "collapsed": true
   },
   "outputs": [],
   "source": [
    "import os\n",
    "import sys\n",
    "import time\n",
    " \n",
    "sys.path.append(os.path.abspath(os.path.join(os.path.pardir, 'codes', 'client')))\n",
    "sys.path.append(os.path.abspath(os.path.join(os.path.pardir, 'codes', 'node')))\n",
    "sys.path.append(os.path.abspath(os.path.join(os.path.pardir, 'codes', 'shared')))\n",
    "sys.path.append(os.path.abspath(os.path.join(os.path.pardir, 'codes', 'micropython')))\n",
    " \n",
    "import client\n",
    "from collections import OrderedDict"
   ]
  },
  {
   "cell_type": "code",
   "execution_count": 2,
   "metadata": {
    "collapsed": false
   },
   "outputs": [],
   "source": [
    "import pandas as pd\n",
    "from pandas import DataFrame\n",
    "from time import sleep\n",
    "REFRACTORY_PERIOD = 0.1   # 0.1 seconds"
   ]
  },
  {
   "cell_type": "code",
   "execution_count": 3,
   "metadata": {
    "collapsed": true
   },
   "outputs": [],
   "source": [
    "# 每個 ESP8266模組 各代表一個 neurons\n",
    "# neurons = ['neuron_x1', 'neuron_x2', 'neuron_h1', 'neuron_h2', 'neuron_h3', 'neuron_y'] \n",
    "neurons = ['neuron_x1', 'neuron_x2'] "
   ]
  },
  {
   "cell_type": "markdown",
   "metadata": {},
   "source": [
    "## Start client"
   ]
  },
  {
   "cell_type": "code",
   "execution_count": 4,
   "metadata": {
    "collapsed": false
   },
   "outputs": [
    {
     "name": "stdout",
     "output_type": "stream",
     "text": [
      "My name is Client_366\n",
      "\n",
      "[connected: ('192.168.0.100', 9662)]\n",
      "Sending 305 bytes\n",
      "Message:\n",
      "OrderedDict([('command', 'set connection name'), ('correlation_id', '2017-01-31 12:38:00.133700'), ('kwargs', {'name': 'Client_366'}), ('message_id', '2017-01-31 12:38:00.133700'), ('need_result', True), ('receiver', 'Hub'), ('reply_to', 'Client_366'), ('sender', 'Client_366'), ('type', 'command')])\n",
      "\n",
      "[Listen to messages]\n",
      "\n",
      "Data received: 401 bytes\n",
      "Message:\n",
      "OrderedDict([('correlation_id', '2017-01-31 12:38:00.133700'), ('message_id', '2017-01-31 12:38:00.221700'), ('receiver', 'Client_366'), ('reply_to', 'Hub'), ('result', {'NodeMCU_f1d30800': \"('192.168.0.103', 10567)\", 'Client_366': \"('192.168.0.100', 53530)\", 'NodeMCU_1dsc000': \"('192.168.0.101', 11347)\"}), ('sender', 'Hub'), ('time_stamp', '2017-01-31 12:38:00.221700'), ('type', 'result')])\n",
      "\n",
      "Node not ready yet.\n"
     ]
    }
   ],
   "source": [
    "the_client = client.Client()\n",
    "the_client.start()\n",
    "\n",
    "while not the_client.status['Is connected']:            \n",
    "    time.sleep(1)\n",
    "    print('Node not ready yet.')"
   ]
  },
  {
   "cell_type": "markdown",
   "metadata": {},
   "source": [
    "## Utilities"
   ]
  },
  {
   "cell_type": "markdown",
   "metadata": {},
   "source": [
    "### List nodes"
   ]
  },
  {
   "cell_type": "code",
   "execution_count": 5,
   "metadata": {
    "collapsed": false
   },
   "outputs": [],
   "source": [
    "# Ask Hub for a list of connected nodes\n",
    "def list_nodes():\n",
    "    message = {'type': 'command',\n",
    "                       'command': 'list connections by name',\n",
    "                       'need_result': True}     \n",
    "\n",
    "    _, asynch_result = the_client.request('Hub', message) \n",
    "\n",
    "    try:\n",
    "        remote_nodes = sorted(list(asynch_result.get().keys()))\n",
    "\n",
    "        print ('\\n[____________ Connected nodes ____________]\\n')        \n",
    "        print('\\nConnected nodes:\\n{}\\n'.format(remote_nodes)) \n",
    "        \n",
    "        return remote_nodes\n",
    "\n",
    "    except Exception as e:\n",
    "        print(e)"
   ]
  },
  {
   "cell_type": "code",
   "execution_count": 6,
   "metadata": {
    "collapsed": false
   },
   "outputs": [],
   "source": [
    "def reset_node(node):\n",
    "    message = {'type': 'exec',\n",
    "               'to_exec': 'import machine;machine.reset()'}\n",
    "    the_client.request(node, message) "
   ]
  },
  {
   "cell_type": "code",
   "execution_count": 7,
   "metadata": {
    "collapsed": false
   },
   "outputs": [],
   "source": [
    "# reset_node('neuron_x1')"
   ]
  },
  {
   "cell_type": "code",
   "execution_count": 8,
   "metadata": {
    "collapsed": false
   },
   "outputs": [],
   "source": [
    "def rename_node(node, new_name):\n",
    "    message = {'type': 'function',\n",
    "               'function': 'rename',\n",
    "               'kwargs': {'name': new_name}}\n",
    "    the_client.request(node, message) \n",
    "    \n",
    "    message = {'type': 'function',\n",
    "               'function': 'set_connection_name'}\n",
    "    the_client.request(node, message) \n",
    "    \n",
    "\n",
    "def rename_nodes(nodes, neurons):    \n",
    "    i = 0 \n",
    "    for node in nodes:\n",
    "        if node != the_client.node.worker.name:  # exclude client self\n",
    "            rename_node(node, neurons[i])\n",
    "            i += 1"
   ]
  },
  {
   "cell_type": "code",
   "execution_count": 9,
   "metadata": {
    "collapsed": false
   },
   "outputs": [],
   "source": [
    "def fire(node):\n",
    "    message = {'type': 'function',\n",
    "               'function': 'fire'}\n",
    "    the_client.request(node, message) \n",
    "\n",
    "def addConnection(node, neuron):\n",
    "    message = {'type': 'function',\n",
    "               'function': 'addConnection',\n",
    "               'kwargs': {'neuron_id': neuron}}\n",
    "    the_client.request(node, message) \n",
    "    \n",
    "def set_connections(node, connections):\n",
    "    message = {'type': 'function',\n",
    "               'function': 'setConnections',\n",
    "               'kwargs': {'connections': connections}}\n",
    "    the_client.request(node, message)     \n",
    "    \n",
    "def get_connections(node):\n",
    "    message = {'type': 'function',\n",
    "               'function': 'getConnections', \n",
    "               'need_result': True}\n",
    "    _, result = the_client.request(node, message) \n",
    "    return result.get()    \n",
    "\n",
    "def setWeight(node, neuron, weight):\n",
    "    message = {'type': 'function',\n",
    "               'function': 'setWeight',\n",
    "               'kwargs': {'neuron_id': neuron,\n",
    "                          'weight': weight,}}\n",
    "    the_client.request(node, message) \n",
    "\n",
    "def setThreshold(node, threshold):\n",
    "    message = {'type': 'function',\n",
    "               'function': 'setThreshold',\n",
    "               'kwargs': {'threshold': threshold}}\n",
    "    the_client.request(node, message) \n",
    "        \n",
    "def getConfig(node):\n",
    "    message = {'type': 'function',\n",
    "               'function': 'getConfig', \n",
    "               'need_result': True}\n",
    "    _, result = the_client.request(node, message) \n",
    "    return result.get()\n",
    "\n",
    "def getLog(node):\n",
    "    message = {'type': 'function',\n",
    "               'function': 'getLog', \n",
    "               'need_result': True}\n",
    "    _, result = the_client.request(node, message) \n",
    "    return result.get()\n",
    "\n",
    "def emptyLog(node):\n",
    "    message = {'type': 'function',\n",
    "               'function': 'emptyLog'}\n",
    "    the_client.request(node, message)\n",
    "    \n",
    "def emptyLogs():\n",
    "    for neuron in neurons:\n",
    "        emptyLog(neuron) \n",
    "        \n",
    "# 彙整logs。將所有 neurons 中的 logs merge 在一起，成為一個 Pandas.DataFrame\n",
    "def mergeLogs():\n",
    "    logs = []\n",
    "    \n",
    "    for neuron in neurons:\n",
    "        if neuron != the_client.node.worker.name:  # exclude client self\n",
    "            currentLog = getLog(neuron)\n",
    "            if currentLog:\n",
    "                logs += currentLog \n",
    "            \n",
    "    df = DataFrame(list(logs), columns = ['time', 'neuron', 'message']) \n",
    "    df.set_index('time', inplace = True)\n",
    "    df.sort_index(inplace = True)\n",
    "    \n",
    "    return df        "
   ]
  },
  {
   "cell_type": "code",
   "execution_count": 10,
   "metadata": {
    "collapsed": false
   },
   "outputs": [],
   "source": [
    "# print 出 一個 neuron 中的 Log\n",
    "def printConfig(neuron):\n",
    "    print('{0:_^78}\\n {1}\\n'.format(neuron + \" config:\", getConfig(neuron)))"
   ]
  },
  {
   "cell_type": "markdown",
   "metadata": {},
   "source": [
    "## 設定 network config"
   ]
  },
  {
   "cell_type": "markdown",
   "metadata": {},
   "source": [
    "### Rename nodes"
   ]
  },
  {
   "cell_type": "code",
   "execution_count": 11,
   "metadata": {
    "collapsed": false
   },
   "outputs": [
    {
     "name": "stdout",
     "output_type": "stream",
     "text": [
      "Sending 276 bytes\n",
      "Message:\n",
      "OrderedDict([('command', 'list connections by name'), ('correlation_id', '2017-01-31 12:38:01.958900'), ('message_id', '2017-01-31 12:38:01.958900'), ('need_result', True), ('receiver', 'Hub'), ('reply_to', 'Client_366'), ('sender', 'Client_366'), ('type', 'command')])\n",
      "\n",
      "\n",
      "Data received: 401 bytes\n",
      "Message:\n",
      "OrderedDict([('correlation_id', '2017-01-31 12:38:01.958900'), ('message_id', '2017-01-31 12:38:02.114900'), ('receiver', 'Client_366'), ('reply_to', 'Hub'), ('result', {'NodeMCU_f1d30800': \"('192.168.0.103', 10567)\", 'Client_366': \"('192.168.0.100', 53530)\", 'NodeMCU_1dsc000': \"('192.168.0.101', 11347)\"}), ('sender', 'Hub'), ('time_stamp', '2017-01-31 12:38:02.114900'), ('type', 'result')])\n",
      "\n",
      "\n",
      "[____________ Connected nodes ____________]\n",
      "\n",
      "\n",
      "Connected nodes:\n",
      "['Client_366', 'NodeMCU_1dsc000', 'NodeMCU_f1d30800']\n",
      "\n",
      "Sending 284 bytes\n",
      "Message:\n",
      "OrderedDict([('correlation_id', '2017-01-31 12:38:02.196900'), ('function', 'rename'), ('kwargs', {'name': 'neuron_x1'}), ('message_id', '2017-01-31 12:38:02.196900'), ('receiver', 'NodeMCU_1dsc000'), ('reply_to', 'Client_366'), ('sender', 'Client_366'), ('type', 'function')])\n",
      "\n",
      "Sending 264 bytes\n",
      "Message:\n",
      "OrderedDict([('correlation_id', '2017-01-31 12:38:02.265700'), ('function', 'set_connection_name'), ('message_id', '2017-01-31 12:38:02.265700'), ('receiver', 'NodeMCU_1dsc000'), ('reply_to', 'Client_366'), ('sender', 'Client_366'), ('type', 'function')])\n",
      "\n",
      "Sending 285 bytes\n",
      "Message:\n",
      "OrderedDict([('correlation_id', '2017-01-31 12:38:02.379100'), ('function', 'rename'), ('kwargs', {'name': 'neuron_x2'}), ('message_id', '2017-01-31 12:38:02.379100'), ('receiver', 'NodeMCU_f1d30800'), ('reply_to', 'Client_366'), ('sender', 'Client_366'), ('type', 'function')])\n",
      "\n",
      "Sending 265 bytes\n",
      "Message:\n",
      "OrderedDict([('correlation_id', '2017-01-31 12:38:02.506100'), ('function', 'set_connection_name'), ('message_id', '2017-01-31 12:38:02.506100'), ('receiver', 'NodeMCU_f1d30800'), ('reply_to', 'Client_366'), ('sender', 'Client_366'), ('type', 'function')])\n",
      "\n",
      "Sending 276 bytes\n",
      "Message:\n",
      "OrderedDict([('command', 'list connections by name'), ('correlation_id', '2017-01-31 12:38:04.662100'), ('message_id', '2017-01-31 12:38:04.662100'), ('need_result', True), ('receiver', 'Hub'), ('reply_to', 'Client_366'), ('sender', 'Client_366'), ('type', 'command')])\n",
      "\n",
      "\n",
      "Data received: 388 bytes\n",
      "Message:\n",
      "OrderedDict([('correlation_id', '2017-01-31 12:38:04.662100'), ('message_id', '2017-01-31 12:38:04.756700'), ('receiver', 'Client_366'), ('reply_to', 'Hub'), ('result', {'neuron_x2': \"('192.168.0.103', 10567)\", 'neuron_x1': \"('192.168.0.101', 11347)\", 'Client_366': \"('192.168.0.100', 53530)\"}), ('sender', 'Hub'), ('time_stamp', '2017-01-31 12:38:04.756700'), ('type', 'result')])\n",
      "\n",
      "\n",
      "[____________ Connected nodes ____________]\n",
      "\n",
      "\n",
      "Connected nodes:\n",
      "['Client_366', 'neuron_x1', 'neuron_x2']\n",
      "\n"
     ]
    }
   ],
   "source": [
    "remote_nodes = list_nodes() \n",
    "rename_nodes(remote_nodes, neurons)\n",
    "time.sleep(2)\n",
    "remote_nodes = list_nodes()"
   ]
  },
  {
   "cell_type": "markdown",
   "metadata": {},
   "source": [
    "### 清空 log files"
   ]
  },
  {
   "cell_type": "code",
   "execution_count": 12,
   "metadata": {
    "collapsed": false
   },
   "outputs": [
    {
     "name": "stdout",
     "output_type": "stream",
     "text": [
      "Sending 247 bytes\n",
      "Message:\n",
      "OrderedDict([('correlation_id', '2017-01-31 12:38:04.913700'), ('function', 'emptyLog'), ('message_id', '2017-01-31 12:38:04.913700'), ('receiver', 'neuron_x1'), ('reply_to', 'Client_366'), ('sender', 'Client_366'), ('type', 'function')])\n",
      "\n",
      "Sending 247 bytes\n",
      "Message:\n",
      "OrderedDict([('correlation_id', '2017-01-31 12:38:05.005700'), ('function', 'emptyLog'), ('message_id', '2017-01-31 12:38:05.005700'), ('receiver', 'neuron_x2'), ('reply_to', 'Client_366'), ('sender', 'Client_366'), ('type', 'function')])\n",
      "\n"
     ]
    }
   ],
   "source": [
    "# 清除所有 neurons 中的 logs  \n",
    "emptyLogs()"
   ]
  },
  {
   "cell_type": "markdown",
   "metadata": {
    "collapsed": true
   },
   "source": [
    "### 設定 connections"
   ]
  },
  {
   "cell_type": "code",
   "execution_count": 13,
   "metadata": {
    "collapsed": false
   },
   "outputs": [
    {
     "name": "stdout",
     "output_type": "stream",
     "text": [
      "Sending 290 bytes\n",
      "Message:\n",
      "OrderedDict([('correlation_id', '2017-01-31 12:38:05.232700'), ('function', 'addConnection'), ('kwargs', {'neuron_id': 'neuron_x2'}), ('message_id', '2017-01-31 12:38:05.232700'), ('receiver', 'neuron_x1'), ('reply_to', 'Client_366'), ('sender', 'Client_366'), ('type', 'function')])\n",
      "\n",
      "Sending 269 bytes\n",
      "Message:\n",
      "OrderedDict([('correlation_id', '2017-01-31 12:38:05.293300'), ('function', 'getConfig'), ('message_id', '2017-01-31 12:38:05.293300'), ('need_result', True), ('receiver', 'neuron_x1'), ('reply_to', 'Client_366'), ('sender', 'Client_366'), ('type', 'function')])\n",
      "\n",
      "\n",
      "Data received: 384 bytes\n",
      "Message:\n",
      "OrderedDict([('correlation_id', '2017-01-31 12:38:05.293300'), ('message_id', '157739'), ('receiver', 'Client_366'), ('reply_to', 'neuron_x1'), ('result', {'connections': {'neuron_x2': 'neuron_x2'}, 'inputs': {}, 'output': {'lasting': 99.99997, 'polarized_time': 135041, 'value': 0}}), ('sender', 'neuron_x1'), ('time_stamp', '2017-01-31 12:38:05.536300'), ('type', 'result')])\n",
      "\n"
     ]
    },
    {
     "data": {
      "text/plain": [
       "{'connections': {'neuron_x2': 'neuron_x2'},\n",
       " 'inputs': {},\n",
       " 'output': {'lasting': 99.99997, 'polarized_time': 135041, 'value': 0}}"
      ]
     },
     "execution_count": 13,
     "metadata": {},
     "output_type": "execute_result"
    }
   ],
   "source": [
    "addConnection('neuron_x1', 'neuron_x2')\n",
    "getConfig('neuron_x1')"
   ]
  },
  {
   "cell_type": "markdown",
   "metadata": {},
   "source": [
    "### 設定 weights"
   ]
  },
  {
   "cell_type": "code",
   "execution_count": 14,
   "metadata": {
    "collapsed": false
   },
   "outputs": [
    {
     "name": "stdout",
     "output_type": "stream",
     "text": [
      "Sending 299 bytes\n",
      "Message:\n",
      "OrderedDict([('correlation_id', '2017-01-31 12:38:05.737900'), ('function', 'setWeight'), ('kwargs', {'neuron_id': 'neuron_x1', 'weight': 1}), ('message_id', '2017-01-31 12:38:05.737900'), ('receiver', 'neuron_x2'), ('reply_to', 'Client_366'), ('sender', 'Client_366'), ('type', 'function')])\n",
      "\n"
     ]
    }
   ],
   "source": [
    "# hidden layer\n",
    "setWeight('neuron_x2', 'neuron_x1', 1)  # 設定 neuron_x -> neuron_h1 的 weight = 1"
   ]
  },
  {
   "cell_type": "markdown",
   "metadata": {},
   "source": [
    "### 設定 thresholds"
   ]
  },
  {
   "cell_type": "code",
   "execution_count": 15,
   "metadata": {
    "collapsed": false
   },
   "outputs": [
    {
     "name": "stdout",
     "output_type": "stream",
     "text": [
      "Sending 281 bytes\n",
      "Message:\n",
      "OrderedDict([('correlation_id', '2017-01-31 12:38:05.977100'), ('function', 'setThreshold'), ('kwargs', {'threshold': 0.9}), ('message_id', '2017-01-31 12:38:05.977100'), ('receiver', 'neuron_x2'), ('reply_to', 'Client_366'), ('sender', 'Client_366'), ('type', 'function')])\n",
      "\n"
     ]
    }
   ],
   "source": [
    "# input layer \n",
    "setThreshold('neuron_x2', 0.9)"
   ]
  },
  {
   "cell_type": "markdown",
   "metadata": {},
   "source": [
    "### 模擬 sensor input，然後查看各 neurons 的 output 狀態\n",
    "一個 neuron fire 之後，如果沒有持續的輸入可維持 fire 的狀態，則過 5 秒鐘之 neuron 的 output 一定為 0"
   ]
  },
  {
   "cell_type": "code",
   "execution_count": 16,
   "metadata": {
    "collapsed": false
   },
   "outputs": [
    {
     "name": "stdout",
     "output_type": "stream",
     "text": [
      "Sending 243 bytes\n",
      "Message:\n",
      "OrderedDict([('correlation_id', '2017-01-31 12:38:06.159500'), ('function', 'fire'), ('message_id', '2017-01-31 12:38:06.159500'), ('receiver', 'neuron_x1'), ('reply_to', 'Client_366'), ('sender', 'Client_366'), ('type', 'function')])\n",
      "\n"
     ]
    }
   ],
   "source": [
    "fire('neuron_x1')"
   ]
  },
  {
   "cell_type": "code",
   "execution_count": 17,
   "metadata": {
    "collapsed": false
   },
   "outputs": [
    {
     "name": "stdout",
     "output_type": "stream",
     "text": [
      "Sending 247 bytes\n",
      "Message:\n",
      "OrderedDict([('correlation_id', '2017-01-31 12:38:06.387900'), ('function', 'emptyLog'), ('message_id', '2017-01-31 12:38:06.387900'), ('receiver', 'neuron_x1'), ('reply_to', 'Client_366'), ('sender', 'Client_366'), ('type', 'function')])\n",
      "\n",
      "Sending 247 bytes\n",
      "Message:\n",
      "OrderedDict([('correlation_id', '2017-01-31 12:38:06.481900'), ('function', 'emptyLog'), ('message_id', '2017-01-31 12:38:06.481900'), ('receiver', 'neuron_x2'), ('reply_to', 'Client_366'), ('sender', 'Client_366'), ('type', 'function')])\n",
      "\n",
      "Sending 266 bytes\n",
      "Message:\n",
      "OrderedDict([('correlation_id', '2017-01-31 12:38:06.739300'), ('function', 'getLog'), ('message_id', '2017-01-31 12:38:06.739300'), ('need_result', True), ('receiver', 'neuron_x1'), ('reply_to', 'Client_366'), ('sender', 'Client_366'), ('type', 'function')])\n",
      "\n",
      "\n",
      "Data received: 244 bytes\n",
      "Message:\n",
      "OrderedDict([('correlation_id', '2017-01-31 12:38:06.739300'), ('message_id', '159197'), ('receiver', 'Client_366'), ('reply_to', 'neuron_x1'), ('sender', 'neuron_x1'), ('time_stamp', '2017-01-31 12:38:06.959900'), ('type', 'result')])\n",
      "\n",
      "Sending 266 bytes\n",
      "Message:\n",
      "OrderedDict([('correlation_id', '2017-01-31 12:38:07.879500'), ('function', 'getLog'), ('message_id', '2017-01-31 12:38:07.879500'), ('need_result', True), ('receiver', 'neuron_x2'), ('reply_to', 'Client_366'), ('sender', 'Client_366'), ('type', 'function')])\n",
      "\n",
      "\n",
      "Data received: 428 bytes\n",
      "Message:\n",
      "OrderedDict([('correlation_id', '2017-01-31 12:38:07.879500'), ('message_id', '87017'), ('receiver', 'Client_366'), ('reply_to', 'neuron_x2'), ('result', [[85728, 'neuron_x2', 'neuron_x1 is kicking neuron_x2.'], [85933, 'neuron_x2', 'neuron_x2 fires.'], [85936, 'neuron_x2', 'Setting output of neuron_x2 to ACTION_POTENTIAL.']]), ('sender', 'neuron_x2'), ('time_stamp', '2017-01-31 12:38:08.443700'), ('type', 'result')])\n",
      "\n"
     ]
    },
    {
     "data": {
      "text/html": [
       "<div>\n",
       "<table border=\"1\" class=\"dataframe\">\n",
       "  <thead>\n",
       "    <tr style=\"text-align: right;\">\n",
       "      <th></th>\n",
       "      <th>neuron</th>\n",
       "      <th>message</th>\n",
       "    </tr>\n",
       "    <tr>\n",
       "      <th>time</th>\n",
       "      <th></th>\n",
       "      <th></th>\n",
       "    </tr>\n",
       "  </thead>\n",
       "  <tbody>\n",
       "    <tr>\n",
       "      <th>85728</th>\n",
       "      <td>neuron_x2</td>\n",
       "      <td>neuron_x1 is kicking neuron_x2.</td>\n",
       "    </tr>\n",
       "    <tr>\n",
       "      <th>85933</th>\n",
       "      <td>neuron_x2</td>\n",
       "      <td>neuron_x2 fires.</td>\n",
       "    </tr>\n",
       "    <tr>\n",
       "      <th>85936</th>\n",
       "      <td>neuron_x2</td>\n",
       "      <td>Setting output of neuron_x2 to ACTION_POTENTIAL.</td>\n",
       "    </tr>\n",
       "  </tbody>\n",
       "</table>\n",
       "</div>"
      ],
      "text/plain": [
       "          neuron                                           message\n",
       "time                                                              \n",
       "85728  neuron_x2                   neuron_x1 is kicking neuron_x2.\n",
       "85933  neuron_x2                                  neuron_x2 fires.\n",
       "85936  neuron_x2  Setting output of neuron_x2 to ACTION_POTENTIAL."
      ]
     },
     "execution_count": 17,
     "metadata": {},
     "output_type": "execute_result"
    }
   ],
   "source": [
    "### 模擬 sensor input，強迫 neuron x 或 y ouput 1\n",
    "emptyLogs()  # 清除 logs\n",
    "sleep(REFRACTORY_PERIOD)  # 等電位歸零 \n",
    "mergeLogs()  # 彙整 logs"
   ]
  },
  {
   "cell_type": "code",
   "execution_count": 18,
   "metadata": {
    "collapsed": false
   },
   "outputs": [
    {
     "name": "stdout",
     "output_type": "stream",
     "text": [
      "Sending 247 bytes\n",
      "Message:\n",
      "OrderedDict([('correlation_id', '2017-01-31 12:38:09.109700'), ('function', 'emptyLog'), ('message_id', '2017-01-31 12:38:09.109700'), ('receiver', 'neuron_x1'), ('reply_to', 'Client_366'), ('sender', 'Client_366'), ('type', 'function')])\n",
      "\n",
      "Sending 247 bytes\n",
      "Message:\n",
      "OrderedDict([('correlation_id', '2017-01-31 12:38:09.194300'), ('function', 'emptyLog'), ('message_id', '2017-01-31 12:38:09.194300'), ('receiver', 'neuron_x2'), ('reply_to', 'Client_366'), ('sender', 'Client_366'), ('type', 'function')])\n",
      "\n",
      "Sending 243 bytes\n",
      "Message:\n",
      "OrderedDict([('correlation_id', '2017-01-31 12:38:09.381500'), ('function', 'fire'), ('message_id', '2017-01-31 12:38:09.381500'), ('receiver', 'neuron_x1'), ('reply_to', 'Client_366'), ('sender', 'Client_366'), ('type', 'function')])\n",
      "\n",
      "Sending 266 bytes\n",
      "Message:\n",
      "OrderedDict([('correlation_id', '2017-01-31 12:38:09.443900'), ('function', 'getLog'), ('message_id', '2017-01-31 12:38:09.443900'), ('need_result', True), ('receiver', 'neuron_x1'), ('reply_to', 'Client_366'), ('sender', 'Client_366'), ('type', 'function')])\n",
      "\n",
      "\n",
      "Data received: 374 bytes\n",
      "Message:\n",
      "OrderedDict([('correlation_id', '2017-01-31 12:38:09.443900'), ('message_id', '162120'), ('receiver', 'Client_366'), ('reply_to', 'neuron_x1'), ('result', [[162027, 'neuron_x1', 'neuron_x1 fires.'], [162029, 'neuron_x1', 'Setting output of neuron_x1 to ACTION_POTENTIAL.']]), ('sender', 'neuron_x1'), ('time_stamp', '2017-01-31 12:38:10.214300'), ('type', 'result')])\n",
      "\n",
      "Sending 266 bytes\n",
      "Message:\n",
      "OrderedDict([('correlation_id', '2017-01-31 12:38:10.292300'), ('function', 'getLog'), ('message_id', '2017-01-31 12:38:10.292300'), ('need_result', True), ('receiver', 'neuron_x2'), ('reply_to', 'Client_366'), ('sender', 'Client_366'), ('type', 'function')])\n",
      "\n",
      "\n",
      "Data received: 428 bytes\n",
      "Message:\n",
      "OrderedDict([('correlation_id', '2017-01-31 12:38:10.292300'), ('message_id', '89373'), ('receiver', 'Client_366'), ('reply_to', 'neuron_x2'), ('result', [[88868, 'neuron_x2', 'neuron_x1 is kicking neuron_x2.'], [89073, 'neuron_x2', 'neuron_x2 fires.'], [89075, 'neuron_x2', 'Setting output of neuron_x2 to ACTION_POTENTIAL.']]), ('sender', 'neuron_x2'), ('time_stamp', '2017-01-31 12:38:10.731500'), ('type', 'result')])\n",
      "\n"
     ]
    },
    {
     "data": {
      "text/html": [
       "<div>\n",
       "<table border=\"1\" class=\"dataframe\">\n",
       "  <thead>\n",
       "    <tr style=\"text-align: right;\">\n",
       "      <th></th>\n",
       "      <th>neuron</th>\n",
       "      <th>message</th>\n",
       "    </tr>\n",
       "    <tr>\n",
       "      <th>time</th>\n",
       "      <th></th>\n",
       "      <th></th>\n",
       "    </tr>\n",
       "  </thead>\n",
       "  <tbody>\n",
       "    <tr>\n",
       "      <th>88868</th>\n",
       "      <td>neuron_x2</td>\n",
       "      <td>neuron_x1 is kicking neuron_x2.</td>\n",
       "    </tr>\n",
       "    <tr>\n",
       "      <th>89073</th>\n",
       "      <td>neuron_x2</td>\n",
       "      <td>neuron_x2 fires.</td>\n",
       "    </tr>\n",
       "    <tr>\n",
       "      <th>89075</th>\n",
       "      <td>neuron_x2</td>\n",
       "      <td>Setting output of neuron_x2 to ACTION_POTENTIAL.</td>\n",
       "    </tr>\n",
       "    <tr>\n",
       "      <th>162027</th>\n",
       "      <td>neuron_x1</td>\n",
       "      <td>neuron_x1 fires.</td>\n",
       "    </tr>\n",
       "    <tr>\n",
       "      <th>162029</th>\n",
       "      <td>neuron_x1</td>\n",
       "      <td>Setting output of neuron_x1 to ACTION_POTENTIAL.</td>\n",
       "    </tr>\n",
       "  </tbody>\n",
       "</table>\n",
       "</div>"
      ],
      "text/plain": [
       "           neuron                                           message\n",
       "time                                                               \n",
       "88868   neuron_x2                   neuron_x1 is kicking neuron_x2.\n",
       "89073   neuron_x2                                  neuron_x2 fires.\n",
       "89075   neuron_x2  Setting output of neuron_x2 to ACTION_POTENTIAL.\n",
       "162027  neuron_x1                                  neuron_x1 fires.\n",
       "162029  neuron_x1  Setting output of neuron_x1 to ACTION_POTENTIAL."
      ]
     },
     "execution_count": 18,
     "metadata": {},
     "output_type": "execute_result"
    }
   ],
   "source": [
    "### 模擬 sensor input，強迫 neuron x 或 y ouput 1\n",
    "emptyLogs()  # 清除 logs\n",
    "sleep(REFRACTORY_PERIOD)  # 等電位歸零\n",
    "fire('neuron_x1') # force neuron x1 output 1 and fire.\n",
    "mergeLogs()  # 彙整 logs"
   ]
  },
  {
   "cell_type": "code",
   "execution_count": 19,
   "metadata": {
    "collapsed": false
   },
   "outputs": [
    {
     "name": "stdout",
     "output_type": "stream",
     "text": [
      "Sending 247 bytes\n",
      "Message:\n",
      "OrderedDict([('correlation_id', '2017-01-31 12:38:11.596300'), ('function', 'emptyLog'), ('message_id', '2017-01-31 12:38:11.596300'), ('receiver', 'neuron_x1'), ('reply_to', 'Client_366'), ('sender', 'Client_366'), ('type', 'function')])\n",
      "\n",
      "Sending 247 bytes\n",
      "Message:\n",
      "OrderedDict([('correlation_id', '2017-01-31 12:38:11.694300'), ('function', 'emptyLog'), ('message_id', '2017-01-31 12:38:11.694300'), ('receiver', 'neuron_x2'), ('reply_to', 'Client_366'), ('sender', 'Client_366'), ('type', 'function')])\n",
      "\n",
      "Sending 243 bytes\n",
      "Message:\n",
      "OrderedDict([('correlation_id', '2017-01-31 12:38:11.923100'), ('function', 'fire'), ('message_id', '2017-01-31 12:38:11.923100'), ('receiver', 'neuron_x2'), ('reply_to', 'Client_366'), ('sender', 'Client_366'), ('type', 'function')])\n",
      "\n",
      "Sending 266 bytes\n",
      "Message:\n",
      "OrderedDict([('correlation_id', '2017-01-31 12:38:11.969900'), ('function', 'getLog'), ('message_id', '2017-01-31 12:38:11.969900'), ('need_result', True), ('receiver', 'neuron_x1'), ('reply_to', 'Client_366'), ('sender', 'Client_366'), ('type', 'function')])\n",
      "\n",
      "\n",
      "Data received: 244 bytes\n",
      "Message:\n",
      "OrderedDict([('correlation_id', '2017-01-31 12:38:11.969900'), ('message_id', '164487'), ('receiver', 'Client_366'), ('reply_to', 'neuron_x1'), ('sender', 'neuron_x1'), ('time_stamp', '2017-01-31 12:38:12.482900'), ('type', 'result')])\n",
      "\n",
      "Sending 266 bytes\n",
      "Message:\n",
      "OrderedDict([('correlation_id', '2017-01-31 12:38:12.583900'), ('function', 'getLog'), ('message_id', '2017-01-31 12:38:12.583900'), ('need_result', True), ('receiver', 'neuron_x2'), ('reply_to', 'Client_366'), ('sender', 'Client_366'), ('type', 'function')])\n",
      "\n",
      "\n",
      "Data received: 371 bytes\n",
      "Message:\n",
      "OrderedDict([('correlation_id', '2017-01-31 12:38:12.583900'), ('message_id', '91720'), ('receiver', 'Client_366'), ('reply_to', 'neuron_x2'), ('result', [[91213, 'neuron_x2', 'neuron_x2 fires.'], [91216, 'neuron_x2', 'Setting output of neuron_x2 to ACTION_POTENTIAL.']]), ('sender', 'neuron_x2'), ('time_stamp', '2017-01-31 12:38:13.000100'), ('type', 'result')])\n",
      "\n"
     ]
    },
    {
     "data": {
      "text/html": [
       "<div>\n",
       "<table border=\"1\" class=\"dataframe\">\n",
       "  <thead>\n",
       "    <tr style=\"text-align: right;\">\n",
       "      <th></th>\n",
       "      <th>neuron</th>\n",
       "      <th>message</th>\n",
       "    </tr>\n",
       "    <tr>\n",
       "      <th>time</th>\n",
       "      <th></th>\n",
       "      <th></th>\n",
       "    </tr>\n",
       "  </thead>\n",
       "  <tbody>\n",
       "    <tr>\n",
       "      <th>91213</th>\n",
       "      <td>neuron_x2</td>\n",
       "      <td>neuron_x2 fires.</td>\n",
       "    </tr>\n",
       "    <tr>\n",
       "      <th>91216</th>\n",
       "      <td>neuron_x2</td>\n",
       "      <td>Setting output of neuron_x2 to ACTION_POTENTIAL.</td>\n",
       "    </tr>\n",
       "  </tbody>\n",
       "</table>\n",
       "</div>"
      ],
      "text/plain": [
       "          neuron                                           message\n",
       "time                                                              \n",
       "91213  neuron_x2                                  neuron_x2 fires.\n",
       "91216  neuron_x2  Setting output of neuron_x2 to ACTION_POTENTIAL."
      ]
     },
     "execution_count": 19,
     "metadata": {},
     "output_type": "execute_result"
    }
   ],
   "source": [
    "### 模擬 sensor input，強迫 neuron x 或 y ouput 1\n",
    "emptyLogs()  # 清除 logs\n",
    "sleep(REFRACTORY_PERIOD)  # 等電位歸零\n",
    "fire('neuron_x2') # force neuron x2 output 1 and fire.\n",
    "mergeLogs()  # 彙整 logs"
   ]
  },
  {
   "cell_type": "code",
   "execution_count": 20,
   "metadata": {
    "collapsed": false
   },
   "outputs": [
    {
     "name": "stdout",
     "output_type": "stream",
     "text": [
      "Sending 247 bytes\n",
      "Message:\n",
      "OrderedDict([('correlation_id', '2017-01-31 12:38:13.775300'), ('function', 'emptyLog'), ('message_id', '2017-01-31 12:38:13.775300'), ('receiver', 'neuron_x1'), ('reply_to', 'Client_366'), ('sender', 'Client_366'), ('type', 'function')])\n",
      "\n",
      "Sending 247 bytes\n",
      "Message:\n",
      "OrderedDict([('correlation_id', '2017-01-31 12:38:13.892500'), ('function', 'emptyLog'), ('message_id', '2017-01-31 12:38:13.892500'), ('receiver', 'neuron_x2'), ('reply_to', 'Client_366'), ('sender', 'Client_366'), ('type', 'function')])\n",
      "\n",
      "Sending 243 bytes\n",
      "Message:\n",
      "OrderedDict([('correlation_id', '2017-01-31 12:38:14.126500'), ('function', 'fire'), ('message_id', '2017-01-31 12:38:14.126500'), ('receiver', 'neuron_x1'), ('reply_to', 'Client_366'), ('sender', 'Client_366'), ('type', 'function')])\n",
      "\n",
      "Sending 243 bytes\n",
      "Message:\n",
      "OrderedDict([('correlation_id', '2017-01-31 12:38:14.188900'), ('function', 'fire'), ('message_id', '2017-01-31 12:38:14.188900'), ('receiver', 'neuron_x2'), ('reply_to', 'Client_366'), ('sender', 'Client_366'), ('type', 'function')])\n",
      "\n",
      "Sending 266 bytes\n",
      "Message:\n",
      "OrderedDict([('correlation_id', '2017-01-31 12:38:14.251300'), ('function', 'getLog'), ('message_id', '2017-01-31 12:38:14.251300'), ('need_result', True), ('receiver', 'neuron_x1'), ('reply_to', 'Client_366'), ('sender', 'Client_366'), ('type', 'function')])\n",
      "\n",
      "\n",
      "Data received: 374 bytes\n",
      "Message:\n",
      "OrderedDict([('correlation_id', '2017-01-31 12:38:14.251300'), ('message_id', '166930'), ('receiver', 'Client_366'), ('reply_to', 'neuron_x1'), ('result', [[166836, 'neuron_x1', 'neuron_x1 fires.'], [166838, 'neuron_x1', 'Setting output of neuron_x1 to ACTION_POTENTIAL.']]), ('sender', 'neuron_x1'), ('time_stamp', '2017-01-31 12:38:14.877300'), ('type', 'result')])\n",
      "\n",
      "Sending 266 bytes\n",
      "Message:\n",
      "OrderedDict([('correlation_id', '2017-01-31 12:38:14.955300'), ('function', 'getLog'), ('message_id', '2017-01-31 12:38:14.955300'), ('need_result', True), ('receiver', 'neuron_x2'), ('reply_to', 'Client_366'), ('sender', 'Client_366'), ('type', 'function')])\n",
      "\n",
      "\n",
      "Data received: 544 bytes\n",
      "Message:\n",
      "OrderedDict([('correlation_id', '2017-01-31 12:38:14.955300'), ('message_id', '94031'), ('receiver', 'Client_366'), ('reply_to', 'neuron_x2'), ('result', [[93516, 'neuron_x2', 'neuron_x2 fires.'], [93519, 'neuron_x2', 'Setting output of neuron_x2 to ACTION_POTENTIAL.'], [93635, 'neuron_x2', 'neuron_x1 is kicking neuron_x2.'], [93840, 'neuron_x2', 'neuron_x2 fires.'], [93842, 'neuron_x2', 'Setting output of neuron_x2 to ACTION_POTENTIAL.']]), ('sender', 'neuron_x2'), ('time_stamp', '2017-01-31 12:38:15.403300'), ('type', 'result')])\n",
      "\n"
     ]
    },
    {
     "data": {
      "text/html": [
       "<div>\n",
       "<table border=\"1\" class=\"dataframe\">\n",
       "  <thead>\n",
       "    <tr style=\"text-align: right;\">\n",
       "      <th></th>\n",
       "      <th>neuron</th>\n",
       "      <th>message</th>\n",
       "    </tr>\n",
       "    <tr>\n",
       "      <th>time</th>\n",
       "      <th></th>\n",
       "      <th></th>\n",
       "    </tr>\n",
       "  </thead>\n",
       "  <tbody>\n",
       "    <tr>\n",
       "      <th>93516</th>\n",
       "      <td>neuron_x2</td>\n",
       "      <td>neuron_x2 fires.</td>\n",
       "    </tr>\n",
       "    <tr>\n",
       "      <th>93519</th>\n",
       "      <td>neuron_x2</td>\n",
       "      <td>Setting output of neuron_x2 to ACTION_POTENTIAL.</td>\n",
       "    </tr>\n",
       "    <tr>\n",
       "      <th>93635</th>\n",
       "      <td>neuron_x2</td>\n",
       "      <td>neuron_x1 is kicking neuron_x2.</td>\n",
       "    </tr>\n",
       "    <tr>\n",
       "      <th>93840</th>\n",
       "      <td>neuron_x2</td>\n",
       "      <td>neuron_x2 fires.</td>\n",
       "    </tr>\n",
       "    <tr>\n",
       "      <th>93842</th>\n",
       "      <td>neuron_x2</td>\n",
       "      <td>Setting output of neuron_x2 to ACTION_POTENTIAL.</td>\n",
       "    </tr>\n",
       "    <tr>\n",
       "      <th>166836</th>\n",
       "      <td>neuron_x1</td>\n",
       "      <td>neuron_x1 fires.</td>\n",
       "    </tr>\n",
       "    <tr>\n",
       "      <th>166838</th>\n",
       "      <td>neuron_x1</td>\n",
       "      <td>Setting output of neuron_x1 to ACTION_POTENTIAL.</td>\n",
       "    </tr>\n",
       "  </tbody>\n",
       "</table>\n",
       "</div>"
      ],
      "text/plain": [
       "           neuron                                           message\n",
       "time                                                               \n",
       "93516   neuron_x2                                  neuron_x2 fires.\n",
       "93519   neuron_x2  Setting output of neuron_x2 to ACTION_POTENTIAL.\n",
       "93635   neuron_x2                   neuron_x1 is kicking neuron_x2.\n",
       "93840   neuron_x2                                  neuron_x2 fires.\n",
       "93842   neuron_x2  Setting output of neuron_x2 to ACTION_POTENTIAL.\n",
       "166836  neuron_x1                                  neuron_x1 fires.\n",
       "166838  neuron_x1  Setting output of neuron_x1 to ACTION_POTENTIAL."
      ]
     },
     "execution_count": 20,
     "metadata": {},
     "output_type": "execute_result"
    }
   ],
   "source": [
    "### 模擬 sensor input，強迫 neuron x 或 y ouput 1\n",
    "emptyLogs()  # 清除 logs\n",
    "sleep(REFRACTORY_PERIOD)  # 等電位歸零\n",
    "fire('neuron_x1') # force neuron x1 output 1 and fire.\n",
    "fire('neuron_x2') # force neuron x2 output 1 and fire.\n",
    "mergeLogs()  # 彙整 logs"
   ]
  },
  {
   "cell_type": "code",
   "execution_count": 21,
   "metadata": {
    "collapsed": false
   },
   "outputs": [
    {
     "name": "stdout",
     "output_type": "stream",
     "text": [
      "Sending 269 bytes\n",
      "Message:\n",
      "OrderedDict([('correlation_id', '2017-01-31 12:38:16.117100'), ('function', 'getConfig'), ('message_id', '2017-01-31 12:38:16.117100'), ('need_result', True), ('receiver', 'neuron_x2'), ('reply_to', 'Client_366'), ('sender', 'Client_366'), ('type', 'function')])\n",
      "\n",
      "\n",
      "Data received: 455 bytes\n",
      "Message:\n",
      "OrderedDict([('correlation_id', '2017-01-31 12:38:16.117100'), ('message_id', '95223'), ('receiver', 'Client_366'), ('reply_to', 'neuron_x2'), ('result', {'threshold': 0.8999998, 'inputs': {'neuron_x1': {'lasting': 500.0, 'kick_time': 93635, 'value': 1}}, 'weights': {'neuron_x1': 1}, 'output': {'lasting': 99.99997, 'polarized_time': 93842, 'value': 1}}), ('sender', 'neuron_x2'), ('time_stamp', '2017-01-31 12:38:16.399700'), ('type', 'result')])\n",
      "\n",
      "______________________________neuron_x2 config:_______________________________\n",
      " {'threshold': 0.8999998, 'inputs': {'neuron_x1': {'lasting': 500.0, 'kick_time': 93635, 'value': 1}}, 'weights': {'neuron_x1': 1}, 'output': {'lasting': 99.99997, 'polarized_time': 93842, 'value': 1}}\n",
      "\n",
      "Sending 269 bytes\n",
      "Message:\n",
      "OrderedDict([('correlation_id', '2017-01-31 12:38:16.604900'), ('function', 'getConfig'), ('message_id', '2017-01-31 12:38:16.604900'), ('need_result', True), ('receiver', 'neuron_x1'), ('reply_to', 'Client_366'), ('sender', 'Client_366'), ('type', 'function')])\n",
      "\n",
      "\n",
      "Data received: 384 bytes\n",
      "Message:\n",
      "OrderedDict([('correlation_id', '2017-01-31 12:38:16.604900'), ('message_id', '169142'), ('receiver', 'Client_366'), ('reply_to', 'neuron_x1'), ('result', {'connections': {'neuron_x2': 'neuron_x2'}, 'inputs': {}, 'output': {'lasting': 99.99997, 'polarized_time': 166838, 'value': 1}}), ('sender', 'neuron_x1'), ('time_stamp', '2017-01-31 12:38:17.065900'), ('type', 'result')])\n",
      "\n",
      "______________________________neuron_x1 config:_______________________________\n",
      " {'connections': {'neuron_x2': 'neuron_x2'}, 'inputs': {}, 'output': {'lasting': 99.99997, 'polarized_time': 166838, 'value': 1}}\n",
      "\n"
     ]
    }
   ],
   "source": [
    "for neuron in reversed(neurons): printConfig(neuron)"
   ]
  },
  {
   "cell_type": "markdown",
   "metadata": {},
   "source": [
    "### Stop the demo"
   ]
  },
  {
   "cell_type": "code",
   "execution_count": 22,
   "metadata": {
    "collapsed": false
   },
   "outputs": [
    {
     "name": "stdout",
     "output_type": "stream",
     "text": [
      "\n",
      "[________________ Demo stopped ________________]\n",
      "\n"
     ]
    }
   ],
   "source": [
    "# Stopping\n",
    "the_client.stop()\n",
    "the_client = None\n",
    "print ('\\n[________________ Demo stopped ________________]\\n')"
   ]
  }
 ],
 "metadata": {
  "anaconda-cloud": {},
  "kernelspec": {
   "display_name": "Python [default]",
   "language": "python",
   "name": "python3"
  },
  "language_info": {
   "codemirror_mode": {
    "name": "ipython",
    "version": 3
   },
   "file_extension": ".py",
   "mimetype": "text/x-python",
   "name": "python",
   "nbconvert_exporter": "python",
   "pygments_lexer": "ipython3",
   "version": "3.5.1"
  }
 },
 "nbformat": 4,
 "nbformat_minor": 0
}
