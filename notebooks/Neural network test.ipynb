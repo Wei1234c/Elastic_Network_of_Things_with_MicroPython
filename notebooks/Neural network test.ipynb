{
 "cells": [
  {
   "cell_type": "markdown",
   "metadata": {},
   "source": [
    "# Neural network test"
   ]
  },
  {
   "cell_type": "code",
   "execution_count": 50,
   "metadata": {
    "collapsed": true
   },
   "outputs": [],
   "source": [
    "import os\n",
    "import sys\n",
    "import time\n",
    " \n",
    "sys.path.append(os.path.abspath(os.path.join(os.path.pardir, 'codes', 'client')))\n",
    "sys.path.append(os.path.abspath(os.path.join(os.path.pardir, 'codes', 'node')))\n",
    "sys.path.append(os.path.abspath(os.path.join(os.path.pardir, 'codes', 'shared')))\n",
    "sys.path.append(os.path.abspath(os.path.join(os.path.pardir, 'codes', 'micropython')))\n",
    " \n",
    "import client\n",
    "from collections import OrderedDict"
   ]
  },
  {
   "cell_type": "code",
   "execution_count": 51,
   "metadata": {
    "collapsed": false
   },
   "outputs": [],
   "source": [
    "import pandas as pd\n",
    "from pandas import DataFrame\n",
    "from time import sleep\n",
    "REFRACTORY_PERIOD = 0.1   # 0.1 seconds"
   ]
  },
  {
   "cell_type": "code",
   "execution_count": 52,
   "metadata": {
    "collapsed": true
   },
   "outputs": [],
   "source": [
    "# 每個 ESP8266模組 各代表一個 neurons\n",
    "# neurons = ['neuron_x1', 'neuron_x2', 'neuron_h1', 'neuron_h2', 'neuron_h3', 'neuron_y'] \n",
    "neurons = ['neuron_x1', 'neuron_x2'] "
   ]
  },
  {
   "cell_type": "markdown",
   "metadata": {},
   "source": [
    "## Start client"
   ]
  },
  {
   "cell_type": "code",
   "execution_count": 53,
   "metadata": {
    "collapsed": false
   },
   "outputs": [
    {
     "name": "stdout",
     "output_type": "stream",
     "text": [
      "My name is Client_366\n",
      "\n",
      "[Connected: ('192.168.0.105', 9662)]\n",
      "Sending 313 bytes\n",
      "Message:\n",
      "OrderedDict([('command', 'set connection name'), ('correlation_id', '2017-02-02 01:09:53.465100'), ('kwargs', {'name': 'Client_366'}), ('message_id', '2017-02-02 01:09:53.465100'), ('message_type', 'command'), ('need_result', True), ('receiver', 'Hub'), ('reply_to', 'Client_366'), ('sender', 'Client_366')])\n",
      "\n",
      "[Listen to messages]\n",
      "\n",
      "Data received: 409 bytes\n",
      "Message:\n",
      "OrderedDict([('correlation_id', '2017-02-02 01:09:53.465100'), ('message_id', '2017-02-02 01:09:53.630100'), ('message_type', 'result'), ('receiver', 'Client_366'), ('reply_to', 'Hub'), ('result', {'Client_366': \"('192.168.0.105', 53710)\", 'NodeMCU_1dsc000': \"('192.168.0.133', 18611)\", 'NodeMCU_f1d30800': \"('192.168.0.116', 25879)\"}), ('sender', 'Hub'), ('time_stamp', '2017-02-02 01:09:53.630100')])\n",
      "\n",
      "Node not ready yet.\n"
     ]
    }
   ],
   "source": [
    "the_client = client.Client()\n",
    "the_client.start()\n",
    "\n",
    "while not the_client.status['Is connected']:            \n",
    "    time.sleep(1)\n",
    "    print('Node not ready yet.')"
   ]
  },
  {
   "cell_type": "markdown",
   "metadata": {},
   "source": [
    "## Utilities"
   ]
  },
  {
   "cell_type": "markdown",
   "metadata": {},
   "source": [
    "### List nodes"
   ]
  },
  {
   "cell_type": "code",
   "execution_count": 54,
   "metadata": {
    "collapsed": false
   },
   "outputs": [],
   "source": [
    "# Ask Hub for a list of connected nodes\n",
    "def list_nodes():\n",
    "    message = {'message_type': 'command',\n",
    "               'command': 'list connections by name',\n",
    "               'need_result': True}     \n",
    "\n",
    "    _, asynch_result = the_client.request('Hub', message) \n",
    "\n",
    "    try:\n",
    "        remote_nodes = sorted(list(asynch_result.get().keys()))\n",
    "\n",
    "        print ('\\n[____________ Connected nodes ____________]\\n')        \n",
    "        print('\\nConnected nodes:\\n{}\\n'.format(remote_nodes)) \n",
    "        \n",
    "        return remote_nodes\n",
    "\n",
    "    except Exception as e:\n",
    "        print(e)"
   ]
  },
  {
   "cell_type": "code",
   "execution_count": 55,
   "metadata": {
    "collapsed": false
   },
   "outputs": [],
   "source": [
    "def reset_node(node):\n",
    "    message = {'message_type': 'exec',\n",
    "               'to_exec': 'import machine;machine.reset()'}\n",
    "    the_client.request(node, message) "
   ]
  },
  {
   "cell_type": "code",
   "execution_count": 56,
   "metadata": {
    "collapsed": false
   },
   "outputs": [],
   "source": [
    "# reset_node('neuron_x1')"
   ]
  },
  {
   "cell_type": "code",
   "execution_count": 57,
   "metadata": {
    "collapsed": false
   },
   "outputs": [],
   "source": [
    "def rename_node(node, new_name):\n",
    "    message = {'message_type': 'function',\n",
    "               'function': 'rename',\n",
    "               'kwargs': {'name': new_name}}\n",
    "    the_client.request(node, message) \n",
    "    \n",
    "    message = {'message_type': 'function',\n",
    "               'function': 'set_connection_name'}\n",
    "    the_client.request(node, message) \n",
    "    \n",
    "\n",
    "def rename_nodes(nodes, neurons):    \n",
    "    i = 0 \n",
    "    for node in nodes:\n",
    "        if node != the_client.node.worker.name:  # exclude client self\n",
    "            rename_node(node, neurons[i])\n",
    "            i += 1"
   ]
  },
  {
   "cell_type": "code",
   "execution_count": 58,
   "metadata": {
    "collapsed": false
   },
   "outputs": [],
   "source": [
    "def fire(node):\n",
    "    message = {'message_type': 'function',\n",
    "               'function': 'fire'}\n",
    "    the_client.request(node, message) \n",
    "\n",
    "def addConnection(node, neuron):\n",
    "    message = {'message_type': 'function',\n",
    "               'function': 'addConnection',\n",
    "               'kwargs': {'neuron_id': neuron}}\n",
    "    the_client.request(node, message) \n",
    "    \n",
    "def set_connections(node, connections):\n",
    "    message = {'message_type': 'function',\n",
    "               'function': 'setConnections',\n",
    "               'kwargs': {'connections': connections}}\n",
    "    the_client.request(node, message)     \n",
    "    \n",
    "def get_connections(node):\n",
    "    message = {'message_type': 'function',\n",
    "               'function': 'getConnections', \n",
    "               'need_result': True}\n",
    "    _, result = the_client.request(node, message) \n",
    "    return result.get()    \n",
    "\n",
    "def setWeight(node, neuron, weight):\n",
    "    message = {'message_type': 'function',\n",
    "               'function': 'setWeight',\n",
    "               'kwargs': {'neuron_id': neuron,\n",
    "                          'weight': weight,}}\n",
    "    the_client.request(node, message) \n",
    "\n",
    "def setThreshold(node, threshold):\n",
    "    message = {'message_type': 'function',\n",
    "               'function': 'setThreshold',\n",
    "               'kwargs': {'threshold': threshold}}\n",
    "    the_client.request(node, message) \n",
    "        \n",
    "def getConfig(node):\n",
    "    message = {'message_type': 'function',\n",
    "               'function': 'getConfig', \n",
    "               'need_result': True}\n",
    "    _, result = the_client.request(node, message) \n",
    "    return result.get()\n",
    "\n",
    "def getLog(node):\n",
    "    message = {'message_type': 'function',\n",
    "               'function': 'getLog', \n",
    "               'need_result': True}\n",
    "    _, result = the_client.request(node, message) \n",
    "    return result.get()\n",
    "\n",
    "def emptyLog(node):\n",
    "    message = {'message_type': 'function',\n",
    "               'function': 'emptyLog'}\n",
    "    the_client.request(node, message)\n",
    "    \n",
    "def emptyLogs():\n",
    "    for neuron in neurons:\n",
    "        emptyLog(neuron) \n",
    "        \n",
    "# 彙整logs。將所有 neurons 中的 logs merge 在一起，成為一個 Pandas.DataFrame\n",
    "def mergeLogs():\n",
    "    logs = []\n",
    "    \n",
    "    for neuron in neurons:\n",
    "        if neuron != the_client.node.worker.name:  # exclude client self\n",
    "            currentLog = getLog(neuron)\n",
    "            if currentLog:\n",
    "                logs += currentLog \n",
    "            \n",
    "    df = DataFrame(list(logs), columns = ['time', 'neuron', 'message']) \n",
    "    df.set_index('time', inplace = True)\n",
    "    df.sort_index(inplace = True)\n",
    "    \n",
    "    return df        "
   ]
  },
  {
   "cell_type": "code",
   "execution_count": 59,
   "metadata": {
    "collapsed": false
   },
   "outputs": [],
   "source": [
    "# print 出 一個 neuron 中的 Log\n",
    "def printConfig(neuron):\n",
    "    print('{0:_^78}\\n {1}\\n'.format(neuron + \" config:\", getConfig(neuron)))"
   ]
  },
  {
   "cell_type": "markdown",
   "metadata": {},
   "source": [
    "## 設定 network config"
   ]
  },
  {
   "cell_type": "markdown",
   "metadata": {},
   "source": [
    "### Rename nodes"
   ]
  },
  {
   "cell_type": "code",
   "execution_count": 60,
   "metadata": {
    "collapsed": false
   },
   "outputs": [
    {
     "name": "stdout",
     "output_type": "stream",
     "text": [
      "Sending 284 bytes\n",
      "Message:\n",
      "OrderedDict([('command', 'list connections by name'), ('correlation_id', '2017-02-02 01:09:55.497100'), ('message_id', '2017-02-02 01:09:55.497100'), ('message_type', 'command'), ('need_result', True), ('receiver', 'Hub'), ('reply_to', 'Client_366'), ('sender', 'Client_366')])\n",
      "\n",
      "\n",
      "Data received: 409 bytes\n",
      "Message:\n",
      "OrderedDict([('correlation_id', '2017-02-02 01:09:55.497100'), ('message_id', '2017-02-02 01:09:55.614100'), ('message_type', 'result'), ('receiver', 'Client_366'), ('reply_to', 'Hub'), ('result', {'Client_366': \"('192.168.0.105', 53710)\", 'NodeMCU_1dsc000': \"('192.168.0.133', 18611)\", 'NodeMCU_f1d30800': \"('192.168.0.116', 25879)\"}), ('sender', 'Hub'), ('time_stamp', '2017-02-02 01:09:55.614100')])\n",
      "\n",
      "\n",
      "[____________ Connected nodes ____________]\n",
      "\n",
      "\n",
      "Connected nodes:\n",
      "['Client_366', 'NodeMCU_1dsc000', 'NodeMCU_f1d30800']\n",
      "\n",
      "Sending 292 bytes\n",
      "Message:\n",
      "OrderedDict([('correlation_id', '2017-02-02 01:09:55.727100'), ('function', 'rename'), ('kwargs', {'name': 'neuron_x1'}), ('message_id', '2017-02-02 01:09:55.727100'), ('message_type', 'function'), ('receiver', 'NodeMCU_1dsc000'), ('reply_to', 'Client_366'), ('sender', 'Client_366')])\n",
      "Sending 272 bytes\n",
      "Message:\n",
      "OrderedDict([('correlation_id', '2017-02-02 01:09:55.862100'), ('function', 'set_connection_name'), ('message_id', '2017-02-02 01:09:55.862100'), ('message_type', 'function'), ('receiver', 'NodeMCU_1dsc000'), ('reply_to', 'Client_366'), ('sender', 'Client_366')])\n",
      "\n",
      "\n",
      "Sending 293 bytes\n",
      "Message:\n",
      "OrderedDict([('correlation_id', '2017-02-02 01:09:55.958100'), ('function', 'rename'), ('kwargs', {'name': 'neuron_x2'}), ('message_id', '2017-02-02 01:09:55.958100'), ('message_type', 'function'), ('receiver', 'NodeMCU_f1d30800'), ('reply_to', 'Client_366'), ('sender', 'Client_366')])\n",
      "\n",
      "Sending 273 bytes\n",
      "Message:\n",
      "OrderedDict([('correlation_id', '2017-02-02 01:09:56.082100'), ('function', 'set_connection_name'), ('message_id', '2017-02-02 01:09:56.082100'), ('message_type', 'function'), ('receiver', 'NodeMCU_f1d30800'), ('reply_to', 'Client_366'), ('sender', 'Client_366')])\n",
      "\n",
      "Sending 284 bytes\n",
      "Message:\n",
      "OrderedDict([('command', 'list connections by name'), ('correlation_id', '2017-02-02 01:09:58.205100'), ('message_id', '2017-02-02 01:09:58.205100'), ('message_type', 'command'), ('need_result', True), ('receiver', 'Hub'), ('reply_to', 'Client_366'), ('sender', 'Client_366')])\n",
      "\n",
      "\n",
      "Data received: 443 bytes\n",
      "Message:\n",
      "OrderedDict([('correlation_id', '2017-02-02 01:09:58.205100'), ('message_id', '2017-02-02 01:09:58.304100'), ('message_type', 'result'), ('receiver', 'Client_366'), ('reply_to', 'Hub'), ('result', {'Client_366': \"('192.168.0.105', 53710)\", 'neuron_x2': \"('192.168.0.116', 25879)\", 'NodeMCU_1dsc000': \"('192.168.0.133', 18611)\", 'neuron_x1': \"('192.168.0.133', 25683)\"}), ('sender', 'Hub'), ('time_stamp', '2017-02-02 01:09:58.304100')])\n",
      "\n",
      "\n",
      "[____________ Connected nodes ____________]\n",
      "\n",
      "\n",
      "Connected nodes:\n",
      "['Client_366', 'NodeMCU_1dsc000', 'neuron_x1', 'neuron_x2']\n",
      "\n"
     ]
    }
   ],
   "source": [
    "remote_nodes = list_nodes() \n",
    "rename_nodes(remote_nodes, neurons)\n",
    "time.sleep(2)\n",
    "remote_nodes = list_nodes()"
   ]
  },
  {
   "cell_type": "markdown",
   "metadata": {},
   "source": [
    "### 清空 log files"
   ]
  },
  {
   "cell_type": "code",
   "execution_count": 61,
   "metadata": {
    "collapsed": false
   },
   "outputs": [
    {
     "name": "stdout",
     "output_type": "stream",
     "text": [
      "Sending 255 bytes\n",
      "Message:\n",
      "OrderedDict([('correlation_id', '2017-02-02 01:09:58.457100'), ('function', 'emptyLog'), ('message_id', '2017-02-02 01:09:58.457100'), ('message_type', 'function'), ('receiver', 'neuron_x1'), ('reply_to', 'Client_366'), ('sender', 'Client_366')])\n",
      "\n",
      "Sending 255 bytes\n",
      "Message:\n",
      "OrderedDict([('correlation_id', '2017-02-02 01:09:58.568100'), ('function', 'emptyLog'), ('message_id', '2017-02-02 01:09:58.568100'), ('message_type', 'function'), ('receiver', 'neuron_x2'), ('reply_to', 'Client_366'), ('sender', 'Client_366')])\n",
      "\n"
     ]
    }
   ],
   "source": [
    "# 清除所有 neurons 中的 logs  \n",
    "emptyLogs()"
   ]
  },
  {
   "cell_type": "markdown",
   "metadata": {
    "collapsed": true
   },
   "source": [
    "### 設定 connections"
   ]
  },
  {
   "cell_type": "code",
   "execution_count": 62,
   "metadata": {
    "collapsed": false
   },
   "outputs": [
    {
     "name": "stdout",
     "output_type": "stream",
     "text": [
      "Sending 298 bytes\n",
      "Message:\n",
      "OrderedDict([('correlation_id', '2017-02-02 01:09:58.736100'), ('function', 'addConnection'), ('kwargs', {'neuron_id': 'neuron_x2'}), ('message_id', '2017-02-02 01:09:58.736100'), ('message_type', 'function'), ('receiver', 'neuron_x1'), ('reply_to', 'Client_366'), ('sender', 'Client_366')])\n",
      "\n",
      "Sending 277 bytes\n",
      "Message:\n",
      "OrderedDict([('correlation_id', '2017-02-02 01:09:58.864100'), ('function', 'getConfig'), ('message_id', '2017-02-02 01:09:58.864100'), ('message_type', 'function'), ('need_result', True), ('receiver', 'neuron_x1'), ('reply_to', 'Client_366'), ('sender', 'Client_366')])\n",
      "\n",
      "\n",
      "Data received: 394 bytes\n",
      "Message:\n",
      "OrderedDict([('correlation_id', '2017-02-02 01:09:58.864100'), ('message_id', '7724036'), ('message_type', 'result'), ('receiver', 'Client_366'), ('reply_to', 'neuron_x1'), ('result', {'inputs': {}, 'output': {'value': 0, 'lasting': 99.99997, 'polarized_time': 7641472}, 'connections': {'neuron_x2': 'neuron_x2'}}), ('sender', 'neuron_x1'), ('time_stamp', '2017-02-02 01:09:59.204100')])\n",
      "\n"
     ]
    },
    {
     "data": {
      "text/plain": [
       "{'connections': {'neuron_x2': 'neuron_x2'},\n",
       " 'inputs': {},\n",
       " 'output': {'lasting': 99.99997, 'polarized_time': 7641472, 'value': 0}}"
      ]
     },
     "execution_count": 62,
     "metadata": {},
     "output_type": "execute_result"
    }
   ],
   "source": [
    "addConnection('neuron_x1', 'neuron_x2')\n",
    "getConfig('neuron_x1')"
   ]
  },
  {
   "cell_type": "markdown",
   "metadata": {},
   "source": [
    "### 設定 weights"
   ]
  },
  {
   "cell_type": "code",
   "execution_count": 63,
   "metadata": {
    "collapsed": false
   },
   "outputs": [
    {
     "name": "stdout",
     "output_type": "stream",
     "text": [
      "Sending 307 bytes\n",
      "Message:\n",
      "OrderedDict([('correlation_id', '2017-02-02 01:09:59.363100'), ('function', 'setWeight'), ('kwargs', {'neuron_id': 'neuron_x1', 'weight': 1}), ('message_id', '2017-02-02 01:09:59.363100'), ('message_type', 'function'), ('receiver', 'neuron_x2'), ('reply_to', 'Client_366'), ('sender', 'Client_366')])\n",
      "\n"
     ]
    }
   ],
   "source": [
    "# hidden layer\n",
    "setWeight('neuron_x2', 'neuron_x1', 1)  # 設定 neuron_x -> neuron_h1 的 weight = 1"
   ]
  },
  {
   "cell_type": "markdown",
   "metadata": {},
   "source": [
    "### 設定 thresholds"
   ]
  },
  {
   "cell_type": "code",
   "execution_count": 64,
   "metadata": {
    "collapsed": false
   },
   "outputs": [
    {
     "name": "stdout",
     "output_type": "stream",
     "text": [
      "Sending 289 bytes\n",
      "Message:\n",
      "OrderedDict([('correlation_id', '2017-02-02 01:09:59.597100'), ('function', 'setThreshold'), ('kwargs', {'threshold': 0.9}), ('message_id', '2017-02-02 01:09:59.597100'), ('message_type', 'function'), ('receiver', 'neuron_x2'), ('reply_to', 'Client_366'), ('sender', 'Client_366')])\n",
      "\n"
     ]
    }
   ],
   "source": [
    "# input layer \n",
    "setThreshold('neuron_x2', 0.9)"
   ]
  },
  {
   "cell_type": "markdown",
   "metadata": {},
   "source": [
    "### 模擬 sensor input，然後查看各 neurons 的 output 狀態\n",
    "一個 neuron fire 之後，如果沒有持續的輸入可維持 fire 的狀態，則過 5 秒鐘之 neuron 的 output 一定為 0"
   ]
  },
  {
   "cell_type": "code",
   "execution_count": 65,
   "metadata": {
    "collapsed": false
   },
   "outputs": [
    {
     "name": "stdout",
     "output_type": "stream",
     "text": [
      "Sending 251 bytes\n",
      "Message:\n",
      "OrderedDict([('correlation_id', '2017-02-02 01:09:59.852100'), ('function', 'fire'), ('message_id', '2017-02-02 01:09:59.852100'), ('message_type', 'function'), ('receiver', 'neuron_x1'), ('reply_to', 'Client_366'), ('sender', 'Client_366')])\n",
      "\n"
     ]
    }
   ],
   "source": [
    "fire('neuron_x1')"
   ]
  },
  {
   "cell_type": "code",
   "execution_count": 66,
   "metadata": {
    "collapsed": false
   },
   "outputs": [
    {
     "name": "stdout",
     "output_type": "stream",
     "text": [
      "Sending 255 bytes\n",
      "Message:\n",
      "OrderedDict([('correlation_id', '2017-02-02 01:10:00.076100'), ('function', 'emptyLog'), ('message_id', '2017-02-02 01:10:00.076100'), ('message_type', 'function'), ('receiver', 'neuron_x1'), ('reply_to', 'Client_366'), ('sender', 'Client_366')])\n",
      "\n",
      "Sending 255 bytes\n",
      "Message:\n",
      "OrderedDict([('correlation_id', '2017-02-02 01:10:00.163100'), ('function', 'emptyLog'), ('message_id', '2017-02-02 01:10:00.163100'), ('message_type', 'function'), ('receiver', 'neuron_x2'), ('reply_to', 'Client_366'), ('sender', 'Client_366')])\n",
      "\n",
      "Sending 274 bytes\n",
      "Message:\n",
      "OrderedDict([('correlation_id', '2017-02-02 01:10:00.435100'), ('function', 'getLog'), ('message_id', '2017-02-02 01:10:00.435100'), ('message_type', 'function'), ('need_result', True), ('receiver', 'neuron_x1'), ('reply_to', 'Client_366'), ('sender', 'Client_366')])\n",
      "\n",
      "\n",
      "Data received: 253 bytes\n",
      "Message:\n",
      "OrderedDict([('correlation_id', '2017-02-02 01:10:00.435100'), ('message_id', '7725584'), ('message_type', 'result'), ('receiver', 'Client_366'), ('reply_to', 'neuron_x1'), ('sender', 'neuron_x1'), ('time_stamp', '2017-02-02 01:10:00.778100')])\n",
      "\n",
      "Sending 274 bytes\n",
      "Message:\n",
      "OrderedDict([('correlation_id', '2017-02-02 01:10:00.888100'), ('function', 'getLog'), ('message_id', '2017-02-02 01:10:00.888100'), ('message_type', 'function'), ('need_result', True), ('receiver', 'neuron_x2'), ('reply_to', 'Client_366'), ('sender', 'Client_366')])\n",
      "\n",
      "\n",
      "Data received: 436 bytes\n",
      "Message:\n",
      "OrderedDict([('correlation_id', '2017-02-02 01:10:00.888100'), ('message_id', '65271'), ('message_type', 'result'), ('receiver', 'Client_366'), ('reply_to', 'neuron_x2'), ('result', [[64625, 'neuron_x2', 'neuron_x1 is kicking neuron_x2.'], [64830, 'neuron_x2', 'neuron_x2 fires.'], [64833, 'neuron_x2', 'Setting output of neuron_x2 to ACTION_POTENTIAL.']]), ('sender', 'neuron_x2'), ('time_stamp', '2017-02-02 01:10:01.208100')])\n",
      "\n"
     ]
    },
    {
     "data": {
      "text/html": [
       "<div>\n",
       "<table border=\"1\" class=\"dataframe\">\n",
       "  <thead>\n",
       "    <tr style=\"text-align: right;\">\n",
       "      <th></th>\n",
       "      <th>neuron</th>\n",
       "      <th>message</th>\n",
       "    </tr>\n",
       "    <tr>\n",
       "      <th>time</th>\n",
       "      <th></th>\n",
       "      <th></th>\n",
       "    </tr>\n",
       "  </thead>\n",
       "  <tbody>\n",
       "    <tr>\n",
       "      <th>64625</th>\n",
       "      <td>neuron_x2</td>\n",
       "      <td>neuron_x1 is kicking neuron_x2.</td>\n",
       "    </tr>\n",
       "    <tr>\n",
       "      <th>64830</th>\n",
       "      <td>neuron_x2</td>\n",
       "      <td>neuron_x2 fires.</td>\n",
       "    </tr>\n",
       "    <tr>\n",
       "      <th>64833</th>\n",
       "      <td>neuron_x2</td>\n",
       "      <td>Setting output of neuron_x2 to ACTION_POTENTIAL.</td>\n",
       "    </tr>\n",
       "  </tbody>\n",
       "</table>\n",
       "</div>"
      ],
      "text/plain": [
       "          neuron                                           message\n",
       "time                                                              \n",
       "64625  neuron_x2                   neuron_x1 is kicking neuron_x2.\n",
       "64830  neuron_x2                                  neuron_x2 fires.\n",
       "64833  neuron_x2  Setting output of neuron_x2 to ACTION_POTENTIAL."
      ]
     },
     "execution_count": 66,
     "metadata": {},
     "output_type": "execute_result"
    }
   ],
   "source": [
    "### 模擬 sensor input，強迫 neuron x 或 y ouput 1\n",
    "emptyLogs()  # 清除 logs\n",
    "sleep(REFRACTORY_PERIOD)  # 等電位歸零 \n",
    "mergeLogs()  # 彙整 logs"
   ]
  },
  {
   "cell_type": "code",
   "execution_count": 67,
   "metadata": {
    "collapsed": false
   },
   "outputs": [
    {
     "name": "stdout",
     "output_type": "stream",
     "text": [
      "Sending 255 bytes\n",
      "Message:\n",
      "OrderedDict([('correlation_id', '2017-02-02 01:10:01.379100'), ('function', 'emptyLog'), ('message_id', '2017-02-02 01:10:01.379100'), ('message_type', 'function'), ('receiver', 'neuron_x1'), ('reply_to', 'Client_366'), ('sender', 'Client_366')])\n",
      "\n",
      "Sending 255 bytes\n",
      "Message:\n",
      "OrderedDict([('correlation_id', '2017-02-02 01:10:01.477100'), ('function', 'emptyLog'), ('message_id', '2017-02-02 01:10:01.477100'), ('message_type', 'function'), ('receiver', 'neuron_x2'), ('reply_to', 'Client_366'), ('sender', 'Client_366')])\n",
      "\n",
      "Sending 251 bytes\n",
      "Message:\n",
      "OrderedDict([('correlation_id', '2017-02-02 01:10:01.692100'), ('function', 'fire'), ('message_id', '2017-02-02 01:10:01.692100'), ('message_type', 'function'), ('receiver', 'neuron_x1'), ('reply_to', 'Client_366'), ('sender', 'Client_366')])\n",
      "\n",
      "Sending 274 bytes\n",
      "Message:\n",
      "OrderedDict([('correlation_id', '2017-02-02 01:10:01.786100'), ('function', 'getLog'), ('message_id', '2017-02-02 01:10:01.786100'), ('message_type', 'function'), ('need_result', True), ('receiver', 'neuron_x1'), ('reply_to', 'Client_366'), ('sender', 'Client_366')])\n",
      "\n",
      "\n",
      "Data received: 385 bytes\n",
      "Message:\n",
      "OrderedDict([('correlation_id', '2017-02-02 01:10:01.786100'), ('message_id', '7727156'), ('message_type', 'result'), ('receiver', 'Client_366'), ('reply_to', 'neuron_x1'), ('result', [[7727061, 'neuron_x1', 'neuron_x1 fires.'], [7727063, 'neuron_x1', 'Setting output of neuron_x1 to ACTION_POTENTIAL.']]), ('sender', 'neuron_x1'), ('time_stamp', '2017-02-02 01:10:02.534100')])\n",
      "\n",
      "Sending 274 bytes\n",
      "Message:\n",
      "OrderedDict([('correlation_id', '2017-02-02 01:10:02.632100'), ('function', 'getLog'), ('message_id', '2017-02-02 01:10:02.632100'), ('message_type', 'function'), ('need_result', True), ('receiver', 'neuron_x2'), ('reply_to', 'Client_366'), ('sender', 'Client_366')])\n",
      "\n",
      "\n",
      "Data received: 436 bytes\n",
      "Message:\n",
      "OrderedDict([('correlation_id', '2017-02-02 01:10:02.632100'), ('message_id', '66990'), ('message_type', 'result'), ('receiver', 'Client_366'), ('reply_to', 'neuron_x2'), ('result', [[66620, 'neuron_x2', 'neuron_x1 is kicking neuron_x2.'], [66825, 'neuron_x2', 'neuron_x2 fires.'], [66827, 'neuron_x2', 'Setting output of neuron_x2 to ACTION_POTENTIAL.']]), ('sender', 'neuron_x2'), ('time_stamp', '2017-02-02 01:10:03.123100')])\n",
      "\n"
     ]
    },
    {
     "data": {
      "text/html": [
       "<div>\n",
       "<table border=\"1\" class=\"dataframe\">\n",
       "  <thead>\n",
       "    <tr style=\"text-align: right;\">\n",
       "      <th></th>\n",
       "      <th>neuron</th>\n",
       "      <th>message</th>\n",
       "    </tr>\n",
       "    <tr>\n",
       "      <th>time</th>\n",
       "      <th></th>\n",
       "      <th></th>\n",
       "    </tr>\n",
       "  </thead>\n",
       "  <tbody>\n",
       "    <tr>\n",
       "      <th>66620</th>\n",
       "      <td>neuron_x2</td>\n",
       "      <td>neuron_x1 is kicking neuron_x2.</td>\n",
       "    </tr>\n",
       "    <tr>\n",
       "      <th>66825</th>\n",
       "      <td>neuron_x2</td>\n",
       "      <td>neuron_x2 fires.</td>\n",
       "    </tr>\n",
       "    <tr>\n",
       "      <th>66827</th>\n",
       "      <td>neuron_x2</td>\n",
       "      <td>Setting output of neuron_x2 to ACTION_POTENTIAL.</td>\n",
       "    </tr>\n",
       "    <tr>\n",
       "      <th>7727061</th>\n",
       "      <td>neuron_x1</td>\n",
       "      <td>neuron_x1 fires.</td>\n",
       "    </tr>\n",
       "    <tr>\n",
       "      <th>7727063</th>\n",
       "      <td>neuron_x1</td>\n",
       "      <td>Setting output of neuron_x1 to ACTION_POTENTIAL.</td>\n",
       "    </tr>\n",
       "  </tbody>\n",
       "</table>\n",
       "</div>"
      ],
      "text/plain": [
       "            neuron                                           message\n",
       "time                                                                \n",
       "66620    neuron_x2                   neuron_x1 is kicking neuron_x2.\n",
       "66825    neuron_x2                                  neuron_x2 fires.\n",
       "66827    neuron_x2  Setting output of neuron_x2 to ACTION_POTENTIAL.\n",
       "7727061  neuron_x1                                  neuron_x1 fires.\n",
       "7727063  neuron_x1  Setting output of neuron_x1 to ACTION_POTENTIAL."
      ]
     },
     "execution_count": 67,
     "metadata": {},
     "output_type": "execute_result"
    }
   ],
   "source": [
    "### 模擬 sensor input，強迫 neuron x 或 y ouput 1\n",
    "emptyLogs()  # 清除 logs\n",
    "sleep(REFRACTORY_PERIOD)  # 等電位歸零\n",
    "fire('neuron_x1') # force neuron x1 output 1 and fire.\n",
    "mergeLogs()  # 彙整 logs"
   ]
  },
  {
   "cell_type": "code",
   "execution_count": 68,
   "metadata": {
    "collapsed": false
   },
   "outputs": [
    {
     "name": "stdout",
     "output_type": "stream",
     "text": [
      "Sending 255 bytes\n",
      "Message:\n",
      "OrderedDict([('correlation_id', '2017-02-02 01:10:03.316100'), ('function', 'emptyLog'), ('message_id', '2017-02-02 01:10:03.316100'), ('message_type', 'function'), ('receiver', 'neuron_x1'), ('reply_to', 'Client_366'), ('sender', 'Client_366')])\n",
      "\n",
      "Sending 255 bytes\n",
      "Message:\n",
      "OrderedDict([('correlation_id', '2017-02-02 01:10:03.416100'), ('function', 'emptyLog'), ('message_id', '2017-02-02 01:10:03.416100'), ('message_type', 'function'), ('receiver', 'neuron_x2'), ('reply_to', 'Client_366'), ('sender', 'Client_366')])\n",
      "\n",
      "Sending 251 bytes\n",
      "Message:\n",
      "OrderedDict([('correlation_id', '2017-02-02 01:10:03.609100'), ('function', 'fire'), ('message_id', '2017-02-02 01:10:03.609100'), ('message_type', 'function'), ('receiver', 'neuron_x2'), ('reply_to', 'Client_366'), ('sender', 'Client_366')])\n",
      "\n",
      "Sending 274 bytes\n",
      "Message:\n",
      "OrderedDict([('correlation_id', '2017-02-02 01:10:03.693100'), ('function', 'getLog'), ('message_id', '2017-02-02 01:10:03.693100'), ('message_type', 'function'), ('need_result', True), ('receiver', 'neuron_x1'), ('reply_to', 'Client_366'), ('sender', 'Client_366')])\n",
      "\n",
      "\n",
      "Data received: 253 bytes\n",
      "Message:\n",
      "OrderedDict([('correlation_id', '2017-02-02 01:10:03.693100'), ('message_id', '7728860'), ('message_type', 'result'), ('receiver', 'Client_366'), ('reply_to', 'neuron_x1'), ('sender', 'neuron_x1'), ('time_stamp', '2017-02-02 01:10:04.157100')])\n",
      "\n",
      "Sending 274 bytes\n",
      "Message:\n",
      "OrderedDict([('correlation_id', '2017-02-02 01:10:04.254100'), ('function', 'getLog'), ('message_id', '2017-02-02 01:10:04.254100'), ('message_type', 'function'), ('need_result', True), ('receiver', 'neuron_x2'), ('reply_to', 'Client_366'), ('sender', 'Client_366')])\n",
      "\n",
      "\n",
      "Data received: 379 bytes\n",
      "Message:\n",
      "OrderedDict([('correlation_id', '2017-02-02 01:10:04.254100'), ('message_id', '68610'), ('message_type', 'result'), ('receiver', 'Client_366'), ('reply_to', 'neuron_x2'), ('result', [[68192, 'neuron_x2', 'neuron_x2 fires.'], [68195, 'neuron_x2', 'Setting output of neuron_x2 to ACTION_POTENTIAL.']]), ('sender', 'neuron_x2'), ('time_stamp', '2017-02-02 01:10:04.707100')])\n"
     ]
    },
    {
     "data": {
      "text/html": [
       "<div>\n",
       "<table border=\"1\" class=\"dataframe\">\n",
       "  <thead>\n",
       "    <tr style=\"text-align: right;\">\n",
       "      <th></th>\n",
       "      <th>neuron</th>\n",
       "      <th>message</th>\n",
       "    </tr>\n",
       "    <tr>\n",
       "      <th>time</th>\n",
       "      <th></th>\n",
       "      <th></th>\n",
       "    </tr>\n",
       "  </thead>\n",
       "  <tbody>\n",
       "    <tr>\n",
       "      <th>68192</th>\n",
       "      <td>neuron_x2</td>\n",
       "      <td>neuron_x2 fires.</td>\n",
       "    </tr>\n",
       "    <tr>\n",
       "      <th>68195</th>\n",
       "      <td>neuron_x2</td>\n",
       "      <td>Setting output of neuron_x2 to ACTION_POTENTIAL.</td>\n",
       "    </tr>\n",
       "  </tbody>\n",
       "</table>\n",
       "</div>"
      ],
      "text/plain": [
       "          neuron                                           message\n",
       "time                                                              \n",
       "68192  neuron_x2                                  neuron_x2 fires.\n",
       "68195  neuron_x2  Setting output of neuron_x2 to ACTION_POTENTIAL."
      ]
     },
     "execution_count": 68,
     "metadata": {},
     "output_type": "execute_result"
    },
    {
     "name": "stdout",
     "output_type": "stream",
     "text": [
      "\n"
     ]
    }
   ],
   "source": [
    "### 模擬 sensor input，強迫 neuron x 或 y ouput 1\n",
    "emptyLogs()  # 清除 logs\n",
    "sleep(REFRACTORY_PERIOD)  # 等電位歸零\n",
    "fire('neuron_x2') # force neuron x2 output 1 and fire.\n",
    "mergeLogs()  # 彙整 logs"
   ]
  },
  {
   "cell_type": "code",
   "execution_count": 69,
   "metadata": {
    "collapsed": false,
    "scrolled": true
   },
   "outputs": [
    {
     "name": "stdout",
     "output_type": "stream",
     "text": [
      "Sending 255 bytes\n",
      "Message:\n",
      "OrderedDict([('correlation_id', '2017-02-02 01:10:04.874100'), ('function', 'emptyLog'), ('message_id', '2017-02-02 01:10:04.874100'), ('message_type', 'function'), ('receiver', 'neuron_x1'), ('reply_to', 'Client_366'), ('sender', 'Client_366')])\n",
      "\n",
      "Sending 255 bytes\n",
      "Message:\n",
      "OrderedDict([('correlation_id', '2017-02-02 01:10:04.968100'), ('function', 'emptyLog'), ('message_id', '2017-02-02 01:10:04.968100'), ('message_type', 'function'), ('receiver', 'neuron_x2'), ('reply_to', 'Client_366'), ('sender', 'Client_366')])\n",
      "\n",
      "Sending 251 bytes\n",
      "Message:\n",
      "OrderedDict([('correlation_id', '2017-02-02 01:10:05.187100'), ('function', 'fire'), ('message_id', '2017-02-02 01:10:05.187100'), ('message_type', 'function'), ('receiver', 'neuron_x1'), ('reply_to', 'Client_366'), ('sender', 'Client_366')])\n",
      "\n",
      "Sending 251 bytes\n",
      "Message:\n",
      "OrderedDict([('correlation_id', '2017-02-02 01:10:05.307100'), ('function', 'fire'), ('message_id', '2017-02-02 01:10:05.307100'), ('message_type', 'function'), ('receiver', 'neuron_x2'), ('reply_to', 'Client_366'), ('sender', 'Client_366')])\n",
      "\n",
      "Sending 274 bytes\n",
      "Message:\n",
      "OrderedDict([('correlation_id', '2017-02-02 01:10:05.396100'), ('function', 'getLog'), ('message_id', '2017-02-02 01:10:05.396100'), ('message_type', 'function'), ('need_result', True), ('receiver', 'neuron_x1'), ('reply_to', 'Client_366'), ('sender', 'Client_366')])\n",
      "\n",
      "\n",
      "Data received: 385 bytes\n",
      "Message:\n",
      "OrderedDict([('correlation_id', '2017-02-02 01:10:05.396100'), ('message_id', '7730665'), ('message_type', 'result'), ('receiver', 'Client_366'), ('reply_to', 'neuron_x1'), ('result', [[7730568, 'neuron_x1', 'neuron_x1 fires.'], [7730571, 'neuron_x1', 'Setting output of neuron_x1 to ACTION_POTENTIAL.']]), ('sender', 'neuron_x1'), ('time_stamp', '2017-02-02 01:10:05.874100')])\n",
      "\n",
      "Sending 274 bytes\n",
      "Message:\n",
      "OrderedDict([('correlation_id', '2017-02-02 01:10:06.025100'), ('function', 'getLog'), ('message_id', '2017-02-02 01:10:06.025100'), ('message_type', 'function'), ('need_result', True), ('receiver', 'neuron_x2'), ('reply_to', 'Client_366'), ('sender', 'Client_366')])\n",
      "\n",
      "\n",
      "Data received: 663 bytes\n",
      "Message:\n",
      "OrderedDict([('correlation_id', '2017-02-02 01:10:06.025100'), ('message_id', '70353'), ('message_type', 'result'), ('receiver', 'Client_366'), ('reply_to', 'neuron_x2'), ('result', [[69852, 'neuron_x2', 'neuron_x2 fires.'], [69855, 'neuron_x2', 'Setting output of neuron_x2 to ACTION_POTENTIAL.'], [69941, 'neuron_x2', 'neuron_x1 is kicking neuron_x2.'], [69946, 'neuron_x2', 'neuron_x2 is still in refractory-period.'], [69950, 'neuron_x2', 'neuron_x2 is still in refractory_period at action potential, then a neuron neuron_x1 kicks in, now sum_of_weighted_inputs >= threshold.']]), ('sender', 'neuron_x2'), ('time_stamp', '2017-02-02 01:10:06.760100')])\n",
      "\n"
     ]
    },
    {
     "data": {
      "text/html": [
       "<div>\n",
       "<table border=\"1\" class=\"dataframe\">\n",
       "  <thead>\n",
       "    <tr style=\"text-align: right;\">\n",
       "      <th></th>\n",
       "      <th>neuron</th>\n",
       "      <th>message</th>\n",
       "    </tr>\n",
       "    <tr>\n",
       "      <th>time</th>\n",
       "      <th></th>\n",
       "      <th></th>\n",
       "    </tr>\n",
       "  </thead>\n",
       "  <tbody>\n",
       "    <tr>\n",
       "      <th>69852</th>\n",
       "      <td>neuron_x2</td>\n",
       "      <td>neuron_x2 fires.</td>\n",
       "    </tr>\n",
       "    <tr>\n",
       "      <th>69855</th>\n",
       "      <td>neuron_x2</td>\n",
       "      <td>Setting output of neuron_x2 to ACTION_POTENTIAL.</td>\n",
       "    </tr>\n",
       "    <tr>\n",
       "      <th>69941</th>\n",
       "      <td>neuron_x2</td>\n",
       "      <td>neuron_x1 is kicking neuron_x2.</td>\n",
       "    </tr>\n",
       "    <tr>\n",
       "      <th>69946</th>\n",
       "      <td>neuron_x2</td>\n",
       "      <td>neuron_x2 is still in refractory-period.</td>\n",
       "    </tr>\n",
       "    <tr>\n",
       "      <th>69950</th>\n",
       "      <td>neuron_x2</td>\n",
       "      <td>neuron_x2 is still in refractory_period at act...</td>\n",
       "    </tr>\n",
       "    <tr>\n",
       "      <th>7730568</th>\n",
       "      <td>neuron_x1</td>\n",
       "      <td>neuron_x1 fires.</td>\n",
       "    </tr>\n",
       "    <tr>\n",
       "      <th>7730571</th>\n",
       "      <td>neuron_x1</td>\n",
       "      <td>Setting output of neuron_x1 to ACTION_POTENTIAL.</td>\n",
       "    </tr>\n",
       "  </tbody>\n",
       "</table>\n",
       "</div>"
      ],
      "text/plain": [
       "            neuron                                            message\n",
       "time                                                                 \n",
       "69852    neuron_x2                                   neuron_x2 fires.\n",
       "69855    neuron_x2   Setting output of neuron_x2 to ACTION_POTENTIAL.\n",
       "69941    neuron_x2                    neuron_x1 is kicking neuron_x2.\n",
       "69946    neuron_x2           neuron_x2 is still in refractory-period.\n",
       "69950    neuron_x2  neuron_x2 is still in refractory_period at act...\n",
       "7730568  neuron_x1                                   neuron_x1 fires.\n",
       "7730571  neuron_x1   Setting output of neuron_x1 to ACTION_POTENTIAL."
      ]
     },
     "execution_count": 69,
     "metadata": {},
     "output_type": "execute_result"
    }
   ],
   "source": [
    "### 模擬 sensor input，強迫 neuron x 或 y ouput 1\n",
    "emptyLogs()  # 清除 logs\n",
    "sleep(REFRACTORY_PERIOD)  # 等電位歸零\n",
    "fire('neuron_x1') # force neuron x1 output 1 and fire.\n",
    "fire('neuron_x2') # force neuron x2 output 1 and fire.\n",
    "mergeLogs()  # 彙整 logs"
   ]
  },
  {
   "cell_type": "code",
   "execution_count": 70,
   "metadata": {
    "collapsed": false
   },
   "outputs": [
    {
     "name": "stdout",
     "output_type": "stream",
     "text": [
      "Sending 277 bytes\n",
      "Message:\n",
      "OrderedDict([('correlation_id', '2017-02-02 01:10:06.924100'), ('function', 'getConfig'), ('message_id', '2017-02-02 01:10:06.924100'), ('message_type', 'function'), ('need_result', True), ('receiver', 'neuron_x2'), ('reply_to', 'Client_366'), ('sender', 'Client_366')])\n",
      "\n",
      "\n",
      "Data received: 463 bytes\n",
      "Message:\n",
      "OrderedDict([('correlation_id', '2017-02-02 01:10:06.924100'), ('message_id', '71353'), ('message_type', 'result'), ('receiver', 'Client_366'), ('reply_to', 'neuron_x2'), ('result', {'inputs': {'neuron_x1': {'value': 1, 'lasting': 500.0, 'kick_time': 69942}}, 'weights': {'neuron_x1': 1}, 'threshold': 0.8999998, 'output': {'value': 1, 'lasting': 99.99997, 'polarized_time': 69856}}), ('sender', 'neuron_x2'), ('time_stamp', '2017-02-02 01:10:07.347100')])\n",
      "______________________________neuron_x2 config:_______________________________\n",
      " {'inputs': {'neuron_x1': {'value': 1, 'lasting': 500.0, 'kick_time': 69942}}, 'weights': {'neuron_x1': 1}, 'threshold': 0.8999998, 'output': {'value': 1, 'lasting': 99.99997, 'polarized_time': 69856}}\n",
      "\n",
      "\n",
      "Sending 277 bytes\n",
      "Message:\n",
      "OrderedDict([('correlation_id', '2017-02-02 01:10:07.441100'), ('function', 'getConfig'), ('message_id', '2017-02-02 01:10:07.441100'), ('message_type', 'function'), ('need_result', True), ('receiver', 'neuron_x1'), ('reply_to', 'Client_366'), ('sender', 'Client_366')])\n",
      "\n",
      "\n",
      "Data received: 394 bytes\n",
      "Message:\n",
      "OrderedDict([('correlation_id', '2017-02-02 01:10:07.441100'), ('message_id', '7732609'), ('message_type', 'result'), ('receiver', 'Client_366'), ('reply_to', 'neuron_x1'), ('result', {'inputs': {}, 'output': {'value': 1, 'lasting': 99.99997, 'polarized_time': 7730571}, 'connections': {'neuron_x2': 'neuron_x2'}}), ('sender', 'neuron_x1'), ('time_stamp', '2017-02-02 01:10:07.803100')])\n",
      "______________________________neuron_x1 config:_______________________________\n",
      " {'inputs': {}, 'output': {'value': 1, 'lasting': 99.99997, 'polarized_time': 7730571}, 'connections': {'neuron_x2': 'neuron_x2'}}\n",
      "\n",
      "\n"
     ]
    }
   ],
   "source": [
    "for neuron in reversed(neurons): printConfig(neuron)"
   ]
  },
  {
   "cell_type": "markdown",
   "metadata": {},
   "source": [
    "### Stop the demo"
   ]
  },
  {
   "cell_type": "code",
   "execution_count": 71,
   "metadata": {
    "collapsed": false
   },
   "outputs": [
    {
     "name": "stdout",
     "output_type": "stream",
     "text": [
      "\n",
      "[________________ Demo stopped ________________]\n",
      "\n"
     ]
    }
   ],
   "source": [
    "# Stopping\n",
    "the_client.stop()\n",
    "the_client = None\n",
    "print ('\\n[________________ Demo stopped ________________]\\n')"
   ]
  }
 ],
 "metadata": {
  "anaconda-cloud": {},
  "kernelspec": {
   "display_name": "Python 3",
   "language": "python",
   "name": "python3"
  },
  "language_info": {
   "codemirror_mode": {
    "name": "ipython",
    "version": 3
   },
   "file_extension": ".py",
   "mimetype": "text/x-python",
   "name": "python",
   "nbconvert_exporter": "python",
   "pygments_lexer": "ipython3",
   "version": "3.5.1"
  }
 },
 "nbformat": 4,
 "nbformat_minor": 0
}
