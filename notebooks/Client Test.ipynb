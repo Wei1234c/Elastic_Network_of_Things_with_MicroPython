{
 "cells": [
  {
   "cell_type": "markdown",
   "metadata": {},
   "source": [
    "# Client Test"
   ]
  },
  {
   "cell_type": "code",
   "execution_count": 60,
   "metadata": {
    "collapsed": false
   },
   "outputs": [],
   "source": [
    "import os\n",
    "import sys\n",
    "import time\n",
    " \n",
    "sys.path.append(os.path.abspath(os.path.join(os.path.pardir, 'codes', 'client')))\n",
    "sys.path.append(os.path.abspath(os.path.join(os.path.pardir, 'codes', 'node')))\n",
    "sys.path.append(os.path.abspath(os.path.join(os.path.pardir, 'codes', 'shared')))\n",
    "sys.path.append(os.path.abspath(os.path.join(os.path.pardir, 'codes', 'micropython')))\n",
    " \n",
    "import client\n",
    "from collections import OrderedDict"
   ]
  },
  {
   "cell_type": "markdown",
   "metadata": {},
   "source": [
    "### Start client"
   ]
  },
  {
   "cell_type": "code",
   "execution_count": 61,
   "metadata": {
    "collapsed": false
   },
   "outputs": [
    {
     "name": "stdout",
     "output_type": "stream",
     "text": [
      "My name is client_366\n",
      "\n",
      "[connected: ('192.168.0.105', 9662)]\n",
      "Sending 305 bytes\n",
      "Message:\n",
      "OrderedDict([('command', 'set connection name'), ('correlation_id', '2017-01-27 18:12:59.901300'), ('kwargs', {'name': 'client_366'}), ('message_id', '2017-01-27 18:12:59.901300'), ('need_result', True), ('receiver', 'Hub'), ('reply_to', 'client_366'), ('sender', 'client_366'), ('type', 'command')])\n",
      "\n",
      "[Listen to messages]\n",
      "\n",
      "Data received: 583 bytes\n",
      "Message:\n",
      "OrderedDict([('correlation_id', '2017-01-27 18:12:59.901300'), ('message_id', '2017-01-27 18:12:59.998300'), ('receiver', 'client_366'), ('reply_to', 'Hub'), ('result', {'NodeMCU_a1a5c000': \"('192.168.0.165', 8762)\", 'NodeMCU_1dsc000': \"('192.168.0.133', 19556)\", 'NodeMCU_f1d30800': \"('192.168.0.116', 1260)\", 'client_366': \"('192.168.0.105', 54780)\", 'NodeMCU_d1e0a200': \"('192.168.0.189', 16968)\", 'NodeMCU_8a00': \"('192.168.0.117', 1140)\", 'NodeMCU_edca00': \"('192.168.0.166', 4529)\"}), ('sender', 'Hub'), ('time_stamp', '2017-01-27 18:12:59.998300'), ('type', 'result')])\n",
      "\n"
     ]
    }
   ],
   "source": [
    "the_client = client.Client()\n",
    "the_client.start()"
   ]
  },
  {
   "cell_type": "markdown",
   "metadata": {},
   "source": [
    "### Prepare messages"
   ]
  },
  {
   "cell_type": "code",
   "execution_count": 62,
   "metadata": {
    "collapsed": false
   },
   "outputs": [],
   "source": [
    "messages = OrderedDict()\n",
    "\n",
    "messages['read_GPIOs'] = {'type': 'command',\n",
    "                          'command': 'read GPIOs',\n",
    "                          'need_result': True}\n",
    "\n",
    "messages['blink_led'] = {'type': 'command',\n",
    "                         'command': 'blink led',\n",
    "                         'kwargs': {'times': 10, 'forever': False, 'on_seconds': 0.1, 'off_seconds': 0.1}} "
   ]
  },
  {
   "cell_type": "code",
   "execution_count": 63,
   "metadata": {
    "collapsed": false
   },
   "outputs": [],
   "source": [
    "# messages['write_GPIOs'] = {'type': 'command',\n",
    "                           # 'command': 'write GPIOs',\n",
    "                           # 'kwargs': {'pins_and_values': [(2, 0), (2, 1), (2, 0),]}} \n",
    "\n",
    "# messages['test eval'] = {'type': 'eval',\n",
    "                         # 'to_evaluate': '2+3',\n",
    "                         # 'need_result': True}                                   \n",
    "\n",
    "# messages['test exec'] = {'type': 'exec',\n",
    "                         # 'to_exec': 'print(\"Testing exec !\")'}\n",
    "\n",
    "# with open('script_to_deploy.py') as f:\n",
    "    # script = f.read()        \n",
    "# messages['test upload script'] = {'type': 'script', \n",
    "                                  # 'script': script} "
   ]
  },
  {
   "cell_type": "markdown",
   "metadata": {},
   "source": [
    "### Ask Hub for a list of connected nodes"
   ]
  },
  {
   "cell_type": "code",
   "execution_count": 64,
   "metadata": {
    "collapsed": false
   },
   "outputs": [
    {
     "name": "stdout",
     "output_type": "stream",
     "text": [
      "Sending 276 bytes\n",
      "Message:\n",
      "OrderedDict([('command', 'list connections by name'), ('correlation_id', '2017-01-27 18:13:03.008300'), ('message_id', '2017-01-27 18:13:03.008300'), ('need_result', True), ('receiver', 'Hub'), ('reply_to', 'client_366'), ('sender', 'client_366'), ('type', 'command')])\n",
      "\n",
      "\n",
      "Data received: 583 bytes\n",
      "Message:\n",
      "OrderedDict([('correlation_id', '2017-01-27 18:13:03.008300'), ('message_id', '2017-01-27 18:13:03.107300'), ('receiver', 'client_366'), ('reply_to', 'Hub'), ('result', {'NodeMCU_a1a5c000': \"('192.168.0.165', 8762)\", 'NodeMCU_1dsc000': \"('192.168.0.133', 19556)\", 'NodeMCU_f1d30800': \"('192.168.0.116', 1260)\", 'client_366': \"('192.168.0.105', 54780)\", 'NodeMCU_d1e0a200': \"('192.168.0.189', 16968)\", 'NodeMCU_8a00': \"('192.168.0.117', 1140)\", 'NodeMCU_edca00': \"('192.168.0.166', 4529)\"}), ('sender', 'Hub'), ('time_stamp', '2017-01-27 18:13:03.107300'), ('type', 'result')])\n",
      "\n",
      "\n",
      "[____________ Connected nodes ____________]\n",
      "\n",
      "\n",
      "Connected nodes:\n",
      "['NodeMCU_a1a5c000', 'NodeMCU_1dsc000', 'NodeMCU_f1d30800', 'client_366', 'NodeMCU_d1e0a200', 'NodeMCU_8a00', 'NodeMCU_edca00']\n",
      "\n"
     ]
    }
   ],
   "source": [
    "message = {'type': 'command',\n",
    "                   'command': 'list connections by name',\n",
    "                   'need_result': True}     \n",
    "\n",
    "the_message, asynch_result = the_client.request('Hub', message) \n",
    "\n",
    "try:\n",
    "    remote_nodes = list(asynch_result.get().keys())\n",
    "\n",
    "    print ('\\n[____________ Connected nodes ____________]\\n')        \n",
    "    print('\\nConnected nodes:\\n{}\\n'.format(remote_nodes)) \n",
    "    \n",
    "except Exception as e:\n",
    "    print(e)"
   ]
  },
  {
   "cell_type": "markdown",
   "metadata": {},
   "source": [
    "### Blink each node"
   ]
  },
  {
   "cell_type": "code",
   "execution_count": 58,
   "metadata": {
    "collapsed": false
   },
   "outputs": [
    {
     "name": "stdout",
     "output_type": "stream",
     "text": [
      "Sending 335 bytes\n",
      "Message:\n",
      "OrderedDict([('command', 'blink led'), ('correlation_id', '2017-01-27 18:12:35.834300'), ('kwargs', {'on_seconds': 0.1, 'off_seconds': 0.1, 'times': 10, 'forever': False}), ('message_id', '2017-01-27 18:12:35.834300'), ('receiver', 'NodeMCU_a1a5c000'), ('reply_to', 'client_366'), ('sender', 'client_366'), ('type', 'command')])\n",
      "\n",
      "Sending 334 bytes\n",
      "Message:\n",
      "OrderedDict([('command', 'blink led'), ('correlation_id', '2017-01-27 18:12:35.883300'), ('kwargs', {'on_seconds': 0.1, 'off_seconds': 0.1, 'times': 10, 'forever': False}), ('message_id', '2017-01-27 18:12:35.883300'), ('receiver', 'NodeMCU_1dsc000'), ('reply_to', 'client_366'), ('sender', 'client_366'), ('type', 'command')])\n",
      "\n",
      "Sending 335 bytes\n",
      "Message:\n",
      "OrderedDict([('command', 'blink led'), ('correlation_id', '2017-01-27 18:12:35.955300'), ('kwargs', {'on_seconds': 0.1, 'off_seconds': 0.1, 'times': 10, 'forever': False}), ('message_id', '2017-01-27 18:12:35.955300'), ('receiver', 'NodeMCU_f1d30800'), ('reply_to', 'client_366'), ('sender', 'client_366'), ('type', 'command')])\n",
      "\n",
      "Sending 329 bytes\n",
      "Message:\n",
      "OrderedDict([('command', 'blink led'), ('correlation_id', '2017-01-27 18:12:35.988300'), ('kwargs', {'on_seconds': 0.1, 'off_seconds': 0.1, 'times': 10, 'forever': False}), ('message_id', '2017-01-27 18:12:35.988300'), ('receiver', 'client_366'), ('reply_to', 'client_366'), ('sender', 'client_366'), ('type', 'command')])\n",
      "\n",
      "Sending 335 bytes\n",
      "Message:\n",
      "OrderedDict([('command', 'blink led'), ('correlation_id', '2017-01-27 18:12:36.020300'), ('kwargs', {'on_seconds': 0.1, 'off_seconds': 0.1, 'times': 10, 'forever': False}), ('message_id', '2017-01-27 18:12:36.020300'), ('receiver', 'NodeMCU_d1e0a200'), ('reply_to', 'client_366'), ('sender', 'client_366'), ('type', 'command')])\n",
      "\n",
      "Sending 331 bytes\n",
      "Message:\n",
      "OrderedDict([('command', 'blink led'), ('correlation_id', '2017-01-27 18:12:36.074300'), ('kwargs', {'on_seconds': 0.1, 'off_seconds': 0.1, 'times': 10, 'forever': False}), ('message_id', '2017-01-27 18:12:36.074300'), ('receiver', 'NodeMCU_8a00'), ('reply_to', 'client_366'), ('sender', 'client_366'), ('type', 'command')])\n",
      "\n",
      "Sending 333 bytes\n",
      "Message:\n",
      "OrderedDict([('command', 'blink led'), ('correlation_id', '2017-01-27 18:12:36.138300'), ('kwargs', {'on_seconds': 0.1, 'off_seconds': 0.1, 'times': 10, 'forever': False}), ('message_id', '2017-01-27 18:12:36.138300'), ('receiver', 'NodeMCU_edca00'), ('reply_to', 'client_366'), ('sender', 'client_366'), ('type', 'command')])\n",
      "\n",
      "\n",
      "Data received: 373 bytes\n",
      "Message:\n",
      "OrderedDict([('command', 'blink led'), ('correlation_id', '2017-01-27 18:12:33.297300'), ('kwargs', {'on_seconds': 0.1, 'off_seconds': 0.1, 'times': 10, 'forever': False}), ('message_id', '2017-01-27 18:12:33.297300'), ('receiver', 'client_366'), ('reply_to', 'client_366'), ('sender', 'client_366'), ('time_stamp', '2017-01-27 18:12:36.201300'), ('type', 'command')])\n",
      "\n"
     ]
    }
   ],
   "source": [
    "# remote_node = 'NodeMCU_|edca00'\n",
    "# the_client.request(remote_node, messages['blink_led']) \n",
    "\n",
    "for remote_node in remote_nodes:\n",
    "    the_client.request(remote_node, messages['blink_led']) "
   ]
  },
  {
   "cell_type": "markdown",
   "metadata": {},
   "source": [
    "### Send out messages and get asynchonous results"
   ]
  },
  {
   "cell_type": "code",
   "execution_count": 7,
   "metadata": {
    "collapsed": false
   },
   "outputs": [
    {
     "name": "stdout",
     "output_type": "stream",
     "text": [
      "\n",
      "[______________ Sending messages ______________]\n",
      "\n",
      "Sending 275 bytes\n",
      "Message:\n",
      "OrderedDict([('command', 'read GPIOs'), ('correlation_id', '2017-01-27 18:07:51.149300'), ('message_id', '2017-01-27 18:07:51.149300'), ('need_result', True), ('receiver', 'NodeMCU_a1a5c000'), ('reply_to', 'client_366'), ('sender', 'client_366'), ('type', 'command')])\n",
      "\n",
      "Sending 274 bytes\n",
      "Message:\n",
      "OrderedDict([('command', 'read GPIOs'), ('correlation_id', '2017-01-27 18:07:51.220300'), ('message_id', '2017-01-27 18:07:51.220300'), ('need_result', True), ('receiver', 'NodeMCU_1dsc000'), ('reply_to', 'client_366'), ('sender', 'client_366'), ('type', 'command')])\n",
      "\n",
      "Sending 275 bytes\n",
      "Message:\n",
      "OrderedDict([('command', 'read GPIOs'), ('correlation_id', '2017-01-27 18:07:51.291300'), ('message_id', '2017-01-27 18:07:51.291300'), ('need_result', True), ('receiver', 'NodeMCU_f1d30800'), ('reply_to', 'client_366'), ('sender', 'client_366'), ('type', 'command')])\n",
      "\n",
      "Sending 275 bytes\n",
      "Message:\n",
      "OrderedDict([('command', 'read GPIOs'), ('correlation_id', '2017-01-27 18:07:51.365300'), ('message_id', '2017-01-27 18:07:51.365300'), ('need_result', True), ('receiver', 'NodeMCU_d1e0a200'), ('reply_to', 'client_366'), ('sender', 'client_366'), ('type', 'command')])\n",
      "\n",
      "Sending 271 bytes\n",
      "Message:\n",
      "OrderedDict([('command', 'read GPIOs'), ('correlation_id', '2017-01-27 18:07:51.403300'), ('message_id', '2017-01-27 18:07:51.403300'), ('need_result', True), ('receiver', 'NodeMCU_8a00'), ('reply_to', 'client_366'), ('sender', 'client_366'), ('type', 'command')])\n",
      "\n",
      "Sending 273 bytes\n",
      "Message:\n",
      "OrderedDict([('command', 'read GPIOs'), ('correlation_id', '2017-01-27 18:07:51.458300'), ('message_id', '2017-01-27 18:07:51.458300'), ('need_result', True), ('receiver', 'NodeMCU_edca00'), ('reply_to', 'client_366'), ('sender', 'client_366'), ('type', 'command')])\n",
      "\n",
      "Sending 335 bytes\n",
      "Message:\n",
      "OrderedDict([('command', 'blink led'), ('correlation_id', '2017-01-27 18:07:51.503300'), ('kwargs', {'on_seconds': 0.1, 'off_seconds': 0.1, 'times': 10, 'forever': False}), ('message_id', '2017-01-27 18:07:51.503300'), ('receiver', 'NodeMCU_a1a5c000'), ('reply_to', 'client_366'), ('sender', 'client_366'), ('type', 'command')])\n",
      "\n",
      "Sending 334 bytes\n",
      "Message:\n",
      "OrderedDict([('command', 'blink led'), ('correlation_id', '2017-01-27 18:07:51.567300'), ('kwargs', {'on_seconds': 0.1, 'off_seconds': 0.1, 'times': 10, 'forever': False}), ('message_id', '2017-01-27 18:07:51.567300'), ('receiver', 'NodeMCU_1dsc000'), ('reply_to', 'client_366'), ('sender', 'client_366'), ('type', 'command')])\n",
      "\n",
      "\n",
      "Data received: 320 bytes\n",
      "Message:\n",
      "OrderedDict([('correlation_id', '2017-01-27 18:07:51.220300'), ('message_id', '58817'), ('receiver', 'client_366'), ('reply_to', 'NodeMCU_1dsc000'), ('result', [[5, 0], [12, 1], [13, 1], [14, 1], [15, 0], [16, 0]]), ('sender', 'NodeMCU_1dsc000'), ('time_stamp', '2017-01-27 18:07:51.581300'), ('type', 'result')])\n",
      "\n",
      "Sending 335 bytes\n",
      "Message:\n",
      "OrderedDict([('command', 'blink led'), ('correlation_id', '2017-01-27 18:07:51.696300'), ('kwargs', {'on_seconds': 0.1, 'off_seconds': 0.1, 'times': 10, 'forever': False}), ('message_id', '2017-01-27 18:07:51.696300'), ('receiver', 'NodeMCU_f1d30800'), ('reply_to', 'client_366'), ('sender', 'client_366'), ('type', 'command')])\n",
      "\n",
      "\n",
      "Data received: 646 bytes\n",
      "Message:\n",
      "OrderedDict([('correlation_id', '2017-01-27 18:07:51.291300'), ('message_id', '60220'), ('receiver', 'client_366'), ('reply_to', 'NodeMCU_f1d30800'), ('result', [[5, 1], [12, 1], [13, 1], [14, 1], [15, 0], [16, 1]]), ('sender', 'NodeMCU_f1d30800'), ('time_stamp', '2017-01-27 18:07:51.671300'), ('type', 'result')])\n",
      "\n",
      "Sending 335 bytes\n",
      "Message:\n",
      "OrderedDict([('command', 'blink led'), ('correlation_id', '2017-01-27 18:07:51.964300'), ('kwargs', {'on_seconds': 0.1, 'off_seconds': 0.1, 'times': 10, 'forever': False}), ('message_id', '2017-01-27 18:07:51.964300'), ('receiver', 'NodeMCU_d1e0a200'), ('reply_to', 'client_366'), ('sender', 'client_366'), ('type', 'command')])\n",
      "\n",
      "\n",
      "Data received: 956 bytes\n",
      "Message:\n",
      "OrderedDict([('correlation_id', '2017-01-27 18:07:51.149300'), ('message_id', '1251603'), ('receiver', 'client_366'), ('reply_to', 'NodeMCU_a1a5c000'), ('result', [[5, 1], [12, 1], [13, 1], [14, 1], [15, 0], [16, 0]]), ('sender', 'NodeMCU_a1a5c000'), ('time_stamp', '2017-01-27 18:07:51.706300'), ('type', 'result')])\n",
      "\n",
      "Sending 331 bytes\n",
      "Message:\n",
      "OrderedDict([('command', 'blink led'), ('correlation_id', '2017-01-27 18:07:52.088300'), ('kwargs', {'on_seconds': 0.1, 'off_seconds': 0.1, 'times': 10, 'forever': False}), ('message_id', '2017-01-27 18:07:52.088300'), ('receiver', 'NodeMCU_8a00'), ('reply_to', 'client_366'), ('sender', 'client_366'), ('type', 'command')])\n",
      "\n",
      "Sending 333 bytes\n",
      "Message:\n",
      "OrderedDict([('command', 'blink led'), ('correlation_id', '2017-01-27 18:07:52.142300'), ('kwargs', {'on_seconds': 0.1, 'off_seconds': 0.1, 'times': 10, 'forever': False}), ('message_id', '2017-01-27 18:07:52.142300'), ('receiver', 'NodeMCU_edca00'), ('reply_to', 'client_366'), ('sender', 'client_366'), ('type', 'command')])\n",
      "\n"
     ]
    }
   ],
   "source": [
    "print ('\\n[______________ Sending messages ______________]\\n')\n",
    "                \n",
    "results = []\n",
    "\n",
    "## send out the messages\n",
    "for message in messages.values():\n",
    "    for remote_node in remote_nodes:\n",
    "        if remote_node != the_client.node.worker.name:  # exclude client self\n",
    "            formatted_message, asynch_result = the_client.request(remote_node, message) \n",
    "            results.append((formatted_message, asynch_result))"
   ]
  },
  {
   "cell_type": "markdown",
   "metadata": {},
   "source": [
    "### Actually get the results"
   ]
  },
  {
   "cell_type": "code",
   "execution_count": 8,
   "metadata": {
    "collapsed": false
   },
   "outputs": [
    {
     "name": "stdout",
     "output_type": "stream",
     "text": [
      "\n",
      "[_________ Wait few seconds for reply _________]\n",
      "\n",
      "\n",
      "[Result for request]:\n",
      "___Request___:\n",
      "{'receiver': 'NodeMCU_a1a5c000', 'reply_to': 'client_366', 'result': None, 'need_result': True, 'message_id': '2017-01-27 18:07:51.149300', 'sender': 'client_366', 'correlation_id': '2017-01-27 18:07:51.149300', 'command': 'read GPIOs', 'type': 'command'}\n",
      "___Result____:\n",
      "[[5, 1], [12, 1], [13, 1], [14, 1], [15, 0], [16, 0]]\n",
      "\n",
      "\n",
      "[Result for request]:\n",
      "___Request___:\n",
      "{'receiver': 'NodeMCU_1dsc000', 'reply_to': 'client_366', 'result': None, 'need_result': True, 'message_id': '2017-01-27 18:07:51.220300', 'sender': 'client_366', 'correlation_id': '2017-01-27 18:07:51.220300', 'command': 'read GPIOs', 'type': 'command'}\n",
      "___Result____:\n",
      "[[5, 0], [12, 1], [13, 1], [14, 1], [15, 0], [16, 0]]\n",
      "\n",
      "\n",
      "[Result for request]:\n",
      "___Request___:\n",
      "{'receiver': 'NodeMCU_f1d30800', 'reply_to': 'client_366', 'result': None, 'need_result': True, 'message_id': '2017-01-27 18:07:51.291300', 'sender': 'client_366', 'correlation_id': '2017-01-27 18:07:51.291300', 'command': 'read GPIOs', 'type': 'command'}\n",
      "___Result____:\n",
      "[[5, 1], [12, 1], [13, 1], [14, 1], [15, 0], [16, 1]]\n",
      "\n",
      "\n",
      "[Timeout: no result returned for request with message_id 2017-01-27 18:07:51.365300]\n",
      "Message:\n",
      "{'receiver': 'NodeMCU_d1e0a200', 'reply_to': 'client_366', 'result': None, 'need_result': True, 'message_id': '2017-01-27 18:07:51.365300', 'sender': 'client_366', 'correlation_id': '2017-01-27 18:07:51.365300', 'command': 'read GPIOs', 'type': 'command'}\n",
      "\n",
      "[Timeout: no result returned for request with message_id 2017-01-27 18:07:51.403300]\n",
      "Message:\n",
      "{'receiver': 'NodeMCU_8a00', 'reply_to': 'client_366', 'result': None, 'need_result': True, 'message_id': '2017-01-27 18:07:51.403300', 'sender': 'client_366', 'correlation_id': '2017-01-27 18:07:51.403300', 'command': 'read GPIOs', 'type': 'command'}\n",
      "\n",
      "[Timeout: no result returned for request with message_id 2017-01-27 18:07:51.458300]\n",
      "Message:\n",
      "{'receiver': 'NodeMCU_edca00', 'reply_to': 'client_366', 'result': None, 'need_result': True, 'message_id': '2017-01-27 18:07:51.458300', 'sender': 'client_366', 'correlation_id': '2017-01-27 18:07:51.458300', 'command': 'read GPIOs', 'type': 'command'}\n"
     ]
    }
   ],
   "source": [
    "# collect and print results        \n",
    "print('\\n[_________ Wait few seconds for reply _________]\\n')\n",
    "\n",
    "for (message, result) in results:\n",
    "    try:\n",
    "        if message.get('need_result'):\n",
    "            print('\\n[Result for request]:\\n___Request___:\\n{0}\\n___Result____:\\n{1}\\n'.format(message, result.get() if result else None))\n",
    "    except Exception as e:\n",
    "        print('\\n[{}]\\nMessage:\\n{}'.format(e, message))"
   ]
  },
  {
   "cell_type": "markdown",
   "metadata": {},
   "source": [
    "### Stop the demo"
   ]
  },
  {
   "cell_type": "code",
   "execution_count": 9,
   "metadata": {
    "collapsed": false
   },
   "outputs": [
    {
     "name": "stdout",
     "output_type": "stream",
     "text": [
      "\n",
      "[________________ Demo stopped ________________]\n",
      "\n"
     ]
    }
   ],
   "source": [
    "# Stopping\n",
    "the_client.stop()\n",
    "the_client = None\n",
    "print ('\\n[________________ Demo stopped ________________]\\n')"
   ]
  },
  {
   "cell_type": "code",
   "execution_count": null,
   "metadata": {
    "collapsed": true
   },
   "outputs": [],
   "source": []
  }
 ],
 "metadata": {
  "anaconda-cloud": {},
  "kernelspec": {
   "display_name": "Python [default]",
   "language": "python",
   "name": "python3"
  },
  "language_info": {
   "codemirror_mode": {
    "name": "ipython",
    "version": 3
   },
   "file_extension": ".py",
   "mimetype": "text/x-python",
   "name": "python",
   "nbconvert_exporter": "python",
   "pygments_lexer": "ipython3",
   "version": "3.5.1"
  }
 },
 "nbformat": 4,
 "nbformat_minor": 0
}
