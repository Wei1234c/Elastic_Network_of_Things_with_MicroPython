{
 "cells": [
  {
   "cell_type": "markdown",
   "metadata": {},
   "source": [
    "# Client Test"
   ]
  },
  {
   "cell_type": "code",
   "execution_count": 9,
   "metadata": {
    "collapsed": false
   },
   "outputs": [],
   "source": [
    "import os\n",
    "import sys\n",
    "import time\n",
    " \n",
    "sys.path.append(os.path.abspath(os.path.join(os.path.pardir, 'codes', 'client')))\n",
    "sys.path.append(os.path.abspath(os.path.join(os.path.pardir, 'codes', 'node')))\n",
    "sys.path.append(os.path.abspath(os.path.join(os.path.pardir, 'codes', 'shared')))\n",
    "sys.path.append(os.path.abspath(os.path.join(os.path.pardir, 'codes', 'micropython')))\n",
    " \n",
    "import client\n",
    "from collections import OrderedDict"
   ]
  },
  {
   "cell_type": "markdown",
   "metadata": {},
   "source": [
    "### Start client"
   ]
  },
  {
   "cell_type": "code",
   "execution_count": 10,
   "metadata": {
    "collapsed": false
   },
   "outputs": [
    {
     "name": "stdout",
     "output_type": "stream",
     "text": [
      "My name is client_366\n",
      "\n",
      "[connected: ('192.168.0.105', 9662)]\n",
      "Sending 305 bytes\n",
      "Message:\n",
      "OrderedDict([('command', 'set connection name'), ('correlation_id', '2017-01-27 09:55:34.908300'), ('kwargs', {'name': 'client_366'}), ('message_id', '2017-01-27 09:55:34.908300'), ('need_result', True), ('receiver', 'Hub'), ('reply_to', 'client_366'), ('sender', 'client_366'), ('type', 'command')])\n",
      "\n",
      "[Listen to messages]\n"
     ]
    }
   ],
   "source": [
    "the_client = client.Client()\n",
    "the_client.start()"
   ]
  },
  {
   "cell_type": "markdown",
   "metadata": {},
   "source": [
    "### Prepare messages"
   ]
  },
  {
   "cell_type": "code",
   "execution_count": 11,
   "metadata": {
    "collapsed": false
   },
   "outputs": [],
   "source": [
    "messages = OrderedDict()\n",
    "\n",
    "messages['read_GPIOs'] = {'type': 'command',\n",
    "                          'command': 'read GPIOs',\n",
    "                          'need_result': True}\n",
    "\n",
    "messages['blink_led'] = {'type': 'command',\n",
    "                         'command': 'blink led',\n",
    "                         'kwargs': {'times': 10, 'forever': False, 'on_seconds': 0.1, 'off_seconds': 0.1}} "
   ]
  },
  {
   "cell_type": "code",
   "execution_count": 12,
   "metadata": {
    "collapsed": false
   },
   "outputs": [
    {
     "name": "stdout",
     "output_type": "stream",
     "text": [
      "\n",
      "Data received: 401 bytes\n",
      "Message:\n",
      "OrderedDict([('correlation_id', '2017-01-27 09:55:34.908300'), ('message_id', '2017-01-27 09:55:34.986300'), ('receiver', 'client_366'), ('reply_to', 'Hub'), ('result', {'NodeMCU_1dsc000': \"('192.168.0.133', 17140)\", 'NodeMCU_f1d30800': \"('192.168.0.116', 28082)\", 'client_366': \"('192.168.0.105', 51462)\"}), ('sender', 'Hub'), ('time_stamp', '2017-01-27 09:55:34.986300'), ('type', 'result')])\n",
      "\n"
     ]
    }
   ],
   "source": [
    "# messages['write_GPIOs'] = {'type': 'command',\n",
    "                           # 'command': 'write GPIOs',\n",
    "                           # 'kwargs': {'pins_and_values': [(2, 0), (2, 1), (2, 0),]}} \n",
    "\n",
    "# messages['test eval'] = {'type': 'eval',\n",
    "                         # 'to_evaluate': '2+3',\n",
    "                         # 'need_result': True}                                   \n",
    "\n",
    "# messages['test exec'] = {'type': 'exec',\n",
    "                         # 'to_exec': 'print(\"Testing exec !\")'}\n",
    "\n",
    "# with open('script_to_deploy.py') as f:\n",
    "    # script = f.read()        \n",
    "# messages['test upload script'] = {'type': 'script', \n",
    "                                  # 'script': script} "
   ]
  },
  {
   "cell_type": "markdown",
   "metadata": {},
   "source": [
    "### Ask Hub for a list of connected nodes"
   ]
  },
  {
   "cell_type": "code",
   "execution_count": 13,
   "metadata": {
    "collapsed": false
   },
   "outputs": [
    {
     "name": "stdout",
     "output_type": "stream",
     "text": [
      "Sending 276 bytes\n",
      "Message:\n",
      "OrderedDict([('command', 'list connections by name'), ('correlation_id', '2017-01-27 09:55:35.341300'), ('message_id', '2017-01-27 09:55:35.341300'), ('need_result', True), ('receiver', 'Hub'), ('reply_to', 'client_366'), ('sender', 'client_366'), ('type', 'command')])\n",
      "\n",
      "\n",
      "Data received: 401 bytes\n",
      "Message:\n",
      "OrderedDict([('correlation_id', '2017-01-27 09:55:35.341300'), ('message_id', '2017-01-27 09:55:35.421300'), ('receiver', 'client_366'), ('reply_to', 'Hub'), ('result', {'NodeMCU_1dsc000': \"('192.168.0.133', 17140)\", 'NodeMCU_f1d30800': \"('192.168.0.116', 28082)\", 'client_366': \"('192.168.0.105', 51462)\"}), ('sender', 'Hub'), ('time_stamp', '2017-01-27 09:55:35.421300'), ('type', 'result')])\n",
      "\n",
      "\n",
      "[____________ Connected nodes ____________]\n",
      "\n",
      "\n",
      "Connected nodes:\n",
      "['NodeMCU_1dsc000', 'NodeMCU_f1d30800', 'client_366']\n",
      "\n"
     ]
    }
   ],
   "source": [
    "message = {'type': 'command',\n",
    "                   'command': 'list connections by name',\n",
    "                   'need_result': True}     \n",
    "\n",
    "the_message, asynch_result = the_client.request('Hub', message) \n",
    "\n",
    "try:\n",
    "    remote_nodes = list(asynch_result.get().keys())\n",
    "\n",
    "    print ('\\n[____________ Connected nodes ____________]\\n')        \n",
    "    print('\\nConnected nodes:\\n{}\\n'.format(remote_nodes)) \n",
    "    \n",
    "except Exception as e:\n",
    "    print(e)"
   ]
  },
  {
   "cell_type": "markdown",
   "metadata": {},
   "source": [
    "### Send out messages and get asynchonous results"
   ]
  },
  {
   "cell_type": "code",
   "execution_count": 14,
   "metadata": {
    "collapsed": false
   },
   "outputs": [
    {
     "name": "stdout",
     "output_type": "stream",
     "text": [
      "\n",
      "[______________ Sending messages ______________]\n",
      "\n",
      "Sending 274 bytes\n",
      "Message:\n",
      "OrderedDict([('command', 'read GPIOs'), ('correlation_id', '2017-01-27 09:55:35.531900'), ('message_id', '2017-01-27 09:55:35.531900'), ('need_result', True), ('receiver', 'NodeMCU_1dsc000'), ('reply_to', 'client_366'), ('sender', 'client_366'), ('type', 'command')])\n",
      "\n",
      "Sending 275 bytes\n",
      "Message:\n",
      "OrderedDict([('command', 'read GPIOs'), ('correlation_id', '2017-01-27 09:55:35.569900'), ('message_id', '2017-01-27 09:55:35.569900'), ('need_result', True), ('receiver', 'NodeMCU_f1d30800'), ('reply_to', 'client_366'), ('sender', 'client_366'), ('type', 'command')])\n",
      "\n",
      "Sending 334 bytes\n",
      "Message:\n",
      "OrderedDict([('command', 'blink led'), ('correlation_id', '2017-01-27 09:55:35.607500'), ('kwargs', {'forever': False, 'times': 10, 'on_seconds': 0.1, 'off_seconds': 0.1}), ('message_id', '2017-01-27 09:55:35.607500'), ('receiver', 'NodeMCU_1dsc000'), ('reply_to', 'client_366'), ('sender', 'client_366'), ('type', 'command')])\n",
      "\n",
      "Sending 335 bytes\n",
      "Message:\n",
      "OrderedDict([('command', 'blink led'), ('correlation_id', '2017-01-27 09:55:35.654300'), ('kwargs', {'forever': False, 'times': 10, 'on_seconds': 0.1, 'off_seconds': 0.1}), ('message_id', '2017-01-27 09:55:35.654300'), ('receiver', 'NodeMCU_f1d30800'), ('reply_to', 'client_366'), ('sender', 'client_366'), ('type', 'command')])\n",
      "\n"
     ]
    }
   ],
   "source": [
    "print ('\\n[______________ Sending messages ______________]\\n')\n",
    "                \n",
    "results = []\n",
    "\n",
    "## send out the messages\n",
    "for message in messages.values():\n",
    "    for remote_node in remote_nodes:\n",
    "        if remote_node != the_client.node.worker.name:  # exclude client self\n",
    "            formatted_message, asynch_result = the_client.request(remote_node, message) \n",
    "            results.append((formatted_message, asynch_result))"
   ]
  },
  {
   "cell_type": "markdown",
   "metadata": {},
   "source": [
    "### Actually get the results"
   ]
  },
  {
   "cell_type": "code",
   "execution_count": 15,
   "metadata": {
    "collapsed": false
   },
   "outputs": [
    {
     "name": "stdout",
     "output_type": "stream",
     "text": [
      "\n",
      "[_________ Wait few seconds for reply _________]\n",
      "\n",
      "\n",
      "Data received: 322 bytes\n",
      "Message:\n",
      "OrderedDict([('correlation_id', '2017-01-27 09:55:35.531900'), ('message_id', '6961703'), ('receiver', 'client_366'), ('reply_to', 'NodeMCU_1dsc000'), ('result', [[5, 1], [12, 1], [13, 1], [14, 1], [15, 0], [16, 0]]), ('sender', 'NodeMCU_1dsc000'), ('time_stamp', '2017-01-27 09:55:35.908700'), ('type', 'result')])\n",
      "\n",
      "\n",
      "[Result for request]:\n",
      "___Request___:\n",
      "{'receiver': 'NodeMCU_1dsc000', 'message_id': '2017-01-27 09:55:35.531900', 'result': None, 'need_result': True, 'correlation_id': '2017-01-27 09:55:35.531900', 'type': 'command', 'reply_to': 'client_366', 'command': 'read GPIOs', 'sender': 'client_366'}\n",
      "___Result____:\n",
      "[[5, 1], [12, 1], [13, 1], [14, 1], [15, 0], [16, 0]]\n",
      "\n",
      "\n",
      "Data received: 322 bytes\n",
      "Message:\n",
      "OrderedDict([('correlation_id', '2017-01-27 09:55:35.569900'), ('message_id', '29265'), ('receiver', 'client_366'), ('reply_to', 'NodeMCU_f1d30800'), ('result', [[5, 0], [12, 1], [13, 1], [14, 1], [15, 0], [16, 1]]), ('sender', 'NodeMCU_f1d30800'), ('time_stamp', '2017-01-27 09:55:35.968500'), ('type', 'result')])\n",
      "\n",
      "\n",
      "[Result for request]:\n",
      "___Request___:\n",
      "{'receiver': 'NodeMCU_f1d30800', 'message_id': '2017-01-27 09:55:35.569900', 'result': None, 'need_result': True, 'correlation_id': '2017-01-27 09:55:35.569900', 'type': 'command', 'reply_to': 'client_366', 'command': 'read GPIOs', 'sender': 'client_366'}\n",
      "___Result____:\n",
      "[[5, 0], [12, 1], [13, 1], [14, 1], [15, 0], [16, 1]]\n",
      "\n"
     ]
    }
   ],
   "source": [
    "# collect and print results        \n",
    "print('\\n[_________ Wait few seconds for reply _________]\\n')\n",
    "\n",
    "for (message, result) in results:\n",
    "    try:\n",
    "        if message.get('need_result'):\n",
    "            print('\\n[Result for request]:\\n___Request___:\\n{0}\\n___Result____:\\n{1}\\n'.format(message, result.get() if result else None))\n",
    "    except Exception as e:\n",
    "        print('\\n[{}]\\nMessage:\\n{}'.format(e, message))"
   ]
  },
  {
   "cell_type": "markdown",
   "metadata": {},
   "source": [
    "### Stop the demo"
   ]
  },
  {
   "cell_type": "code",
   "execution_count": 16,
   "metadata": {
    "collapsed": false
   },
   "outputs": [
    {
     "name": "stdout",
     "output_type": "stream",
     "text": [
      "\n",
      "[________________ Demo stopped ________________]\n",
      "\n"
     ]
    }
   ],
   "source": [
    "# Stopping\n",
    "the_client.stop()\n",
    "the_client = None\n",
    "print ('\\n[________________ Demo stopped ________________]\\n')"
   ]
  },
  {
   "cell_type": "code",
   "execution_count": null,
   "metadata": {
    "collapsed": true
   },
   "outputs": [],
   "source": []
  }
 ],
 "metadata": {
  "anaconda-cloud": {},
  "kernelspec": {
   "display_name": "Python [default]",
   "language": "python",
   "name": "python3"
  },
  "language_info": {
   "codemirror_mode": {
    "name": "ipython",
    "version": 3
   },
   "file_extension": ".py",
   "mimetype": "text/x-python",
   "name": "python",
   "nbconvert_exporter": "python",
   "pygments_lexer": "ipython3",
   "version": "3.5.1"
  }
 },
 "nbformat": 4,
 "nbformat_minor": 0
}
