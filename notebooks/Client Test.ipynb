{
 "cells": [
  {
   "cell_type": "markdown",
   "metadata": {},
   "source": [
    "# Client Test"
   ]
  },
  {
   "cell_type": "code",
   "execution_count": 56,
   "metadata": {
    "collapsed": false
   },
   "outputs": [],
   "source": [
    "import os\n",
    "import sys\n",
    "import time\n",
    " \n",
    "sys.path.append(os.path.abspath(os.path.join(os.path.pardir, 'codes', 'client')))\n",
    "sys.path.append(os.path.abspath(os.path.join(os.path.pardir, 'codes', 'node')))\n",
    "sys.path.append(os.path.abspath(os.path.join(os.path.pardir, 'codes', 'shared')))\n",
    "sys.path.append(os.path.abspath(os.path.join(os.path.pardir, 'codes', 'micropython')))\n",
    " \n",
    "import client\n",
    "from collections import OrderedDict"
   ]
  },
  {
   "cell_type": "markdown",
   "metadata": {},
   "source": [
    "### Start client"
   ]
  },
  {
   "cell_type": "code",
   "execution_count": 57,
   "metadata": {
    "collapsed": false
   },
   "outputs": [
    {
     "name": "stdout",
     "output_type": "stream",
     "text": [
      "My name is Client_366\n",
      "\n",
      "[Connected: ('192.168.0.100', 9662)]\n",
      "Sending 305 bytes\n",
      "Message:\n",
      "OrderedDict([('command', 'set connection name'), ('correlation_id', '2017-02-01 00:26:28.374100'), ('kwargs', {'name': 'Client_366'}), ('message_id', '2017-02-01 00:26:28.374100'), ('need_result', True), ('receiver', 'Hub'), ('reply_to', 'Client_366'), ('sender', 'Client_366'), ('type', 'command')])\n",
      "\n"
     ]
    }
   ],
   "source": [
    "the_client = client.Client()\n",
    "the_client.start()"
   ]
  },
  {
   "cell_type": "markdown",
   "metadata": {},
   "source": [
    "### Prepare messages"
   ]
  },
  {
   "cell_type": "code",
   "execution_count": 58,
   "metadata": {
    "collapsed": false
   },
   "outputs": [
    {
     "name": "stdout",
     "output_type": "stream",
     "text": [
      "[Listen to messages]\n",
      "\n",
      "Data received: 399 bytes\n",
      "Message:\n",
      "OrderedDict([('correlation_id', '2017-02-01 00:26:28.374100'), ('message_id', '2017-02-01 00:26:28.434100'), ('receiver', 'Client_366'), ('reply_to', 'Hub'), ('result', {'Client_366': \"('192.168.0.100', 57152)\", 'NodeMCU_1dsc000': \"('192.168.0.101', 1388)\", 'NodeMCU_f1d30800': \"('192.168.0.103', 5637)\"}), ('sender', 'Hub'), ('time_stamp', '2017-02-01 00:26:28.434100'), ('type', 'result')])\n",
      "\n"
     ]
    }
   ],
   "source": [
    "messages = OrderedDict()\n",
    "\n",
    "messages['read_GPIOs'] = {'type': 'command',\n",
    "                          'command': 'read GPIOs',\n",
    "                          'kwargs': {'pins': (5, 12, 13, 14, 15, 16)},\n",
    "                          'need_result': True}\n",
    "\n",
    "messages['blink_led'] = {'type': 'command',\n",
    "                         'command': 'blink led',\n",
    "                         'kwargs': {'times': 10, 'forever': False, 'on_seconds': 0.1, 'off_seconds': 0.1}} "
   ]
  },
  {
   "cell_type": "code",
   "execution_count": 59,
   "metadata": {
    "collapsed": false
   },
   "outputs": [],
   "source": [
    "# messages['write_GPIOs'] = {'type': 'command',\n",
    "                           # 'command': 'write GPIOs',\n",
    "                           # 'kwargs': {'pins_and_values': [(2, 0), (2, 1), (2, 0),]}} \n",
    "\n",
    "# messages['test eval'] = {'type': 'eval',\n",
    "                         # 'to_evaluate': '2+3',\n",
    "                         # 'need_result': True}                                   \n",
    "\n",
    "# messages['test exec'] = {'type': 'exec',\n",
    "                         # 'to_exec': 'print(\"Testing exec !\")'}\n",
    "\n",
    "# with open('script_to_deploy.py') as f:\n",
    "    # script = f.read()        \n",
    "# messages['test upload script'] = {'type': 'script', \n",
    "                                  # 'script': script} "
   ]
  },
  {
   "cell_type": "markdown",
   "metadata": {},
   "source": [
    "### Ask Hub for a list of connected nodes"
   ]
  },
  {
   "cell_type": "code",
   "execution_count": 60,
   "metadata": {
    "collapsed": false
   },
   "outputs": [],
   "source": [
    "while not the_client.status['Is connected']:            \n",
    "    time.sleep(1)\n",
    "    print('Node not ready yet.')"
   ]
  },
  {
   "cell_type": "code",
   "execution_count": 61,
   "metadata": {
    "collapsed": false
   },
   "outputs": [
    {
     "name": "stdout",
     "output_type": "stream",
     "text": [
      "Sending 276 bytes\n",
      "Message:\n",
      "OrderedDict([('command', 'list connections by name'), ('correlation_id', '2017-02-01 00:26:28.890100'), ('message_id', '2017-02-01 00:26:28.890100'), ('need_result', True), ('receiver', 'Hub'), ('reply_to', 'Client_366'), ('sender', 'Client_366'), ('type', 'command')])\n",
      "\n",
      "\n",
      "Data received: 399 bytes\n",
      "Message:\n",
      "OrderedDict([('correlation_id', '2017-02-01 00:26:28.890100'), ('message_id', '2017-02-01 00:26:28.952500'), ('receiver', 'Client_366'), ('reply_to', 'Hub'), ('result', {'Client_366': \"('192.168.0.100', 57152)\", 'NodeMCU_1dsc000': \"('192.168.0.101', 1388)\", 'NodeMCU_f1d30800': \"('192.168.0.103', 5637)\"}), ('sender', 'Hub'), ('time_stamp', '2017-02-01 00:26:28.952500'), ('type', 'result')])\n",
      "\n",
      "\n",
      "[____________ Connected nodes ____________]\n",
      "\n",
      "\n",
      "Connected nodes:\n",
      "['Client_366', 'NodeMCU_1dsc000', 'NodeMCU_f1d30800']\n",
      "\n"
     ]
    }
   ],
   "source": [
    "message = {'type': 'command',\n",
    "                   'command': 'list connections by name',\n",
    "                   'need_result': True}     \n",
    "\n",
    "_, asynch_result = the_client.request('Hub', message) \n",
    "\n",
    "try:\n",
    "    remote_nodes = sorted(list(asynch_result.get().keys()))\n",
    "\n",
    "    print ('\\n[____________ Connected nodes ____________]\\n')        \n",
    "    print('\\nConnected nodes:\\n{}\\n'.format(remote_nodes)) \n",
    "    \n",
    "except Exception as e:\n",
    "    print(e)"
   ]
  },
  {
   "cell_type": "markdown",
   "metadata": {},
   "source": [
    "### Read one GPIO pin"
   ]
  },
  {
   "cell_type": "code",
   "execution_count": 62,
   "metadata": {
    "collapsed": false
   },
   "outputs": [
    {
     "name": "stdout",
     "output_type": "stream",
     "text": [
      "Sending 314 bytes\n",
      "Message:\n",
      "OrderedDict([('command', 'read GPIOs'), ('correlation_id', '2017-02-01 00:26:29.080100'), ('kwargs', {'pins': (5, 12, 13, 14, 15, 16)}), ('message_id', '2017-02-01 00:26:29.080100'), ('need_result', True), ('receiver', 'Client_366'), ('reply_to', 'Client_366'), ('sender', 'Client_366'), ('type', 'command')])\n",
      "\n",
      "\n",
      "Data received: 358 bytes\n",
      "Message:\n",
      "OrderedDict([('command', 'read GPIOs'), ('correlation_id', '2017-02-01 00:26:29.080100'), ('kwargs', {'pins': [5, 12, 13, 14, 15, 16]}), ('message_id', '2017-02-01 00:26:29.080100'), ('need_result', True), ('receiver', 'Client_366'), ('reply_to', 'Client_366'), ('sender', 'Client_366'), ('time_stamp', '2017-02-01 00:26:29.124100'), ('type', 'command')])\n",
      "\n",
      "\n",
      "Processed result:\n",
      "OrderedDict([('correlation_id', '2017-02-01 00:26:29.080100'), ('message_id', '2017-02-01 00:26:29.193300'), ('receiver', 'Client_366'), ('reply_to', 'Client_366'), ('sender', 'Client_366'), ('type', 'result')])\n",
      "\n",
      "Sending 222 bytes\n",
      "Message:\n",
      "OrderedDict([('correlation_id', '2017-02-01 00:26:29.080100'), ('message_id', '2017-02-01 00:26:29.193300'), ('receiver', 'Client_366'), ('reply_to', 'Client_366'), ('sender', 'Client_366'), ('type', 'result')])\n",
      "\n",
      "\n",
      "Data received: 266 bytes\n",
      "Message:\n",
      "OrderedDict([('correlation_id', '2017-02-01 00:26:29.080100'), ('message_id', '2017-02-01 00:26:29.193300'), ('receiver', 'Client_366'), ('reply_to', 'Client_366'), ('sender', 'Client_366'), ('time_stamp', '2017-02-01 00:26:29.238500'), ('type', 'result')])\n",
      "\n",
      "\n",
      "GPIO status for Client_366: None\n",
      "\n",
      "Sending 319 bytes\n",
      "Message:\n",
      "OrderedDict([('command', 'read GPIOs'), ('correlation_id', '2017-02-01 00:26:29.285300'), ('kwargs', {'pins': (5, 12, 13, 14, 15, 16)}), ('message_id', '2017-02-01 00:26:29.285300'), ('need_result', True), ('receiver', 'NodeMCU_1dsc000'), ('reply_to', 'Client_366'), ('sender', 'Client_366'), ('type', 'command')])\n",
      "\n",
      "\n",
      "Data received: 320 bytes\n",
      "Message:\n",
      "OrderedDict([('correlation_id', '2017-02-01 00:26:29.285300'), ('message_id', '45886'), ('receiver', 'Client_366'), ('reply_to', 'NodeMCU_1dsc000'), ('result', [[5, 0], [12, 1], [13, 1], [14, 1], [15, 0], [16, 0]]), ('sender', 'NodeMCU_1dsc000'), ('time_stamp', '2017-02-01 00:26:29.548700'), ('type', 'result')])\n",
      "\n",
      "\n",
      "GPIO status for NodeMCU_1dsc000: [[5, 0], [12, 1], [13, 1], [14, 1], [15, 0], [16, 0]]\n",
      "\n",
      "Sending 320 bytes\n",
      "Message:\n",
      "OrderedDict([('command', 'read GPIOs'), ('correlation_id', '2017-02-01 00:26:29.611100'), ('kwargs', {'pins': (5, 12, 13, 14, 15, 16)}), ('message_id', '2017-02-01 00:26:29.611100'), ('need_result', True), ('receiver', 'NodeMCU_f1d30800'), ('reply_to', 'Client_366'), ('sender', 'Client_366'), ('type', 'command')])\n",
      "\n",
      "\n",
      "Data received: 325 bytes\n",
      "Message:\n",
      "OrderedDict([('correlation_id', '2017-02-01 00:26:29.611100'), ('message_id', '15119466'), ('receiver', 'Client_366'), ('reply_to', 'NodeMCU_f1d30800'), ('result', [[5, 0], [12, 1], [13, 1], [14, 1], [15, 0], [16, 1]]), ('sender', 'NodeMCU_f1d30800'), ('time_stamp', '2017-02-01 00:26:29.876300'), ('type', 'result')])\n",
      "\n",
      "\n",
      "GPIO status for NodeMCU_f1d30800: [[5, 0], [12, 1], [13, 1], [14, 1], [15, 0], [16, 1]]\n",
      "\n"
     ]
    }
   ],
   "source": [
    "for remote_node in remote_nodes:\n",
    "    _, result = the_client.request(remote_node, messages['read_GPIOs'] ) \n",
    "    print('\\nGPIO status for {}: {}\\n'.format(remote_node, result.get()))"
   ]
  },
  {
   "cell_type": "markdown",
   "metadata": {},
   "source": [
    "### Blink each node"
   ]
  },
  {
   "cell_type": "code",
   "execution_count": 63,
   "metadata": {
    "collapsed": false
   },
   "outputs": [
    {
     "name": "stdout",
     "output_type": "stream",
     "text": [
      "Sending 329 bytes\n",
      "Message:\n",
      "OrderedDict([('command', 'blink led'), ('correlation_id', '2017-02-01 00:26:29.979100'), ('kwargs', {'on_seconds': 0.1, 'forever': False, 'times': 10, 'off_seconds': 0.1}), ('message_id', '2017-02-01 00:26:29.979100'), ('receiver', 'Client_366'), ('reply_to', 'Client_366'), ('sender', 'Client_366'), ('type', 'command')])\n",
      "\n",
      "\n",
      "Data received: 373 bytes\n",
      "Message:\n",
      "OrderedDict([('command', 'blink led'), ('correlation_id', '2017-02-01 00:26:29.979100'), ('kwargs', {'forever': False, 'off_seconds': 0.1, 'times': 10, 'on_seconds': 0.1}), ('message_id', '2017-02-01 00:26:29.979100'), ('receiver', 'Client_366'), ('reply_to', 'Client_366'), ('sender', 'Client_366'), ('time_stamp', '2017-02-01 00:26:30.044100'), ('type', 'command')])\n",
      "\n",
      "Sending 334 bytes\n",
      "Message:\n",
      "OrderedDict([('command', 'blink led'), ('correlation_id', '2017-02-01 00:26:30.025100'), ('kwargs', {'on_seconds': 0.1, 'forever': False, 'times': 10, 'off_seconds': 0.1}), ('message_id', '2017-02-01 00:26:30.025100'), ('receiver', 'NodeMCU_1dsc000'), ('reply_to', 'Client_366'), ('sender', 'Client_366'), ('type', 'command')])\n",
      "\n",
      "Sending 335 bytes\n",
      "Message:\n",
      "OrderedDict([('command', 'blink led'), ('correlation_id', '2017-02-01 00:26:30.088300'), ('kwargs', {'on_seconds': 0.1, 'forever': False, 'times': 10, 'off_seconds': 0.1}), ('message_id', '2017-02-01 00:26:30.088300'), ('receiver', 'NodeMCU_f1d30800'), ('reply_to', 'Client_366'), ('sender', 'Client_366'), ('type', 'command')])\n",
      "\n"
     ]
    }
   ],
   "source": [
    "# remote_node = 'NodeMCU_|edca00'\n",
    "# the_client.request(remote_node, messages['blink_led']) \n",
    "\n",
    "for remote_node in remote_nodes:\n",
    "    the_client.request(remote_node, messages['blink_led']) "
   ]
  },
  {
   "cell_type": "markdown",
   "metadata": {},
   "source": [
    "### Send out messages and get asynchonous results"
   ]
  },
  {
   "cell_type": "code",
   "execution_count": 64,
   "metadata": {
    "collapsed": false
   },
   "outputs": [
    {
     "name": "stdout",
     "output_type": "stream",
     "text": [
      "\n",
      "[______________ Sending messages ______________]\n",
      "\n",
      "Sending 319 bytes\n",
      "Message:\n",
      "OrderedDict([('command', 'read GPIOs'), ('correlation_id', '2017-02-01 00:26:30.223300'), ('kwargs', {'pins': (5, 12, 13, 14, 15, 16)}), ('message_id', '2017-02-01 00:26:30.223300'), ('need_result', True), ('receiver', 'NodeMCU_1dsc000'), ('reply_to', 'Client_366'), ('sender', 'Client_366'), ('type', 'command')])\n",
      "\n",
      "Sending 320 bytes\n",
      "Message:\n",
      "OrderedDict([('command', 'read GPIOs'), ('correlation_id', '2017-02-01 00:26:30.254500'), ('kwargs', {'pins': (5, 12, 13, 14, 15, 16)}), ('message_id', '2017-02-01 00:26:30.254500'), ('need_result', True), ('receiver', 'NodeMCU_f1d30800'), ('reply_to', 'Client_366'), ('sender', 'Client_366'), ('type', 'command')])\n",
      "\n",
      "Sending 334 bytes\n",
      "Message:\n",
      "OrderedDict([('command', 'blink led'), ('correlation_id', '2017-02-01 00:26:30.301300'), ('kwargs', {'on_seconds': 0.1, 'forever': False, 'times': 10, 'off_seconds': 0.1}), ('message_id', '2017-02-01 00:26:30.301300'), ('receiver', 'NodeMCU_1dsc000'), ('reply_to', 'Client_366'), ('sender', 'Client_366'), ('type', 'command')])\n",
      "\n",
      "Sending 335 bytes\n",
      "Message:\n",
      "OrderedDict([('command', 'blink led'), ('correlation_id', '2017-02-01 00:26:30.332500'), ('kwargs', {'on_seconds': 0.1, 'forever': False, 'times': 10, 'off_seconds': 0.1}), ('message_id', '2017-02-01 00:26:30.332500'), ('receiver', 'NodeMCU_f1d30800'), ('reply_to', 'Client_366'), ('sender', 'Client_366'), ('type', 'command')])\n",
      "\n"
     ]
    }
   ],
   "source": [
    "print ('\\n[______________ Sending messages ______________]\\n')\n",
    "                \n",
    "results = []\n",
    "\n",
    "## send out the messages\n",
    "for message in messages.values():\n",
    "    for remote_node in remote_nodes:\n",
    "        if remote_node != the_client.node.worker.name:  # exclude client self\n",
    "            formatted_message, asynch_result = the_client.request(remote_node, message) \n",
    "            results.append((formatted_message, asynch_result))"
   ]
  },
  {
   "cell_type": "markdown",
   "metadata": {},
   "source": [
    "### Actually get the results"
   ]
  },
  {
   "cell_type": "code",
   "execution_count": 65,
   "metadata": {
    "collapsed": false
   },
   "outputs": [
    {
     "name": "stdout",
     "output_type": "stream",
     "text": [
      "\n",
      "[_________ Wait few seconds for reply _________]\n",
      "\n",
      "\n",
      "Data received: 320 bytes\n",
      "Message:\n",
      "OrderedDict([('correlation_id', '2017-02-01 00:26:30.223300'), ('message_id', '48671'), ('receiver', 'Client_366'), ('reply_to', 'NodeMCU_1dsc000'), ('result', [[5, 0], [12, 1], [13, 1], [14, 1], [15, 0], [16, 0]]), ('sender', 'NodeMCU_1dsc000'), ('time_stamp', '2017-02-01 00:26:32.316100'), ('type', 'result')])\n",
      "\n",
      "\n",
      "[Result for request]:\n",
      "___Request___:\n",
      "{'correlation_id': '2017-02-01 00:26:30.223300', 'sender': 'Client_366', 'type': 'command', 'need_result': True, 'kwargs': {'pins': (5, 12, 13, 14, 15, 16)}, 'receiver': 'NodeMCU_1dsc000', 'command': 'read GPIOs', 'reply_to': 'Client_366', 'message_id': '2017-02-01 00:26:30.223300'}\n",
      "___Result____:\n",
      "[[5, 0], [12, 1], [13, 1], [14, 1], [15, 0], [16, 0]]\n",
      "\n",
      "\n",
      "Data received: 325 bytes\n",
      "Message:\n",
      "OrderedDict([('correlation_id', '2017-02-01 00:26:30.254500'), ('message_id', '15121973'), ('receiver', 'Client_366'), ('reply_to', 'NodeMCU_f1d30800'), ('result', [[5, 0], [12, 1], [13, 1], [14, 1], [15, 0], [16, 1]]), ('sender', 'NodeMCU_f1d30800'), ('time_stamp', '2017-02-01 00:26:32.378500'), ('type', 'result')])\n",
      "\n",
      "\n",
      "[Result for request]:\n",
      "___Request___:\n",
      "{'correlation_id': '2017-02-01 00:26:30.254500', 'sender': 'Client_366', 'type': 'command', 'need_result': True, 'kwargs': {'pins': (5, 12, 13, 14, 15, 16)}, 'receiver': 'NodeMCU_f1d30800', 'command': 'read GPIOs', 'reply_to': 'Client_366', 'message_id': '2017-02-01 00:26:30.254500'}\n",
      "___Result____:\n",
      "[[5, 0], [12, 1], [13, 1], [14, 1], [15, 0], [16, 1]]\n",
      "\n"
     ]
    }
   ],
   "source": [
    "# collect and print results        \n",
    "print('\\n[_________ Wait few seconds for reply _________]\\n')\n",
    "\n",
    "for (message, result) in results:\n",
    "    try:\n",
    "        if message.get('need_result'):\n",
    "            print('\\n[Result for request]:\\n___Request___:\\n{0}\\n___Result____:\\n{1}\\n'.format(message, result.get() if result else None))\n",
    "    except Exception as e:\n",
    "        print('\\n[{}]\\nMessage:\\n{}'.format(e, message))"
   ]
  },
  {
   "cell_type": "markdown",
   "metadata": {},
   "source": [
    "### Stop the demo"
   ]
  },
  {
   "cell_type": "code",
   "execution_count": 66,
   "metadata": {
    "collapsed": false
   },
   "outputs": [
    {
     "name": "stdout",
     "output_type": "stream",
     "text": [
      "\n",
      "[________________ Demo stopped ________________]\n",
      "\n"
     ]
    }
   ],
   "source": [
    "# Stopping\n",
    "the_client.stop()\n",
    "the_client = None\n",
    "print ('\\n[________________ Demo stopped ________________]\\n')"
   ]
  }
 ],
 "metadata": {
  "anaconda-cloud": {},
  "kernelspec": {
   "display_name": "Python [default]",
   "language": "python",
   "name": "python3"
  },
  "language_info": {
   "codemirror_mode": {
    "name": "ipython",
    "version": 3
   },
   "file_extension": ".py",
   "mimetype": "text/x-python",
   "name": "python",
   "nbconvert_exporter": "python",
   "pygments_lexer": "ipython3",
   "version": "3.5.1"
  }
 },
 "nbformat": 4,
 "nbformat_minor": 0
}
