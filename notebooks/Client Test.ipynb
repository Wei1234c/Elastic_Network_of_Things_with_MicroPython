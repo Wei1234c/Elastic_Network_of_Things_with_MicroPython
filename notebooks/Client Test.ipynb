{
 "cells": [
  {
   "cell_type": "markdown",
   "metadata": {},
   "source": [
    "# Client Test"
   ]
  },
  {
   "cell_type": "code",
   "execution_count": 21,
   "metadata": {
    "collapsed": false
   },
   "outputs": [],
   "source": [
    "import os\n",
    "import sys\n",
    "import time\n",
    " \n",
    "sys.path.append(os.path.abspath(os.path.join(os.path.pardir, 'codes', 'client')))\n",
    "sys.path.append(os.path.abspath(os.path.join(os.path.pardir, 'codes', 'node')))\n",
    "sys.path.append(os.path.abspath(os.path.join(os.path.pardir, 'codes', 'shared')))\n",
    "sys.path.append(os.path.abspath(os.path.join(os.path.pardir, 'codes', 'micropython')))\n",
    " \n",
    "import client\n",
    "from collections import OrderedDict"
   ]
  },
  {
   "cell_type": "markdown",
   "metadata": {},
   "source": [
    "### Start client"
   ]
  },
  {
   "cell_type": "code",
   "execution_count": 22,
   "metadata": {
    "collapsed": false
   },
   "outputs": [
    {
     "name": "stdout",
     "output_type": "stream",
     "text": [
      "My name is Client_366\n",
      "\n",
      "[connected: ('192.168.0.105', 9662)]\n",
      "Sending 305 bytes\n",
      "Message:\n",
      "OrderedDict([('command', 'set connection name'), ('correlation_id', '2017-01-29 21:57:00.547700'), ('kwargs', {'name': 'Client_366'}), ('message_id', '2017-01-29 21:57:00.547700'), ('need_result', True), ('receiver', 'Hub'), ('reply_to', 'Client_366'), ('sender', 'Client_366'), ('type', 'command')])\n",
      "\n",
      "[Listen to messages]\n"
     ]
    }
   ],
   "source": [
    "the_client = client.Client()\n",
    "the_client.start()"
   ]
  },
  {
   "cell_type": "markdown",
   "metadata": {},
   "source": [
    "### Prepare messages"
   ]
  },
  {
   "cell_type": "code",
   "execution_count": 23,
   "metadata": {
    "collapsed": false
   },
   "outputs": [],
   "source": [
    "messages = OrderedDict()\n",
    "\n",
    "messages['read_GPIOs'] = {'type': 'command',\n",
    "                          'command': 'read GPIOs',\n",
    "                          'need_result': True}\n",
    "\n",
    "messages['blink_led'] = {'type': 'command',\n",
    "                         'command': 'blink led',\n",
    "                         'kwargs': {'times': 10, 'forever': False, 'on_seconds': 0.1, 'off_seconds': 0.1}} "
   ]
  },
  {
   "cell_type": "code",
   "execution_count": 24,
   "metadata": {
    "collapsed": false
   },
   "outputs": [
    {
     "name": "stdout",
     "output_type": "stream",
     "text": [
      "\n",
      "Data received: 400 bytes\n",
      "Message:\n",
      "OrderedDict([('correlation_id', '2017-01-29 21:57:00.547700'), ('message_id', '2017-01-29 21:57:00.639700'), ('receiver', 'Client_366'), ('reply_to', 'Hub'), ('result', {'NodeMCU_1dsc000': \"('192.168.0.104', 18507)\", 'NodeMCU_f1d30800': \"('192.168.0.103', 5703)\", 'Client_366': \"('192.168.0.105', 51426)\"}), ('sender', 'Hub'), ('time_stamp', '2017-01-29 21:57:00.639700'), ('type', 'result')])\n",
      "\n"
     ]
    }
   ],
   "source": [
    "# messages['write_GPIOs'] = {'type': 'command',\n",
    "                           # 'command': 'write GPIOs',\n",
    "                           # 'kwargs': {'pins_and_values': [(2, 0), (2, 1), (2, 0),]}} \n",
    "\n",
    "# messages['test eval'] = {'type': 'eval',\n",
    "                         # 'to_evaluate': '2+3',\n",
    "                         # 'need_result': True}                                   \n",
    "\n",
    "# messages['test exec'] = {'type': 'exec',\n",
    "                         # 'to_exec': 'print(\"Testing exec !\")'}\n",
    "\n",
    "# with open('script_to_deploy.py') as f:\n",
    "    # script = f.read()        \n",
    "# messages['test upload script'] = {'type': 'script', \n",
    "                                  # 'script': script} "
   ]
  },
  {
   "cell_type": "markdown",
   "metadata": {},
   "source": [
    "### Ask Hub for a list of connected nodes"
   ]
  },
  {
   "cell_type": "code",
   "execution_count": 25,
   "metadata": {
    "collapsed": false
   },
   "outputs": [],
   "source": [
    "while not the_client.status['Is connected']:            \n",
    "    time.sleep(1)\n",
    "    print('Node not ready yet.')"
   ]
  },
  {
   "cell_type": "code",
   "execution_count": 26,
   "metadata": {
    "collapsed": false
   },
   "outputs": [
    {
     "name": "stdout",
     "output_type": "stream",
     "text": [
      "Sending 276 bytes\n",
      "Message:\n",
      "OrderedDict([('command', 'list connections by name'), ('correlation_id', '2017-01-29 21:57:01.066700'), ('message_id', '2017-01-29 21:57:01.066700'), ('need_result', True), ('receiver', 'Hub'), ('reply_to', 'Client_366'), ('sender', 'Client_366'), ('type', 'command')])\n",
      "\n",
      "\n",
      "Data received: 400 bytes\n",
      "Message:\n",
      "OrderedDict([('correlation_id', '2017-01-29 21:57:01.066700'), ('message_id', '2017-01-29 21:57:01.149700'), ('receiver', 'Client_366'), ('reply_to', 'Hub'), ('result', {'NodeMCU_1dsc000': \"('192.168.0.104', 18507)\", 'NodeMCU_f1d30800': \"('192.168.0.103', 5703)\", 'Client_366': \"('192.168.0.105', 51426)\"}), ('sender', 'Hub'), ('time_stamp', '2017-01-29 21:57:01.149700'), ('type', 'result')])\n",
      "\n",
      "\n",
      "[____________ Connected nodes ____________]\n",
      "\n",
      "\n",
      "Connected nodes:\n",
      "['Client_366', 'NodeMCU_1dsc000', 'NodeMCU_f1d30800']\n",
      "\n"
     ]
    }
   ],
   "source": [
    "message = {'type': 'command',\n",
    "                   'command': 'list connections by name',\n",
    "                   'need_result': True}     \n",
    "\n",
    "_, asynch_result = the_client.request('Hub', message) \n",
    "\n",
    "try:\n",
    "    remote_nodes = sorted(list(asynch_result.get().keys()))\n",
    "\n",
    "    print ('\\n[____________ Connected nodes ____________]\\n')        \n",
    "    print('\\nConnected nodes:\\n{}\\n'.format(remote_nodes)) \n",
    "    \n",
    "except Exception as e:\n",
    "    print(e)"
   ]
  },
  {
   "cell_type": "markdown",
   "metadata": {},
   "source": [
    "### Blink each node"
   ]
  },
  {
   "cell_type": "code",
   "execution_count": 27,
   "metadata": {
    "collapsed": false
   },
   "outputs": [],
   "source": [
    "# remote_node = 'NodeMCU_|edca00'\n",
    "# the_client.request(remote_node, messages['blink_led']) \n",
    "\n",
    "# for remote_node in remote_nodes:\n",
    "#     the_client.request(remote_node, messages['blink_led']) "
   ]
  },
  {
   "cell_type": "markdown",
   "metadata": {},
   "source": [
    "### Send out messages and get asynchonous results"
   ]
  },
  {
   "cell_type": "code",
   "execution_count": 28,
   "metadata": {
    "collapsed": false
   },
   "outputs": [
    {
     "name": "stdout",
     "output_type": "stream",
     "text": [
      "\n",
      "[______________ Sending messages ______________]\n",
      "\n",
      "Sending 274 bytes\n",
      "Message:\n",
      "OrderedDict([('command', 'read GPIOs'), ('correlation_id', '2017-01-29 21:57:01.378700'), ('message_id', '2017-01-29 21:57:01.378700'), ('need_result', True), ('receiver', 'NodeMCU_1dsc000'), ('reply_to', 'Client_366'), ('sender', 'Client_366'), ('type', 'command')])\n",
      "\n",
      "Sending 275 bytes\n",
      "Message:\n",
      "OrderedDict([('command', 'read GPIOs'), ('correlation_id', '2017-01-29 21:57:01.413700'), ('message_id', '2017-01-29 21:57:01.413700'), ('need_result', True), ('receiver', 'NodeMCU_f1d30800'), ('reply_to', 'Client_366'), ('sender', 'Client_366'), ('type', 'command')])\n",
      "\n",
      "Sending 334 bytes\n",
      "Message:\n",
      "OrderedDict([('command', 'blink led'), ('correlation_id', '2017-01-29 21:57:01.457700'), ('kwargs', {'times': 10, 'on_seconds': 0.1, 'forever': False, 'off_seconds': 0.1}), ('message_id', '2017-01-29 21:57:01.457700'), ('receiver', 'NodeMCU_1dsc000'), ('reply_to', 'Client_366'), ('sender', 'Client_366'), ('type', 'command')])\n",
      "\n",
      "Sending 335 bytes\n",
      "Message:\n",
      "OrderedDict([('command', 'blink led'), ('correlation_id', '2017-01-29 21:57:01.503700'), ('kwargs', {'times': 10, 'on_seconds': 0.1, 'forever': False, 'off_seconds': 0.1}), ('message_id', '2017-01-29 21:57:01.503700'), ('receiver', 'NodeMCU_f1d30800'), ('reply_to', 'Client_366'), ('sender', 'Client_366'), ('type', 'command')])\n",
      "\n"
     ]
    }
   ],
   "source": [
    "print ('\\n[______________ Sending messages ______________]\\n')\n",
    "                \n",
    "results = []\n",
    "\n",
    "## send out the messages\n",
    "for message in messages.values():\n",
    "    for remote_node in remote_nodes:\n",
    "        if remote_node != the_client.node.worker.name:  # exclude client self\n",
    "            formatted_message, asynch_result = the_client.request(remote_node, message) \n",
    "            results.append((formatted_message, asynch_result))"
   ]
  },
  {
   "cell_type": "markdown",
   "metadata": {},
   "source": [
    "### Actually get the results"
   ]
  },
  {
   "cell_type": "code",
   "execution_count": 29,
   "metadata": {
    "collapsed": false
   },
   "outputs": [
    {
     "name": "stdout",
     "output_type": "stream",
     "text": [
      "\n",
      "[_________ Wait few seconds for reply _________]\n",
      "\n",
      "\n",
      "Data received: 320 bytes\n",
      "Message:\n",
      "OrderedDict([('correlation_id', '2017-01-29 21:57:01.378700'), ('message_id', '46340'), ('receiver', 'Client_366'), ('reply_to', 'NodeMCU_1dsc000'), ('result', [[5, 1], [12, 1], [13, 1], [14, 1], [15, 0], [16, 0]]), ('sender', 'NodeMCU_1dsc000'), ('time_stamp', '2017-01-29 21:57:01.667700'), ('type', 'result')])\n",
      "\n",
      "\n",
      "[Result for request]:\n",
      "___Request___:\n",
      "{'sender': 'Client_366', 'message_id': '2017-01-29 21:57:01.378700', 'correlation_id': '2017-01-29 21:57:01.378700', 'need_result': True, 'reply_to': 'Client_366', 'command': 'read GPIOs', 'type': 'command', 'receiver': 'NodeMCU_1dsc000'}\n",
      "___Result____:\n",
      "[[5, 1], [12, 1], [13, 1], [14, 1], [15, 0], [16, 0]]\n",
      "\n",
      "\n",
      "Data received: 323 bytes\n",
      "Message:\n",
      "OrderedDict([('correlation_id', '2017-01-29 21:57:01.413700'), ('message_id', '225576'), ('receiver', 'Client_366'), ('reply_to', 'NodeMCU_f1d30800'), ('result', [[5, 0], [12, 1], [13, 1], [14, 1], [15, 0], [16, 1]]), ('sender', 'NodeMCU_f1d30800'), ('time_stamp', '2017-01-29 21:57:01.722700'), ('type', 'result')])\n",
      "\n",
      "\n",
      "[Result for request]:\n",
      "___Request___:\n",
      "{'sender': 'Client_366', 'message_id': '2017-01-29 21:57:01.413700', 'correlation_id': '2017-01-29 21:57:01.413700', 'need_result': True, 'reply_to': 'Client_366', 'command': 'read GPIOs', 'type': 'command', 'receiver': 'NodeMCU_f1d30800'}\n",
      "___Result____:\n",
      "[[5, 0], [12, 1], [13, 1], [14, 1], [15, 0], [16, 1]]\n",
      "\n"
     ]
    }
   ],
   "source": [
    "# collect and print results        \n",
    "print('\\n[_________ Wait few seconds for reply _________]\\n')\n",
    "\n",
    "for (message, result) in results:\n",
    "    try:\n",
    "        if message.get('need_result'):\n",
    "            print('\\n[Result for request]:\\n___Request___:\\n{0}\\n___Result____:\\n{1}\\n'.format(message, result.get() if result else None))\n",
    "    except Exception as e:\n",
    "        print('\\n[{}]\\nMessage:\\n{}'.format(e, message))"
   ]
  },
  {
   "cell_type": "markdown",
   "metadata": {},
   "source": [
    "### Stop the demo"
   ]
  },
  {
   "cell_type": "code",
   "execution_count": 30,
   "metadata": {
    "collapsed": false
   },
   "outputs": [
    {
     "name": "stdout",
     "output_type": "stream",
     "text": [
      "\n",
      "[________________ Demo stopped ________________]\n",
      "\n"
     ]
    }
   ],
   "source": [
    "# Stopping\n",
    "the_client.stop()\n",
    "the_client = None\n",
    "print ('\\n[________________ Demo stopped ________________]\\n')"
   ]
  },
  {
   "cell_type": "code",
   "execution_count": null,
   "metadata": {
    "collapsed": true
   },
   "outputs": [],
   "source": []
  }
 ],
 "metadata": {
  "anaconda-cloud": {},
  "kernelspec": {
   "display_name": "Python [default]",
   "language": "python",
   "name": "python3"
  },
  "language_info": {
   "codemirror_mode": {
    "name": "ipython",
    "version": 3
   },
   "file_extension": ".py",
   "mimetype": "text/x-python",
   "name": "python",
   "nbconvert_exporter": "python",
   "pygments_lexer": "ipython3",
   "version": "3.5.1"
  }
 },
 "nbformat": 4,
 "nbformat_minor": 0
}
